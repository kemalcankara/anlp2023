{
 "cells": [
  {
   "attachments": {},
   "cell_type": "markdown",
   "metadata": {},
   "source": [
    "dsas\n"
   ]
  },
  {
   "cell_type": "code",
   "execution_count": 40,
   "metadata": {},
   "outputs": [],
   "source": [
    "import pandas as pd\n",
    "from bs4 import BeautifulSoup\n",
    "from tqdm import tqdm\n",
    "tqdm.pandas()\n",
    "import numpy as np\n",
    "import nltk\n",
    "from nltk.tokenize import sent_tokenize\n",
    "from nltk import tokenize\n",
    "\n",
    "import numpy as np\n",
    "import pandas as pd\n",
    "import matplotlib.pyplot as plt\n",
    "import seaborn as sns\n",
    "import string\n",
    "import re\n",
    "import nltk\n",
    "\n",
    "from tqdm import trange\n",
    "from nltk import tokenize\n",
    "from nltk.corpus import stopwords\n",
    "from nltk.stem import WordNetLemmatizer\n",
    "from nltk.probability import FreqDist\n",
    "from collections import Counter\n"
   ]
  },
  {
   "cell_type": "code",
   "execution_count": 118,
   "metadata": {},
   "outputs": [
    {
     "name": "stdout",
     "output_type": "stream",
     "text": [
      "(15000, 12)\n"
     ]
    },
    {
     "data": {
      "text/html": [
       "<div>\n",
       "<style scoped>\n",
       "    .dataframe tbody tr th:only-of-type {\n",
       "        vertical-align: middle;\n",
       "    }\n",
       "\n",
       "    .dataframe tbody tr th {\n",
       "        vertical-align: top;\n",
       "    }\n",
       "\n",
       "    .dataframe thead th {\n",
       "        text-align: right;\n",
       "    }\n",
       "</style>\n",
       "<table border=\"1\" class=\"dataframe\">\n",
       "  <thead>\n",
       "    <tr style=\"text-align: right;\">\n",
       "      <th></th>\n",
       "      <th>JobRefNo</th>\n",
       "      <th>DigerPozisyon</th>\n",
       "      <th>Qualifications</th>\n",
       "      <th>Classification</th>\n",
       "      <th>Qualifications_HtmlFree</th>\n",
       "      <th>categorical_label</th>\n",
       "      <th>Length</th>\n",
       "      <th>Word_count</th>\n",
       "      <th>mean_word_length</th>\n",
       "      <th>mean_sent_length</th>\n",
       "      <th>Clean</th>\n",
       "      <th>Clean_lists</th>\n",
       "    </tr>\n",
       "  </thead>\n",
       "  <tbody>\n",
       "    <tr>\n",
       "      <th>0</th>\n",
       "      <td>3464108</td>\n",
       "      <td>Bilgisayar Mühendisi</td>\n",
       "      <td>&lt;p&gt;3464105346410534641053464105346410534641053...</td>\n",
       "      <td>Bilgi Teknolojileri</td>\n",
       "      <td>3464105346410534641053464105346410534641053464...</td>\n",
       "      <td>1</td>\n",
       "      <td>126</td>\n",
       "      <td>1</td>\n",
       "      <td>126.000000</td>\n",
       "      <td>126.0</td>\n",
       "      <td>3464105346410534641053464105346410534641053464...</td>\n",
       "      <td>['34641053464105346410534641053464105346410534...</td>\n",
       "    </tr>\n",
       "    <tr>\n",
       "      <th>1</th>\n",
       "      <td>3464068</td>\n",
       "      <td>Yazılım Geliştirme Elemanı</td>\n",
       "      <td>&lt;p&gt;sskjdkjsdksajl sksakjdlkajdladl dskjlksjlks...</td>\n",
       "      <td>Bilgi Teknolojileri</td>\n",
       "      <td>sskjdkjsdksajl sksakjdlkajdladl dskjlksjlksajl...</td>\n",
       "      <td>1</td>\n",
       "      <td>111</td>\n",
       "      <td>5</td>\n",
       "      <td>21.400000</td>\n",
       "      <td>111.0</td>\n",
       "      <td>sskjdkjsdksajl sksakjdlkajdladl dskjlksjlksajl...</td>\n",
       "      <td>['sskjdkjsdksajl', 'sksakjdlkajdladl', 'dskjlk...</td>\n",
       "    </tr>\n",
       "    <tr>\n",
       "      <th>2</th>\n",
       "      <td>3464018</td>\n",
       "      <td>Grafik Tasarımcı</td>\n",
       "      <td>&lt;p&gt;Şartlar&lt;/p&gt;&lt;p&gt;08.30 - 18.30 arası mesai saa...</td>\n",
       "      <td>Bilgi Teknolojileri</td>\n",
       "      <td>Şartlar 08.30 - 18.30 arası mesai saatleri. Sa...</td>\n",
       "      <td>1</td>\n",
       "      <td>623</td>\n",
       "      <td>81</td>\n",
       "      <td>6.679012</td>\n",
       "      <td>88.0</td>\n",
       "      <td>şartlar 0830 1830 arası mesai saatleri sadece ...</td>\n",
       "      <td>['şartlar', '08', '30', '-', '18', '30', 'aras...</td>\n",
       "    </tr>\n",
       "    <tr>\n",
       "      <th>3</th>\n",
       "      <td>3463995</td>\n",
       "      <td>Full Stack Developer</td>\n",
       "      <td>&lt;p&gt;Yeditek Yeni Dijital Teknolojiler A.Ş.&lt;/p&gt;&lt;...</td>\n",
       "      <td>Bilgi Teknolojileri</td>\n",
       "      <td>Yeditek Yeni Dijital Teknolojiler A.Ş. Yeditek...</td>\n",
       "      <td>1</td>\n",
       "      <td>698</td>\n",
       "      <td>90</td>\n",
       "      <td>6.766667</td>\n",
       "      <td>138.8</td>\n",
       "      <td>yeditek yeni dijital teknolojiler aş yeditek e...</td>\n",
       "      <td>['yeditek', 'yeni', 'dijital', 'teknolojiler',...</td>\n",
       "    </tr>\n",
       "    <tr>\n",
       "      <th>4</th>\n",
       "      <td>3463739</td>\n",
       "      <td>Multimedya Tasarım Uzmanı</td>\n",
       "      <td>&lt;p&gt;Türkiye'de eğitim teknolojileri alanının il...</td>\n",
       "      <td>Bilgi Teknolojileri</td>\n",
       "      <td>Türkiye'de eğitim teknolojileri alanının ilk v...</td>\n",
       "      <td>1</td>\n",
       "      <td>2426</td>\n",
       "      <td>311</td>\n",
       "      <td>6.729904</td>\n",
       "      <td>484.0</td>\n",
       "      <td>türkiyede eğitim teknolojileri alanının ilk ön...</td>\n",
       "      <td>['türkiye', 'eğitim', 'teknolojileri', 'alanın...</td>\n",
       "    </tr>\n",
       "  </tbody>\n",
       "</table>\n",
       "</div>"
      ],
      "text/plain": [
       "   JobRefNo               DigerPozisyon  \\\n",
       "0   3464108        Bilgisayar Mühendisi   \n",
       "1   3464068  Yazılım Geliştirme Elemanı   \n",
       "2   3464018            Grafik Tasarımcı   \n",
       "3   3463995        Full Stack Developer   \n",
       "4   3463739   Multimedya Tasarım Uzmanı   \n",
       "\n",
       "                                      Qualifications       Classification  \\\n",
       "0  <p>3464105346410534641053464105346410534641053...  Bilgi Teknolojileri   \n",
       "1  <p>sskjdkjsdksajl sksakjdlkajdladl dskjlksjlks...  Bilgi Teknolojileri   \n",
       "2  <p>Şartlar</p><p>08.30 - 18.30 arası mesai saa...  Bilgi Teknolojileri   \n",
       "3  <p>Yeditek Yeni Dijital Teknolojiler A.Ş.</p><...  Bilgi Teknolojileri   \n",
       "4  <p>Türkiye'de eğitim teknolojileri alanının il...  Bilgi Teknolojileri   \n",
       "\n",
       "                             Qualifications_HtmlFree  categorical_label  \\\n",
       "0  3464105346410534641053464105346410534641053464...                  1   \n",
       "1  sskjdkjsdksajl sksakjdlkajdladl dskjlksjlksajl...                  1   \n",
       "2  Şartlar 08.30 - 18.30 arası mesai saatleri. Sa...                  1   \n",
       "3  Yeditek Yeni Dijital Teknolojiler A.Ş. Yeditek...                  1   \n",
       "4  Türkiye'de eğitim teknolojileri alanının ilk v...                  1   \n",
       "\n",
       "   Length  Word_count  mean_word_length  mean_sent_length  \\\n",
       "0     126           1        126.000000             126.0   \n",
       "1     111           5         21.400000             111.0   \n",
       "2     623          81          6.679012              88.0   \n",
       "3     698          90          6.766667             138.8   \n",
       "4    2426         311          6.729904             484.0   \n",
       "\n",
       "                                               Clean  \\\n",
       "0  3464105346410534641053464105346410534641053464...   \n",
       "1  sskjdkjsdksajl sksakjdlkajdladl dskjlksjlksajl...   \n",
       "2  şartlar 0830 1830 arası mesai saatleri sadece ...   \n",
       "3  yeditek yeni dijital teknolojiler aş yeditek e...   \n",
       "4  türkiyede eğitim teknolojileri alanının ilk ön...   \n",
       "\n",
       "                                         Clean_lists  \n",
       "0  ['34641053464105346410534641053464105346410534...  \n",
       "1  ['sskjdkjsdksajl', 'sksakjdlkajdladl', 'dskjlk...  \n",
       "2  ['şartlar', '08', '30', '-', '18', '30', 'aras...  \n",
       "3  ['yeditek', 'yeni', 'dijital', 'teknolojiler',...  \n",
       "4  ['türkiye', 'eğitim', 'teknolojileri', 'alanın...  "
      ]
     },
     "execution_count": 118,
     "metadata": {},
     "output_type": "execute_result"
    }
   ],
   "source": [
    "data = pd.read_csv('../../Data/cleanedJobs.csv')\n",
    "print(data.shape)\n",
    "data.head()\n",
    "\n"
   ]
  },
  {
   "attachments": {},
   "cell_type": "markdown",
   "metadata": {},
   "source": [
    "## Lets Code Google Instructions For Text Classification - N-gram Vectorization"
   ]
  },
  {
   "cell_type": "code",
   "execution_count": 99,
   "metadata": {},
   "outputs": [],
   "source": [
    "from sklearn.feature_extraction.text import TfidfVectorizer\n",
    "from sklearn.feature_selection import SelectKBest\n",
    "from sklearn.feature_selection import f_classif\n",
    "\n",
    "### N-gram Vectorization ###\n",
    "##N-gram vectorization is a common technique for text classification.\n",
    "##This technique is used to convert text into vectors of numerical values.\n",
    "def ngram_vectorize(train_texts, train_labels, val_texts, NGRAM_RANGE = (1, 2),TOP_K = 20000\n",
    "                    ,TOKEN_MODE = 'word',MIN_DOCUMENT_FREQUENCY = 2, vForm = 'tfidf'):\n",
    "    \"\"\"\n",
    "    1 text = 1 tf-idf vector the length of vocabulary of unigrams + bigrams. <br>\n",
    "\n",
    "    # Arguments\n",
    "        train_texts: list, training text strings.\n",
    "        train_labels: np.ndarray, training labels.\n",
    "        val_texts: list, validation text strings.\n",
    "        NGRAM_RANGE: The lower and upper boundary of the range of n-values for different n-grams to be extracted.\n",
    "        TOP_K: The maximum number of features to be selected by SelectKBest.\n",
    "        TOKEN_MODE: Whether text should be split into word or character n-grams.\n",
    "        MIN_DOCUMENT_FREQUENCY: Minimum document/corpus frequency below which a token will be discarded.\n",
    "        vForm: Vectorization form, either 'tfidf' or 'count'\n",
    "\n",
    "    # Returns\n",
    "        x_train, x_val: vectorized training and validation texts\n",
    "    \"\"\"\n",
    "    # Create keyword arguments to pass to the 'tf-idf' vectorizer.\n",
    "    kwargs = {\n",
    "            'ngram_range': NGRAM_RANGE,  # Use 1-grams + 2-grams.\n",
    "            'dtype': 'int32',\n",
    "            'strip_accents': 'unicode',\n",
    "            'decode_error': 'replace',\n",
    "            'analyzer': TOKEN_MODE,  # Split text into word tokens.\n",
    "            'min_df': MIN_DOCUMENT_FREQUENCY,\n",
    "    }\n",
    "\n",
    "    if vForm == 'tfidf':\n",
    "        vectorizer = TfidfVectorizer(**kwargs)\n",
    "    elif vForm == 'count':\n",
    "        vectorizer = CountVectorizer(**kwargs) \n",
    "    else:\n",
    "        print('Invalid vectorization form')\n",
    "        return\n",
    "\n",
    "    # Learn vocabulary from training texts and vectorize training texts.\n",
    "    x_train = vectorizer.fit_transform(train_texts)\n",
    "\n",
    "    # Vectorize validation texts.\n",
    "    x_val = vectorizer.transform(val_texts)\n",
    "\n",
    "    # Select top 'k' of the vectorized features.\n",
    "    selector = SelectKBest(f_classif, k=min(TOP_K, x_train.shape[1]))\n",
    "    selector.fit(x_train, train_labels)\n",
    "    x_train = selector.transform(x_train).astype('float32')\n",
    "    x_val = selector.transform(x_val).astype('float32')\n",
    "    return x_train, x_val,vectorizer"
   ]
  },
  {
   "cell_type": "code",
   "execution_count": 43,
   "metadata": {},
   "outputs": [],
   "source": [
    "from sklearn.feature_extraction.text import CountVectorizer\n",
    "from sklearn.model_selection import train_test_split\n",
    "from sklearn.feature_extraction.text import TfidfVectorizer\n",
    "from sklearn import preprocessing, decomposition, model_selection, metrics, pipeline\n",
    "from sklearn.metrics import accuracy_score, auc, roc_auc_score\n",
    "import xgboost as xgb"
   ]
  },
  {
   "cell_type": "code",
   "execution_count": 50,
   "metadata": {},
   "outputs": [
    {
     "name": "stdout",
     "output_type": "stream",
     "text": [
      "(13499,) (1500,) (13499,) (1500,)\n"
     ]
    }
   ],
   "source": [
    "x_train, x_test, y_train, y_test,  indices_train, indices_test = train_test_split(data['Clean'], \n",
    "                                                    data['categorical_label'], \n",
    "                                                    data.index,\n",
    "                                                    test_size=0.1, \n",
    "                                                    random_state=42,\n",
    "                                                    stratify=data['categorical_label'])\n",
    "\n",
    "print(x_train.shape, x_test.shape, y_train.shape, y_test.shape)"
   ]
  },
  {
   "cell_type": "code",
   "execution_count": 51,
   "metadata": {},
   "outputs": [
    {
     "name": "stderr",
     "output_type": "stream",
     "text": [
      "/Users/kemalcankara/miniforge3/envs/nlpEnv/lib/python3.11/site-packages/sklearn/feature_extraction/text.py:2060: UserWarning: Only (<class 'numpy.float64'>, <class 'numpy.float32'>, <class 'numpy.float16'>) 'dtype' should be used. int32 'dtype' will be converted to np.float64.\n",
      "  warnings.warn(\n"
     ]
    }
   ],
   "source": [
    "xtrain_tfv,xvalid_tfv,vectorizer = ngram_vectorize(x_train, y_train, x_test, vForm = 'tfidf',  NGRAM_RANGE = (1, 2),\n",
    "                                        TOP_K = 20000, TOKEN_MODE = 'word',MIN_DOCUMENT_FREQUENCY = 2)"
   ]
  },
  {
   "cell_type": "code",
   "execution_count": 47,
   "metadata": {},
   "outputs": [
    {
     "data": {
      "text/plain": [
       "True"
      ]
     },
     "execution_count": 47,
     "metadata": {},
     "output_type": "execute_result"
    }
   ],
   "source": [
    "data.isnull().values.any()"
   ]
  },
  {
   "cell_type": "code",
   "execution_count": 48,
   "metadata": {},
   "outputs": [
    {
     "data": {
      "text/html": [
       "<div>\n",
       "<style scoped>\n",
       "    .dataframe tbody tr th:only-of-type {\n",
       "        vertical-align: middle;\n",
       "    }\n",
       "\n",
       "    .dataframe tbody tr th {\n",
       "        vertical-align: top;\n",
       "    }\n",
       "\n",
       "    .dataframe thead th {\n",
       "        text-align: right;\n",
       "    }\n",
       "</style>\n",
       "<table border=\"1\" class=\"dataframe\">\n",
       "  <thead>\n",
       "    <tr style=\"text-align: right;\">\n",
       "      <th></th>\n",
       "      <th>JobRefNo</th>\n",
       "      <th>DigerPozisyon</th>\n",
       "      <th>Qualifications</th>\n",
       "      <th>Classification</th>\n",
       "      <th>Qualifications_HtmlFree</th>\n",
       "      <th>categorical_label</th>\n",
       "      <th>Length</th>\n",
       "      <th>Word_count</th>\n",
       "      <th>mean_word_length</th>\n",
       "      <th>mean_sent_length</th>\n",
       "      <th>Clean</th>\n",
       "      <th>Clean_lists</th>\n",
       "    </tr>\n",
       "  </thead>\n",
       "  <tbody>\n",
       "  </tbody>\n",
       "</table>\n",
       "</div>"
      ],
      "text/plain": [
       "Empty DataFrame\n",
       "Columns: [JobRefNo, DigerPozisyon, Qualifications, Classification, Qualifications_HtmlFree, categorical_label, Length, Word_count, mean_word_length, mean_sent_length, Clean, Clean_lists]\n",
       "Index: []"
      ]
     },
     "execution_count": 48,
     "metadata": {},
     "output_type": "execute_result"
    }
   ],
   "source": [
    "data[data['categorical_label'].isnull()]"
   ]
  },
  {
   "cell_type": "code",
   "execution_count": 49,
   "metadata": {},
   "outputs": [],
   "source": [
    "data.drop(5439,axis=0,inplace=True)"
   ]
  },
  {
   "cell_type": "code",
   "execution_count": 52,
   "metadata": {},
   "outputs": [],
   "source": [
    "from sklearn.decomposition import TruncatedSVD\n",
    "from sklearn.linear_model import LogisticRegression\n",
    "from sklearn.model_selection import train_test_split\n",
    "from sklearn.naive_bayes import MultinomialNB\n",
    "from sklearn.model_selection import GridSearchCV \n",
    "from sklearn.svm import SVC\n",
    "from sklearn.metrics import roc_auc_score"
   ]
  },
  {
   "cell_type": "code",
   "execution_count": 13,
   "metadata": {},
   "outputs": [
    {
     "name": "stderr",
     "output_type": "stream",
     "text": [
      "[Parallel(n_jobs=1)]: Using backend SequentialBackend with 1 concurrent workers.\n"
     ]
    },
    {
     "name": "stdout",
     "output_type": "stream",
     "text": [
      "Epoch 1, change: 1.00000000\n",
      "Epoch 2, change: 0.13414747\n",
      "Epoch 3, change: 0.04222032\n",
      "Epoch 4, change: 0.03149211\n",
      "Epoch 5, change: 0.02698425\n",
      "Epoch 6, change: 0.01679677\n",
      "Epoch 7, change: 0.01177530\n",
      "Epoch 8, change: 0.00655988\n",
      "Epoch 9, change: 0.00418503\n",
      "Epoch 10, change: 0.00141911\n",
      "Epoch 11, change: 0.00986590\n",
      "Epoch 12, change: 0.00351831\n",
      "Epoch 13, change: 0.00062580\n",
      "Epoch 14, change: 0.00048946\n",
      "Epoch 15, change: 0.00039389\n",
      "Epoch 16, change: 0.00030554\n",
      "Epoch 17, change: 0.00024967\n",
      "Epoch 18, change: 0.00020037\n",
      "Epoch 19, change: 0.00016067\n",
      "Epoch 20, change: 0.00013624\n",
      "convergence after 21 epochs took 1 seconds\n"
     ]
    },
    {
     "name": "stderr",
     "output_type": "stream",
     "text": [
      "[Parallel(n_jobs=1)]: Done   1 out of   1 | elapsed:    0.8s finished\n"
     ]
    }
   ],
   "source": [
    "lr_word = LogisticRegression(solver='sag', verbose=1)\n",
    "lr_word.fit(xtrain_tfv, y_train)\n",
    "y_pred_word = lr_word.predict(xvalid_tfv)\n",
    "LR_results=accuracy_score(y_test, y_pred_word)\n",
    "results = {'LR_TfIDF_unigram': LR_results} "
   ]
  },
  {
   "cell_type": "code",
   "execution_count": 14,
   "metadata": {},
   "outputs": [
    {
     "data": {
      "text/plain": [
       "{'LR_TfIDF_unigram': 0.9133333333333333}"
      ]
     },
     "execution_count": 14,
     "metadata": {},
     "output_type": "execute_result"
    }
   ],
   "source": [
    "results"
   ]
  },
  {
   "cell_type": "code",
   "execution_count": 15,
   "metadata": {},
   "outputs": [
    {
     "name": "stderr",
     "output_type": "stream",
     "text": [
      "[Parallel(n_jobs=1)]: Using backend SequentialBackend with 1 concurrent workers.\n"
     ]
    },
    {
     "name": "stdout",
     "output_type": "stream",
     "text": [
      "Epoch 1, change: 1.00000000\n",
      "Epoch 2, change: 0.20788452\n",
      "Epoch 3, change: 0.11152854\n",
      "Epoch 4, change: 0.06734075\n",
      "Epoch 5, change: 0.05131130\n",
      "Epoch 6, change: 0.04289863\n",
      "Epoch 7, change: 0.03822422\n",
      "Epoch 8, change: 0.03353437\n",
      "Epoch 9, change: 0.02984898\n",
      "Epoch 10, change: 0.02717892\n",
      "Epoch 11, change: 0.02543370\n",
      "Epoch 12, change: 0.02392267\n",
      "Epoch 13, change: 0.02251929\n",
      "Epoch 14, change: 0.02124843\n",
      "Epoch 15, change: 0.02022075\n",
      "Epoch 16, change: 0.01911430\n",
      "Epoch 17, change: 0.01833331\n",
      "Epoch 18, change: 0.01746407\n",
      "Epoch 19, change: 0.01652230\n",
      "Epoch 20, change: 0.01580444\n",
      "Epoch 21, change: 0.01516026\n",
      "Epoch 22, change: 0.01454262\n",
      "Epoch 23, change: 0.01402300\n",
      "Epoch 24, change: 0.01351245\n",
      "Epoch 25, change: 0.01300218\n",
      "Epoch 26, change: 0.01254404\n",
      "Epoch 27, change: 0.01209287\n",
      "Epoch 28, change: 0.01164736\n",
      "Epoch 29, change: 0.01128751\n",
      "Epoch 30, change: 0.01091456\n",
      "Epoch 31, change: 0.01057665\n",
      "Epoch 32, change: 0.01026442\n",
      "Epoch 33, change: 0.00997639\n",
      "Epoch 34, change: 0.00983950\n",
      "Epoch 35, change: 0.00972607\n",
      "Epoch 36, change: 0.00962580\n",
      "Epoch 37, change: 0.00952424\n",
      "Epoch 38, change: 0.00943329\n",
      "Epoch 39, change: 0.00934496\n",
      "Epoch 40, change: 0.00925621\n",
      "Epoch 41, change: 0.00914733\n",
      "Epoch 42, change: 0.00906042\n",
      "Epoch 43, change: 0.00897498\n",
      "Epoch 44, change: 0.00888981\n",
      "Epoch 45, change: 0.00880488\n",
      "Epoch 46, change: 0.00872618\n",
      "Epoch 47, change: 0.00865323\n",
      "Epoch 48, change: 0.00856385\n",
      "Epoch 49, change: 0.00848185\n",
      "Epoch 50, change: 0.00839633\n",
      "Epoch 51, change: 0.00830203\n",
      "Epoch 52, change: 0.00822655\n",
      "Epoch 53, change: 0.00815303\n",
      "Epoch 54, change: 0.00808881\n",
      "Epoch 55, change: 0.00800559\n",
      "Epoch 56, change: 0.00793271\n",
      "Epoch 57, change: 0.00787140\n",
      "Epoch 58, change: 0.00779541\n",
      "Epoch 59, change: 0.00773583\n",
      "Epoch 60, change: 0.00766208\n",
      "Epoch 61, change: 0.00758926\n",
      "Epoch 62, change: 0.00752193\n",
      "Epoch 63, change: 0.00745008\n",
      "Epoch 64, change: 0.00738298\n",
      "Epoch 65, change: 0.00731747\n",
      "Epoch 66, change: 0.00725726\n",
      "Epoch 67, change: 0.00719204\n",
      "Epoch 68, change: 0.00712372\n",
      "Epoch 69, change: 0.00705678\n",
      "Epoch 70, change: 0.00699302\n",
      "Epoch 71, change: 0.00693509\n",
      "Epoch 72, change: 0.00687869\n",
      "Epoch 73, change: 0.00680960\n",
      "Epoch 74, change: 0.00674683\n",
      "Epoch 75, change: 0.00669225\n",
      "Epoch 76, change: 0.00663844\n",
      "Epoch 77, change: 0.00658193\n",
      "Epoch 78, change: 0.00652167\n",
      "Epoch 79, change: 0.00646785\n",
      "Epoch 80, change: 0.00641551\n",
      "Epoch 81, change: 0.00635516\n",
      "Epoch 82, change: 0.00629637\n",
      "Epoch 83, change: 0.00624262\n",
      "Epoch 84, change: 0.00618808\n",
      "Epoch 85, change: 0.00613020\n",
      "Epoch 86, change: 0.00607849\n",
      "Epoch 87, change: 0.00602329\n",
      "Epoch 88, change: 0.00597009\n",
      "Epoch 89, change: 0.00590984\n",
      "Epoch 90, change: 0.00586242\n",
      "Epoch 91, change: 0.00582394\n",
      "Epoch 92, change: 0.00577048\n",
      "Epoch 93, change: 0.00571656\n",
      "Epoch 94, change: 0.00567027\n",
      "Epoch 95, change: 0.00562730\n",
      "Epoch 96, change: 0.00557107\n",
      "Epoch 97, change: 0.00552627\n",
      "Epoch 98, change: 0.00547484\n",
      "Epoch 99, change: 0.00542557\n",
      "max_iter reached after 3 seconds\n",
      "Epoch 100, change: 0.00538008\n"
     ]
    },
    {
     "name": "stderr",
     "output_type": "stream",
     "text": [
      "/Users/kemalcankara/miniforge3/envs/nlpEnv/lib/python3.11/site-packages/sklearn/linear_model/_sag.py:350: ConvergenceWarning: The max_iter was reached which means the coef_ did not converge\n",
      "  warnings.warn(\n",
      "[Parallel(n_jobs=1)]: Done   1 out of   1 | elapsed:    3.8s finished\n"
     ]
    }
   ],
   "source": [
    "xtrain_tfv,xvalid_tfv = ngram_vectorize(x_train, y_train, x_test, vForm = 'count',  NGRAM_RANGE = (1, 3),\n",
    "                                        TOP_K = 20000, TOKEN_MODE = 'word',MIN_DOCUMENT_FREQUENCY = 2)\n",
    "lr_word.fit(xtrain_tfv, y_train)\n",
    "y_pred_word = lr_word.predict(xvalid_tfv)\n",
    "LR_results=accuracy_score(y_test, y_pred_word)\n",
    "results ['LR_CountV_trigram']= LR_results"
   ]
  },
  {
   "cell_type": "code",
   "execution_count": 16,
   "metadata": {},
   "outputs": [
    {
     "data": {
      "text/plain": [
       "{'LR_TfIDF_unigram': 0.9133333333333333,\n",
       " 'LR_CountV_trigram': 0.9266666666666666}"
      ]
     },
     "execution_count": 16,
     "metadata": {},
     "output_type": "execute_result"
    }
   ],
   "source": [
    "results"
   ]
  },
  {
   "cell_type": "code",
   "execution_count": 100,
   "metadata": {},
   "outputs": [
    {
     "name": "stderr",
     "output_type": "stream",
     "text": [
      "/Users/kemalcankara/miniforge3/envs/nlpEnv/lib/python3.11/site-packages/sklearn/feature_extraction/text.py:2060: UserWarning: Only (<class 'numpy.float64'>, <class 'numpy.float32'>, <class 'numpy.float16'>) 'dtype' should be used. int32 'dtype' will be converted to np.float64.\n",
      "  warnings.warn(\n"
     ]
    }
   ],
   "source": [
    "xtrain_tfv,xvalid_tfv,vectorizer = ngram_vectorize(x_train, y_train, x_test, vForm = 'tfidf',  NGRAM_RANGE = (1, 1),\n",
    "                                        TOP_K = 20000, TOKEN_MODE = 'word',MIN_DOCUMENT_FREQUENCY = 2)\n",
    "clf = xgb.XGBClassifier(max_depth=7, n_estimators=200, colsample_bytree=0.8, \n",
    "                        subsample=0.8, nthread=10, learning_rate=0.1)\n",
    "clf.fit(xtrain_tfv.tocsc(), y_train)\n",
    "y_pred_word = clf.predict(xvalid_tfv.tocsc())\n",
    "LR_results=accuracy_score(y_test, y_pred_word)\n",
    "results ['XGB_TfIdf_uni']= LR_results\n",
    "\n",
    " "
   ]
  },
  {
   "cell_type": "code",
   "execution_count": 68,
   "metadata": {},
   "outputs": [
    {
     "data": {
      "text/plain": [
       "{'LR_TfIDF_unigram': 0.9133333333333333,\n",
       " 'LR_CountV_trigram': 0.9266666666666666,\n",
       " 'XGB_TfIdf_uni': 0.936}"
      ]
     },
     "execution_count": 68,
     "metadata": {},
     "output_type": "execute_result"
    }
   ],
   "source": [
    "results"
   ]
  },
  {
   "cell_type": "code",
   "execution_count": 69,
   "metadata": {},
   "outputs": [
    {
     "ename": "SyntaxError",
     "evalue": "'{' was never closed (4098267371.py, line 2)",
     "output_type": "error",
     "traceback": [
      "\u001b[0;36m  Cell \u001b[0;32mIn[69], line 2\u001b[0;36m\u001b[0m\n\u001b[0;31m    scoring = {'Accuracy':metrics##.make_scorer(accuracy_score)}\u001b[0m\n\u001b[0m              ^\u001b[0m\n\u001b[0;31mSyntaxError\u001b[0m\u001b[0;31m:\u001b[0m '{' was never closed\n"
     ]
    }
   ],
   "source": [
    "# AUC and accuracy as score\n",
    "scoring = {'Accuracy':metrics##.make_scorer(accuracy_score)}\n",
    "\n",
    "# Define our search space for grid search\n",
    "search_space = [\n",
    "  {\n",
    "    'clf__n_estimators': [50, 100, 150, 200],\n",
    "    'clf__learning_rate': [0.01, 0.1, 0.2, 0.3],\n",
    "    'clf__max_depth': range(3, 10),\n",
    "    'clf__colsample_bytree': [i/10.0 for i in range(1, 3)],\n",
    "    'clf__gamma': [i/10.0 for i in range(3)],\n",
    "    'fs__score_func': [f_classif],\n",
    "    'fs__k': [10],\n",
    "  }]\n",
    "\n",
    "model = GridSearchCV(estimator=clf, param_grid=search_space, scoring='accuracy',\n",
    "                                 verbose=10, n_jobs=-1, refit=True, cv=2)\n",
    "\n",
    "# Fit Grid Search Model\n",
    "model.fit(xtrain_tfv, y_train)  # we can use the full data here but im only using xtrain\n",
    "print(\"Best score: %0.3f\" % model.best_score_)\n",
    "print(\"Best parameters set:\")\n",
    "best_parameters = model.best_estimator_.get_params()\n",
    "for param_name in sorted(search_space.keys()):\n",
    "    print(\"\\t%s: %r\" % (param_name, best_parameters[param_name]))"
   ]
  },
  {
   "cell_type": "code",
   "execution_count": 70,
   "metadata": {},
   "outputs": [
    {
     "data": {
      "text/plain": [
       "array([1, 6, 3, 2, 5, 4, 0])"
      ]
     },
     "execution_count": 70,
     "metadata": {},
     "output_type": "execute_result"
    }
   ],
   "source": [
    "data['categorical_label'].unique()\n"
   ]
  },
  {
   "attachments": {},
   "cell_type": "markdown",
   "metadata": {},
   "source": [
    "## Confusion Matrix"
   ]
  },
  {
   "cell_type": "code",
   "execution_count": 71,
   "metadata": {},
   "outputs": [
    {
     "data": {
      "image/png": "[encoded data removed]",
      "text/plain": [
       "<Figure size 800x800 with 2 Axes>"
      ]
     },
     "metadata": {},
     "output_type": "display_data"
    }
   ],
   "source": [
    "from sklearn.metrics import confusion_matrix\n",
    "conf_mat = confusion_matrix(y_test, y_pred_word)\n",
    "fig, ax = plt.subplots(figsize=(8,8))\n",
    "\n",
    "sns.heatmap(conf_mat, annot=True, fmt='d',\n",
    "            xticklabels=data['Classification'].unique(), yticklabels=data['Classification'].unique())\n",
    "plt.ylabel('Actual')\n",
    "plt.xlabel('Predicted')\n",
    "plt.show()\n"
   ]
  },
  {
   "attachments": {},
   "cell_type": "markdown",
   "metadata": {},
   "source": [
    "## MisClassified Examples"
   ]
  },
  {
   "cell_type": "code",
   "execution_count": 72,
   "metadata": {},
   "outputs": [
    {
     "data": {
      "text/html": [
       "<div>\n",
       "<style scoped>\n",
       "    .dataframe tbody tr th:only-of-type {\n",
       "        vertical-align: middle;\n",
       "    }\n",
       "\n",
       "    .dataframe tbody tr th {\n",
       "        vertical-align: top;\n",
       "    }\n",
       "\n",
       "    .dataframe thead th {\n",
       "        text-align: right;\n",
       "    }\n",
       "</style>\n",
       "<table border=\"1\" class=\"dataframe\">\n",
       "  <thead>\n",
       "    <tr style=\"text-align: right;\">\n",
       "      <th></th>\n",
       "      <th>Classification</th>\n",
       "      <th>categorical_label</th>\n",
       "    </tr>\n",
       "  </thead>\n",
       "  <tbody>\n",
       "    <tr>\n",
       "      <th>0</th>\n",
       "      <td>Bilgi Teknolojileri</td>\n",
       "      <td>1</td>\n",
       "    </tr>\n",
       "    <tr>\n",
       "      <th>2500</th>\n",
       "      <td>İnşaat</td>\n",
       "      <td>6</td>\n",
       "    </tr>\n",
       "    <tr>\n",
       "      <th>5000</th>\n",
       "      <td>Hukuk</td>\n",
       "      <td>3</td>\n",
       "    </tr>\n",
       "    <tr>\n",
       "      <th>7500</th>\n",
       "      <td>Hizmet</td>\n",
       "      <td>2</td>\n",
       "    </tr>\n",
       "    <tr>\n",
       "      <th>8089</th>\n",
       "      <td>hizmet</td>\n",
       "      <td>5</td>\n",
       "    </tr>\n",
       "    <tr>\n",
       "      <th>10000</th>\n",
       "      <td>Strateji ve Raporlama / Danışmanlık</td>\n",
       "      <td>4</td>\n",
       "    </tr>\n",
       "    <tr>\n",
       "      <th>12500</th>\n",
       "      <td>Arge</td>\n",
       "      <td>0</td>\n",
       "    </tr>\n",
       "  </tbody>\n",
       "</table>\n",
       "</div>"
      ],
      "text/plain": [
       "                            Classification  categorical_label\n",
       "0                      Bilgi Teknolojileri                  1\n",
       "2500                                İnşaat                  6\n",
       "5000                                 Hukuk                  3\n",
       "7500                                Hizmet                  2\n",
       "8089                                hizmet                  5\n",
       "10000  Strateji ve Raporlama / Danışmanlık                  4\n",
       "12500                                 Arge                  0"
      ]
     },
     "execution_count": 72,
     "metadata": {},
     "output_type": "execute_result"
    }
   ],
   "source": [
    "labelsWithName =data.filter(items=['Classification', 'categorical_label']).drop_duplicates()\n",
    "labelsWithName"
   ]
  },
  {
   "cell_type": "code",
   "execution_count": 73,
   "metadata": {},
   "outputs": [
    {
     "data": {
      "text/plain": [
       "array([[236,  10,   0,   0,   3,   0,   1],\n",
       "       [  4, 235,   3,   0,   6,   0,   2],\n",
       "       [  1,   5, 224,   0,   5,   0,  14],\n",
       "       [  1,   0,   3, 243,   3,   0,   0],\n",
       "       [  5,  10,   5,   0, 226,   0,   4],\n",
       "       [  0,   0,   0,   0,   1,   0,   0],\n",
       "       [  2,   1,   4,   1,   2,   0, 240]])"
      ]
     },
     "execution_count": 73,
     "metadata": {},
     "output_type": "execute_result"
    }
   ],
   "source": [
    "conf_mat"
   ]
  },
  {
   "cell_type": "code",
   "execution_count": 74,
   "metadata": {},
   "outputs": [
    {
     "name": "stdout",
     "output_type": "stream",
     "text": [
      "'Strateji ve Raporlama / Danışmanlık' predicted as 'Bilgi Teknolojileri' : 10 examples.\n"
     ]
    },
    {
     "data": {
      "text/html": [
       "<div>\n",
       "<style scoped>\n",
       "    .dataframe tbody tr th:only-of-type {\n",
       "        vertical-align: middle;\n",
       "    }\n",
       "\n",
       "    .dataframe tbody tr th {\n",
       "        vertical-align: top;\n",
       "    }\n",
       "\n",
       "    .dataframe thead th {\n",
       "        text-align: right;\n",
       "    }\n",
       "</style>\n",
       "<table border=\"1\" class=\"dataframe\">\n",
       "  <thead>\n",
       "    <tr style=\"text-align: right;\">\n",
       "      <th></th>\n",
       "      <th>JobRefNo</th>\n",
       "      <th>Classification</th>\n",
       "      <th>Clean</th>\n",
       "    </tr>\n",
       "  </thead>\n",
       "  <tbody>\n",
       "    <tr>\n",
       "      <th>12181</th>\n",
       "      <td>3253090</td>\n",
       "      <td>Strateji ve Raporlama / Danışmanlık</td>\n",
       "      <td>holding bünyesinde faaliyetini sürdüren şirket...</td>\n",
       "    </tr>\n",
       "    <tr>\n",
       "      <th>12449</th>\n",
       "      <td>3227731</td>\n",
       "      <td>Strateji ve Raporlama / Danışmanlık</td>\n",
       "      <td>genel nitelikler üniversitelerin makine mühend...</td>\n",
       "    </tr>\n",
       "    <tr>\n",
       "      <th>10492</th>\n",
       "      <td>3407778</td>\n",
       "      <td>Strateji ve Raporlama / Danışmanlık</td>\n",
       "      <td>kauçuk sektöründe faaliyet gösteren firmamızda...</td>\n",
       "    </tr>\n",
       "    <tr>\n",
       "      <th>10335</th>\n",
       "      <td>3424096</td>\n",
       "      <td>Strateji ve Raporlama / Danışmanlık</td>\n",
       "      <td>insan ilişkilerimde başarılıyım hedef kitleler...</td>\n",
       "    </tr>\n",
       "    <tr>\n",
       "      <th>12030</th>\n",
       "      <td>3266573</td>\n",
       "      <td>Strateji ve Raporlama / Danışmanlık</td>\n",
       "      <td>qualifications 4 years experiences endtoend bu...</td>\n",
       "    </tr>\n",
       "    <tr>\n",
       "      <th>10852</th>\n",
       "      <td>3371415</td>\n",
       "      <td>Strateji ve Raporlama / Danışmanlık</td>\n",
       "      <td>1978 yılında kurulmuş olan şenpiliç iso 500 sa...</td>\n",
       "    </tr>\n",
       "    <tr>\n",
       "      <th>11361</th>\n",
       "      <td>3324752</td>\n",
       "      <td>Strateji ve Raporlama / Danışmanlık</td>\n",
       "      <td>belediye projelerimizde görev alacak veri anal...</td>\n",
       "    </tr>\n",
       "    <tr>\n",
       "      <th>12289</th>\n",
       "      <td>3242935</td>\n",
       "      <td>Strateji ve Raporlama / Danışmanlık</td>\n",
       "      <td>genel nitelikler iş tanimi tusaştürk havacılık...</td>\n",
       "    </tr>\n",
       "    <tr>\n",
       "      <th>11644</th>\n",
       "      <td>3298643</td>\n",
       "      <td>Strateji ve Raporlama / Danışmanlık</td>\n",
       "      <td>qualification bachelors degree computer scienc...</td>\n",
       "    </tr>\n",
       "    <tr>\n",
       "      <th>10777</th>\n",
       "      <td>3378873</td>\n",
       "      <td>Strateji ve Raporlama / Danışmanlık</td>\n",
       "      <td>genel nitelikler üniversitelerin ilgili bölüml...</td>\n",
       "    </tr>\n",
       "  </tbody>\n",
       "</table>\n",
       "</div>"
      ],
      "text/plain": [
       "       JobRefNo                       Classification  \\\n",
       "12181   3253090  Strateji ve Raporlama / Danışmanlık   \n",
       "12449   3227731  Strateji ve Raporlama / Danışmanlık   \n",
       "10492   3407778  Strateji ve Raporlama / Danışmanlık   \n",
       "10335   3424096  Strateji ve Raporlama / Danışmanlık   \n",
       "12030   3266573  Strateji ve Raporlama / Danışmanlık   \n",
       "10852   3371415  Strateji ve Raporlama / Danışmanlık   \n",
       "11361   3324752  Strateji ve Raporlama / Danışmanlık   \n",
       "12289   3242935  Strateji ve Raporlama / Danışmanlık   \n",
       "11644   3298643  Strateji ve Raporlama / Danışmanlık   \n",
       "10777   3378873  Strateji ve Raporlama / Danışmanlık   \n",
       "\n",
       "                                                   Clean  \n",
       "12181  holding bünyesinde faaliyetini sürdüren şirket...  \n",
       "12449  genel nitelikler üniversitelerin makine mühend...  \n",
       "10492  kauçuk sektöründe faaliyet gösteren firmamızda...  \n",
       "10335  insan ilişkilerimde başarılıyım hedef kitleler...  \n",
       "12030  qualifications 4 years experiences endtoend bu...  \n",
       "10852  1978 yılında kurulmuş olan şenpiliç iso 500 sa...  \n",
       "11361  belediye projelerimizde görev alacak veri anal...  \n",
       "12289  genel nitelikler iş tanimi tusaştürk havacılık...  \n",
       "11644  qualification bachelors degree computer scienc...  \n",
       "10777  genel nitelikler üniversitelerin ilgili bölüml...  "
      ]
     },
     "metadata": {},
     "output_type": "display_data"
    },
    {
     "name": "stdout",
     "output_type": "stream",
     "text": [
      "\n",
      "'Arge' predicted as 'Bilgi Teknolojileri' : 10 examples.\n"
     ]
    },
    {
     "data": {
      "text/html": [
       "<div>\n",
       "<style scoped>\n",
       "    .dataframe tbody tr th:only-of-type {\n",
       "        vertical-align: middle;\n",
       "    }\n",
       "\n",
       "    .dataframe tbody tr th {\n",
       "        vertical-align: top;\n",
       "    }\n",
       "\n",
       "    .dataframe thead th {\n",
       "        text-align: right;\n",
       "    }\n",
       "</style>\n",
       "<table border=\"1\" class=\"dataframe\">\n",
       "  <thead>\n",
       "    <tr style=\"text-align: right;\">\n",
       "      <th></th>\n",
       "      <th>JobRefNo</th>\n",
       "      <th>Classification</th>\n",
       "      <th>Clean</th>\n",
       "    </tr>\n",
       "  </thead>\n",
       "  <tbody>\n",
       "    <tr>\n",
       "      <th>14319</th>\n",
       "      <td>3185543</td>\n",
       "      <td>Arge</td>\n",
       "      <td>qualifications graduated 4year engineering sta...</td>\n",
       "    </tr>\n",
       "    <tr>\n",
       "      <th>14699</th>\n",
       "      <td>3132455</td>\n",
       "      <td>Arge</td>\n",
       "      <td>firmamız mevcut arge bünyesine katılmak üzere ...</td>\n",
       "    </tr>\n",
       "    <tr>\n",
       "      <th>14381</th>\n",
       "      <td>3177404</td>\n",
       "      <td>Arge</td>\n",
       "      <td>1985 yılında temelleri atılan küçükoğlu holdin...</td>\n",
       "    </tr>\n",
       "    <tr>\n",
       "      <th>13943</th>\n",
       "      <td>3240700</td>\n",
       "      <td>Arge</td>\n",
       "      <td>bizimle geleceği tasarla maya hazır mısın tekn...</td>\n",
       "    </tr>\n",
       "    <tr>\n",
       "      <th>13354</th>\n",
       "      <td>3327050</td>\n",
       "      <td>Arge</td>\n",
       "      <td>türkiyenin milli gücü türkiyede otomotiv savun...</td>\n",
       "    </tr>\n",
       "    <tr>\n",
       "      <th>14778</th>\n",
       "      <td>3119126</td>\n",
       "      <td>Arge</td>\n",
       "      <td>looking business intelligence associate qualif...</td>\n",
       "    </tr>\n",
       "    <tr>\n",
       "      <th>13797</th>\n",
       "      <td>3262786</td>\n",
       "      <td>Arge</td>\n",
       "      <td>müşterilerimize led aydınlatma akıllı binaşehi...</td>\n",
       "    </tr>\n",
       "    <tr>\n",
       "      <th>12697</th>\n",
       "      <td>3422276</td>\n",
       "      <td>Arge</td>\n",
       "      <td>görev tanımı mevcut ürünler maliyetleri kalite...</td>\n",
       "    </tr>\n",
       "    <tr>\n",
       "      <th>13738</th>\n",
       "      <td>3271380</td>\n",
       "      <td>Arge</td>\n",
       "      <td>digiconnect 2022 5 dönem kiş programi 3500den ...</td>\n",
       "    </tr>\n",
       "    <tr>\n",
       "      <th>13854</th>\n",
       "      <td>3253319</td>\n",
       "      <td>Arge</td>\n",
       "      <td>sarp lojistik 2004 yılında eskişehir kurulmuşt...</td>\n",
       "    </tr>\n",
       "  </tbody>\n",
       "</table>\n",
       "</div>"
      ],
      "text/plain": [
       "       JobRefNo Classification  \\\n",
       "14319   3185543           Arge   \n",
       "14699   3132455           Arge   \n",
       "14381   3177404           Arge   \n",
       "13943   3240700           Arge   \n",
       "13354   3327050           Arge   \n",
       "14778   3119126           Arge   \n",
       "13797   3262786           Arge   \n",
       "12697   3422276           Arge   \n",
       "13738   3271380           Arge   \n",
       "13854   3253319           Arge   \n",
       "\n",
       "                                                   Clean  \n",
       "14319  qualifications graduated 4year engineering sta...  \n",
       "14699  firmamız mevcut arge bünyesine katılmak üzere ...  \n",
       "14381  1985 yılında temelleri atılan küçükoğlu holdin...  \n",
       "13943  bizimle geleceği tasarla maya hazır mısın tekn...  \n",
       "13354  türkiyenin milli gücü türkiyede otomotiv savun...  \n",
       "14778  looking business intelligence associate qualif...  \n",
       "13797  müşterilerimize led aydınlatma akıllı binaşehi...  \n",
       "12697  görev tanımı mevcut ürünler maliyetleri kalite...  \n",
       "13738  digiconnect 2022 5 dönem kiş programi 3500den ...  \n",
       "13854  sarp lojistik 2004 yılında eskişehir kurulmuşt...  "
      ]
     },
     "metadata": {},
     "output_type": "display_data"
    },
    {
     "name": "stdout",
     "output_type": "stream",
     "text": [
      "\n",
      "'Hizmet' predicted as 'İnşaat' : 14 examples.\n"
     ]
    },
    {
     "data": {
      "text/html": [
       "<div>\n",
       "<style scoped>\n",
       "    .dataframe tbody tr th:only-of-type {\n",
       "        vertical-align: middle;\n",
       "    }\n",
       "\n",
       "    .dataframe tbody tr th {\n",
       "        vertical-align: top;\n",
       "    }\n",
       "\n",
       "    .dataframe thead th {\n",
       "        text-align: right;\n",
       "    }\n",
       "</style>\n",
       "<table border=\"1\" class=\"dataframe\">\n",
       "  <thead>\n",
       "    <tr style=\"text-align: right;\">\n",
       "      <th></th>\n",
       "      <th>JobRefNo</th>\n",
       "      <th>Classification</th>\n",
       "      <th>Clean</th>\n",
       "    </tr>\n",
       "  </thead>\n",
       "  <tbody>\n",
       "    <tr>\n",
       "      <th>8736</th>\n",
       "      <td>3433212</td>\n",
       "      <td>Hizmet</td>\n",
       "      <td>üçay grup üçay mühendislik üçay elektromekanik...</td>\n",
       "    </tr>\n",
       "    <tr>\n",
       "      <th>8999</th>\n",
       "      <td>3427524</td>\n",
       "      <td>Hizmet</td>\n",
       "      <td>saha mühendisi üniversitelerin inşaat mühendis...</td>\n",
       "    </tr>\n",
       "    <tr>\n",
       "      <th>8109</th>\n",
       "      <td>3447968</td>\n",
       "      <td>Hizmet</td>\n",
       "      <td>şirketimizin makine enerji bölümü mekanik bakı...</td>\n",
       "    </tr>\n",
       "    <tr>\n",
       "      <th>7686</th>\n",
       "      <td>3460736</td>\n",
       "      <td>Hizmet</td>\n",
       "      <td>inşaat mühendisliği yapı teknik öğretmenliği i...</td>\n",
       "    </tr>\n",
       "    <tr>\n",
       "      <th>8241</th>\n",
       "      <td>3445403</td>\n",
       "      <td>Hizmet</td>\n",
       "      <td>elektrik dağıtım sektöründe faaliyet gösteren ...</td>\n",
       "    </tr>\n",
       "    <tr>\n",
       "      <th>9808</th>\n",
       "      <td>3408318</td>\n",
       "      <td>Hizmet</td>\n",
       "      <td>temelleri 1986 yılında atılan eksim faaliyet g...</td>\n",
       "    </tr>\n",
       "    <tr>\n",
       "      <th>9192</th>\n",
       "      <td>3421958</td>\n",
       "      <td>Hizmet</td>\n",
       "      <td>genel nitelikler üniversitelerin inşaat mühend...</td>\n",
       "    </tr>\n",
       "    <tr>\n",
       "      <th>8485</th>\n",
       "      <td>3438704</td>\n",
       "      <td>Hizmet</td>\n",
       "      <td>istanbul merkezli firmamızın kocaelikaramürsel...</td>\n",
       "    </tr>\n",
       "    <tr>\n",
       "      <th>9249</th>\n",
       "      <td>3420728</td>\n",
       "      <td>Hizmet</td>\n",
       "      <td>iş tanimi erkut inşaat istanbul şubesi hizmet ...</td>\n",
       "    </tr>\n",
       "    <tr>\n",
       "      <th>8160</th>\n",
       "      <td>3446802</td>\n",
       "      <td>Hizmet</td>\n",
       "      <td>genel nitelikler üniversitelerin inşaat mühend...</td>\n",
       "    </tr>\n",
       "    <tr>\n",
       "      <th>9915</th>\n",
       "      <td>3405958</td>\n",
       "      <td>Hizmet</td>\n",
       "      <td>türkiyenin önde gelen mühendislik müşavirlik f...</td>\n",
       "    </tr>\n",
       "    <tr>\n",
       "      <th>9981</th>\n",
       "      <td>3404332</td>\n",
       "      <td>Hizmet</td>\n",
       "      <td>genel nitelikler iş tanimi vista yönetim danış...</td>\n",
       "    </tr>\n",
       "    <tr>\n",
       "      <th>9100</th>\n",
       "      <td>3424213</td>\n",
       "      <td>Hizmet</td>\n",
       "      <td>şirketimizin adıyaman ilinde başlayacak konut ...</td>\n",
       "    </tr>\n",
       "    <tr>\n",
       "      <th>8883</th>\n",
       "      <td>3429412</td>\n",
       "      <td>Hizmet</td>\n",
       "      <td>iş tanimi kaynaklı imalat montaj taşlama inşaa...</td>\n",
       "    </tr>\n",
       "  </tbody>\n",
       "</table>\n",
       "</div>"
      ],
      "text/plain": [
       "      JobRefNo Classification  \\\n",
       "8736   3433212         Hizmet   \n",
       "8999   3427524         Hizmet   \n",
       "8109   3447968         Hizmet   \n",
       "7686   3460736         Hizmet   \n",
       "8241   3445403         Hizmet   \n",
       "9808   3408318         Hizmet   \n",
       "9192   3421958         Hizmet   \n",
       "8485   3438704         Hizmet   \n",
       "9249   3420728         Hizmet   \n",
       "8160   3446802         Hizmet   \n",
       "9915   3405958         Hizmet   \n",
       "9981   3404332         Hizmet   \n",
       "9100   3424213         Hizmet   \n",
       "8883   3429412         Hizmet   \n",
       "\n",
       "                                                  Clean  \n",
       "8736  üçay grup üçay mühendislik üçay elektromekanik...  \n",
       "8999  saha mühendisi üniversitelerin inşaat mühendis...  \n",
       "8109  şirketimizin makine enerji bölümü mekanik bakı...  \n",
       "7686  inşaat mühendisliği yapı teknik öğretmenliği i...  \n",
       "8241  elektrik dağıtım sektöründe faaliyet gösteren ...  \n",
       "9808  temelleri 1986 yılında atılan eksim faaliyet g...  \n",
       "9192  genel nitelikler üniversitelerin inşaat mühend...  \n",
       "8485  istanbul merkezli firmamızın kocaelikaramürsel...  \n",
       "9249  iş tanimi erkut inşaat istanbul şubesi hizmet ...  \n",
       "8160  genel nitelikler üniversitelerin inşaat mühend...  \n",
       "9915  türkiyenin önde gelen mühendislik müşavirlik f...  \n",
       "9981  genel nitelikler iş tanimi vista yönetim danış...  \n",
       "9100  şirketimizin adıyaman ilinde başlayacak konut ...  \n",
       "8883  iş tanimi kaynaklı imalat montaj taşlama inşaa...  "
      ]
     },
     "metadata": {},
     "output_type": "display_data"
    },
    {
     "name": "stdout",
     "output_type": "stream",
     "text": [
      "\n"
     ]
    }
   ],
   "source": [
    "from IPython.display import display\n",
    "for index, predicted in labelsWithName.iterrows():\n",
    "  for index, actual in labelsWithName.iterrows(): \n",
    "    if predicted['categorical_label'] != actual['categorical_label'] and conf_mat[actual['categorical_label'], predicted['categorical_label']] >= 10:\n",
    "      print(\"'{}' predicted as '{}' : {} examples.\".format(actual['Classification'], predicted['Classification'], conf_mat[actual['categorical_label'], predicted['categorical_label']]))\n",
    "      display(data.loc[indices_test[(y_test == actual['categorical_label']) & (y_pred_word == predicted['categorical_label'])]][['JobRefNo','Classification', 'Clean']])\n",
    "      print('')"
   ]
  },
  {
   "attachments": {},
   "cell_type": "markdown",
   "metadata": {},
   "source": [
    "## Most Correlated Terms With Classes"
   ]
  },
  {
   "cell_type": "code",
   "execution_count": 117,
   "metadata": {},
   "outputs": [],
   "source": [
    "\n",
    "# Get Most Correlated Terms With each Classes HOMEWORK\n",
    "\n",
    "\n",
    "\n",
    " \n",
    "\n",
    "\n"
   ]
  },
  {
   "attachments": {},
   "cell_type": "markdown",
   "metadata": {},
   "source": [
    "## Classification Report"
   ]
  },
  {
   "cell_type": "code",
   "execution_count": 104,
   "metadata": {},
   "outputs": [
    {
     "name": "stdout",
     "output_type": "stream",
     "text": [
      "                                     precision    recall  f1-score   support\n",
      "\n",
      "                Bilgi Teknolojileri       0.95      0.94      0.95       250\n",
      "                             İnşaat       0.90      0.94      0.92       250\n",
      "                              Hukuk       0.94      0.90      0.92       249\n",
      "                             Hizmet       1.00      0.97      0.98       250\n",
      "                             hizmet       0.92      0.90      0.91       250\n",
      "Strateji ve Raporlama / Danışmanlık       0.00      0.00      0.00         1\n",
      "                               Arge       0.92      0.96      0.94       250\n",
      "\n",
      "                           accuracy                           0.94      1500\n",
      "                          macro avg       0.80      0.80      0.80      1500\n",
      "                       weighted avg       0.94      0.94      0.94      1500\n",
      "\n"
     ]
    },
    {
     "name": "stderr",
     "output_type": "stream",
     "text": [
      "/Users/kemalcankara/miniforge3/envs/nlpEnv/lib/python3.11/site-packages/sklearn/metrics/_classification.py:1344: UndefinedMetricWarning: Precision and F-score are ill-defined and being set to 0.0 in labels with no predicted samples. Use `zero_division` parameter to control this behavior.\n",
      "  _warn_prf(average, modifier, msg_start, len(result))\n",
      "/Users/kemalcankara/miniforge3/envs/nlpEnv/lib/python3.11/site-packages/sklearn/metrics/_classification.py:1344: UndefinedMetricWarning: Precision and F-score are ill-defined and being set to 0.0 in labels with no predicted samples. Use `zero_division` parameter to control this behavior.\n",
      "  _warn_prf(average, modifier, msg_start, len(result))\n",
      "/Users/kemalcankara/miniforge3/envs/nlpEnv/lib/python3.11/site-packages/sklearn/metrics/_classification.py:1344: UndefinedMetricWarning: Precision and F-score are ill-defined and being set to 0.0 in labels with no predicted samples. Use `zero_division` parameter to control this behavior.\n",
      "  _warn_prf(average, modifier, msg_start, len(result))\n"
     ]
    }
   ],
   "source": [
    "from sklearn import metrics\n",
    "print(metrics.classification_report(y_test, y_pred_word, target_names=data['Classification'].unique()))"
   ]
  },
  {
   "attachments": {},
   "cell_type": "markdown",
   "metadata": {},
   "source": [
    "## What can we say about bag-of-word models before we move on?\n",
    "\n",
    "<b>Pros:<b> They can be surprisingly powerful given their simplicity, they are fast to train, and easy to understand and interpret.<br><br>\n",
    "<b>Cons:<b> Even though ngrams bring some context between words, bag of word models fail in modeling long-term dependencies between words in a sequence. They increase the dimensionality of the problem"
   ]
  },
  {
   "cell_type": "code",
   "execution_count": null,
   "metadata": {},
   "outputs": [],
   "source": []
  }
 ],
 "metadata": {
  "kernelspec": {
   "display_name": "nlpEnv",
   "language": "python",
   "name": "python3"
  },
  "language_info": {
   "codemirror_mode": {
    "name": "ipython",
    "version": 3
   },
   "file_extension": ".py",
   "mimetype": "text/x-python",
   "name": "python",
   "nbconvert_exporter": "python",
   "pygments_lexer": "ipython3",
   "version": "3.11.0"
  },
  "orig_nbformat": 4
 },
 "nbformat": 4,
 "nbformat_minor": 2
}
