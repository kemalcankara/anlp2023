{
 "cells": [
  {
   "cell_type": "code",
   "execution_count": 2,
   "metadata": {},
   "outputs": [],
   "source": [
    "from numpy import array\n",
    "from keras.preprocessing.text import one_hot\n",
    "from keras.utils import pad_sequences\n",
    "from keras.models import Sequential\n",
    "from keras.layers import Dense\n",
    "from keras.layers import Flatten\n",
    "from keras.layers import Embedding"
   ]
  },
  {
   "cell_type": "code",
   "execution_count": 3,
   "metadata": {},
   "outputs": [],
   "source": [
    "#define sentences\n",
    "sentences = [\"Programming is a good habit\",\n",
    "            \"This is bad code you must improve it\",\n",
    "            \"This is a perfect idea\",\n",
    "            \"Your code was clean and neat\",\n",
    "            \"You are excellent programmer\",\n",
    "            \"You have performed badly in the examinations\",\n",
    "            \"You could have made it better\",\n",
    "            \"Good work! Keep it up.\",\n",
    "            \"Poor performance\",\n",
    "            \"Improve yourself\"]\n",
    "#define remarks\n",
    "remarks = array([1,0,1,1,1,0,0,1,0,0])"
   ]
  },
  {
   "attachments": {},
   "cell_type": "markdown",
   "metadata": {},
   "source": [
    "## Tokenization and one_hot_encoding"
   ]
  },
  {
   "attachments": {},
   "cell_type": "markdown",
   "metadata": {},
   "source": [
    "Our approach involves breaking down each sentence into individual words and representing each sequence as a vector using one-hot encoding."
   ]
  },
  {
   "cell_type": "code",
   "execution_count": 4,
   "metadata": {},
   "outputs": [
    {
     "name": "stdout",
     "output_type": "stream",
     "text": [
      "[[13, 45, 24, 38, 49], [5, 45, 32, 41, 36, 43, 30, 20], [5, 45, 24, 3, 44], [43, 41, 31, 15, 49, 16], [36, 35, 48, 49], [36, 4, 17, 19, 39, 33, 21], [36, 3, 4, 45, 20, 2], [38, 24, 20, 20, 4], [46, 19], [30, 20]]\n"
     ]
    }
   ],
   "source": [
    "# integer encode the sentences\n",
    "vocabulary_size = 50\n",
    "encoded_sequence = [ one_hot(s, vocabulary_size) for s in sentences ]\n",
    "print( encoded_sequence )"
   ]
  },
  {
   "attachments": {},
   "cell_type": "markdown",
   "metadata": {},
   "source": [
    "\n",
    "The function called \"one_hot\" will require a sentence and a vocabulary_size as input parameters. The code shown above will use the \"one_hot\" function imported from Keras to convert all the sentences into an encoded form consisting of integers."
   ]
  },
  {
   "attachments": {},
   "cell_type": "markdown",
   "metadata": {},
   "source": [
    "After performing the one_hot function on the sentences, the above result is the output.\n",
    "\n",
    "But we can see that all the one_hot_encoded vectors are not of equal length, so to overcome this problem, we pad every sentence using the pad_sequences function. "
   ]
  },
  {
   "attachments": {},
   "cell_type": "markdown",
   "metadata": {},
   "source": [
    "## Padding"
   ]
  },
  {
   "attachments": {},
   "cell_type": "markdown",
   "metadata": {},
   "source": [
    "The belowe code will pad every sequence. Following is the output after applying the pad_sqeuences function on the one_hot_encoded vectors. We can see that every sequence has a length of ten numbers. \n",
    "\n",
    "Number of zeros added to each vector = max_length - length of one_hot_encoded vecto"
   ]
  },
  {
   "cell_type": "code",
   "execution_count": 5,
   "metadata": {},
   "outputs": [
    {
     "name": "stdout",
     "output_type": "stream",
     "text": [
      "[[ 0  0  0  0  0 13 45 24 38 49]\n",
      " [ 0  0  5 45 32 41 36 43 30 20]\n",
      " [ 0  0  0  0  0  5 45 24  3 44]\n",
      " [ 0  0  0  0 43 41 31 15 49 16]\n",
      " [ 0  0  0  0  0  0 36 35 48 49]\n",
      " [ 0  0  0 36  4 17 19 39 33 21]\n",
      " [ 0  0  0  0 36  3  4 45 20  2]\n",
      " [ 0  0  0  0  0 38 24 20 20  4]\n",
      " [ 0  0  0  0  0  0  0  0 46 19]\n",
      " [ 0  0  0  0  0  0  0  0 30 20]]\n"
     ]
    }
   ],
   "source": [
    "# pad documents to a max length of 10 words\n",
    "max_length = 10\n",
    "padded_sequence = pad_sequences( encoded_sequence, maxlen = max_length, padding='pre' )\n",
    "print( padded_sequence )"
   ]
  },
  {
   "attachments": {},
   "cell_type": "markdown",
   "metadata": {},
   "source": [
    "Till now we have created proper input data that we can feed to the embedding layer."
   ]
  },
  {
   "attachments": {},
   "cell_type": "markdown",
   "metadata": {},
   "source": [
    "## Embedding layers"
   ]
  },
  {
   "attachments": {},
   "cell_type": "markdown",
   "metadata": {},
   "source": [
    "\n",
    "In the code below we are creating embedding layers."
   ]
  },
  {
   "attachments": {},
   "cell_type": "markdown",
   "metadata": {},
   "source": [
    "\n",
    "input_dim: It is the vocabulary size of the input data. Suppose your data is encoded using integers from 0 to 500, then the vocabulary size will be 501 words.<br><br>\n",
    "output_dim: It defines the length of the resulting vector for each word. The size of the vector may vary from 1 to any large integer.<br><br>\n",
    "input_length: input_length is the total number of words in the input sequence. If all the sentences in your dataset contain 50 words, the input_length for that embedding layer will be 50."
   ]
  },
  {
   "cell_type": "code",
   "execution_count": 6,
   "metadata": {},
   "outputs": [
    {
     "name": "stdout",
     "output_type": "stream",
     "text": [
      "Model: \"sequential\"\n",
      "_________________________________________________________________\n",
      " Layer (type)                Output Shape              Param #   \n",
      "=================================================================\n",
      " embedding (Embedding)       (None, 10, 10)            500       \n",
      "                                                                 \n",
      " flatten (Flatten)           (None, 100)               0         \n",
      "                                                                 \n",
      " dense (Dense)               (None, 1)                 101       \n",
      "                                                                 \n",
      "=================================================================\n",
      "Total params: 601\n",
      "Trainable params: 601\n",
      "Non-trainable params: 0\n",
      "_________________________________________________________________\n",
      "None\n"
     ]
    }
   ],
   "source": [
    "# define the model\n",
    "model = Sequential()\n",
    "embedding_layer = Embedding( vocabulary_size, 10, input_length = max_length )\n",
    "model.add( embedding_layer )\n",
    "model.add( Flatten() )\n",
    "model.add( Dense(1, activation='sigmoid') )\n",
    "# compile the model\n",
    "model.compile( optimizer='adam', loss='binary_crossentropy', metrics=['accuracy'] )\n",
    "# summarize the model\n",
    "print( model.summary() )"
   ]
  },
  {
   "attachments": {
    "image.png": {
     "image/png": "[encoded data removed]"
    }
   },
   "cell_type": "markdown",
   "metadata": {},
   "source": [
    "### Flatten\n",
    "![image.png](attachment:image.png)"
   ]
  },
  {
   "cell_type": "code",
   "execution_count": null,
   "metadata": {},
   "outputs": [],
   "source": []
  },
  {
   "attachments": {},
   "cell_type": "markdown",
   "metadata": {},
   "source": [
    "We are creating a sequential model. In the embedding layer, vocabulary_size is input_dim parameter, output_dim is set to 10, and input_length of the sequence is the length of the padded sequence (max_length), i.e., 10. After flattening it apply a dense layer using the sigmoid activation function. \n",
    "\n",
    "Compile the model using the adam optimizer and use the binary_crossentropy as a loss function. \n",
    "\n",
    "The summary of the model is displayed above."
   ]
  },
  {
   "attachments": {},
   "cell_type": "markdown",
   "metadata": {},
   "source": [
    "## Train and evaluate the model"
   ]
  },
  {
   "cell_type": "code",
   "execution_count": 7,
   "metadata": {},
   "outputs": [
    {
     "name": "stderr",
     "output_type": "stream",
     "text": [
      "2023-05-11 16:17:41.603937: W tensorflow/tsl/platform/profile_utils/cpu_utils.cc:128] Failed to get CPU frequency: 0 Hz\n"
     ]
    },
    {
     "name": "stdout",
     "output_type": "stream",
     "text": [
      "Accuracy: 100.000000\n"
     ]
    }
   ],
   "source": [
    "# fit the model \n",
    "\n",
    "#The padded_sequence and remarks are then passed through this embedding layer. \n",
    "#Further accuracy of the model is evaluated\n",
    "model.fit( padded_sequence, remarks, epochs=50, verbose=0 )\n",
    "# evaluate the model\n",
    "loss, accuracy = model.evaluate( padded_sequence, remarks, verbose=0 )\n",
    "print( 'Accuracy: %f' % (accuracy*100) )"
   ]
  },
  {
   "cell_type": "code",
   "execution_count": 8,
   "metadata": {},
   "outputs": [
    {
     "name": "stdout",
     "output_type": "stream",
     "text": [
      "(50, 10)\n",
      "[ 0.09388529  0.08305469  0.06187513 -0.03443019 -0.00112939  0.09255347\n",
      " -0.01517768  0.08657327  0.09617761  0.01216056]\n"
     ]
    }
   ],
   "source": [
    "print( embedding_layer.get_weights()[0].shape )\n",
    "print( embedding_layer.get_weights()[0][0] )"
   ]
  },
  {
   "attachments": {},
   "cell_type": "markdown",
   "metadata": {},
   "source": [
    "This embedding matrix will be of 50 rows and ten columns, where each row is a vector representation of a single word, as shown in the output above."
   ]
  },
  {
   "cell_type": "code",
   "execution_count": 11,
   "metadata": {},
   "outputs": [
    {
     "name": "stdout",
     "output_type": "stream",
     "text": [
      "[[ 9.38852876e-02  8.30546916e-02  6.18751273e-02 -3.44301946e-02\n",
      "  -1.12938881e-03  9.25534666e-02 -1.51776820e-02  8.65732655e-02\n",
      "   9.61776078e-02  1.21605638e-02]\n",
      " [-3.85315418e-02  1.95661671e-02 -1.81525461e-02 -4.86598611e-02\n",
      "   3.18855084e-02 -3.81488912e-02  1.06371865e-02 -2.00034976e-02\n",
      "  -4.31242697e-02 -5.18710539e-03]\n",
      " [-6.98235333e-02  9.09015387e-02  5.30293621e-02 -3.22345607e-02\n",
      "   6.27857074e-02  5.23870587e-02 -7.86176398e-02  7.51003101e-02\n",
      "  -8.49833339e-02 -6.27578497e-02]\n",
      " [-2.32299194e-02  7.73078352e-02  7.74157941e-02  8.48370269e-02\n",
      "  -5.11130644e-03  2.61939913e-02 -4.30462547e-02  1.45091340e-02\n",
      "  -8.60781074e-02 -3.90743203e-02]\n",
      " [ 4.65109572e-02 -7.06498697e-02 -5.89971663e-04 -6.28100559e-02\n",
      "   5.29035777e-02 -6.27889261e-02  3.63853760e-02 -2.50264890e-02\n",
      "   4.03715856e-02  1.63600612e-02]\n",
      " [ 9.67882872e-02  2.48405710e-02  1.04447510e-02 -5.73330484e-02\n",
      "   9.72675085e-02 -8.17217454e-02  6.56082155e-03 -3.78810540e-02\n",
      "  -1.92806090e-03  8.94640014e-03]\n",
      " [ 6.40833378e-03  4.37070169e-02 -1.53251998e-02 -3.72653715e-02\n",
      "  -8.57646391e-03 -4.00426239e-03  3.50258835e-02 -4.70779799e-02\n",
      "   1.60158165e-02 -3.76742482e-02]\n",
      " [-3.67723219e-02  3.08783092e-02 -3.34522724e-02  4.84700240e-02\n",
      "   3.93420793e-02  1.79971345e-02 -2.55119801e-03 -3.01445965e-02\n",
      "  -1.88653469e-02 -1.99246053e-02]\n",
      " [ 2.77017616e-02  1.48239471e-02  4.09861468e-02  1.59117319e-02\n",
      "  -1.82750113e-02 -6.18056208e-03 -3.83497104e-02 -2.00238954e-02\n",
      "   4.56514694e-02  2.36755870e-02]\n",
      " [ 3.75590473e-03 -2.12618001e-02  2.94180773e-02 -4.49540019e-02\n",
      "  -3.25806886e-02  4.87517752e-02 -8.36768001e-03  4.52908538e-02\n",
      "   3.71605642e-02 -2.53983382e-02]\n",
      " [-4.06336188e-02 -1.93695780e-02  3.40617560e-02  7.39710405e-03\n",
      "   1.86690427e-02  1.16175413e-02 -2.42795944e-02 -2.79880688e-03\n",
      "  -5.92263788e-03 -9.32621956e-03]\n",
      " [-3.35847959e-02 -1.23696551e-02 -9.98746604e-04  2.62246169e-02\n",
      "   3.13917883e-02 -4.93034609e-02 -3.63190770e-02 -1.59830675e-02\n",
      "  -4.80651855e-03  1.67957284e-02]\n",
      " [ 4.34674062e-02 -4.57033776e-02  3.58871333e-02 -1.97085738e-02\n",
      "  -4.03471701e-02  1.22157931e-02  1.78085230e-02  4.50058691e-02\n",
      "  -4.73534726e-02  4.35760655e-02]\n",
      " [ 3.24594304e-02 -7.46773109e-02 -3.67166065e-02  1.11319842e-02\n",
      "   8.90138596e-02 -5.38806431e-02  8.47720355e-02 -5.40282577e-02\n",
      "  -3.28022637e-03  7.98977986e-02]\n",
      " [-4.52951305e-02 -3.02060731e-02  1.47807114e-02 -4.85293753e-02\n",
      "  -1.06572136e-02 -1.79326534e-03 -5.60681894e-03 -1.31547451e-04\n",
      "  -1.65935531e-02  9.14505869e-03]\n",
      " [-5.37200198e-02 -2.74889451e-02  1.62417572e-02  5.64640015e-02\n",
      "  -5.80072962e-02 -5.40629029e-02  5.12066670e-02 -4.46501821e-02\n",
      "  -6.37430027e-02 -6.57801032e-02]\n",
      " [ 2.86669843e-02 -5.34025915e-02 -1.12305460e-02  4.39509302e-02\n",
      "  -4.50218283e-03 -3.45327482e-02  8.27232897e-02 -4.92422655e-03\n",
      "   4.46679294e-02  6.33931160e-02]\n",
      " [-4.41074595e-02  8.00864473e-02  3.85935255e-03  7.04528438e-03\n",
      "  -7.52735212e-02  6.82048127e-02 -5.22224046e-02  5.68451695e-02\n",
      "   4.51559797e-02 -7.57563219e-04]\n",
      " [-4.67718765e-03  2.31477283e-02  3.65529209e-03 -2.65258551e-02\n",
      "   1.83597244e-02 -4.99933362e-02  4.26993519e-03 -4.93475199e-02\n",
      "   2.07813494e-02  1.69707648e-02]\n",
      " [-7.34366337e-03  9.25233066e-02  4.06116173e-02 -5.72396144e-02\n",
      "   4.49158847e-02  7.89253321e-03 -3.94670591e-02  6.01049103e-02\n",
      "  -4.18740921e-02  3.94867733e-02]\n",
      " [-3.29076014e-02  6.37425482e-02  8.20094049e-02  1.34306261e-02\n",
      "   9.64643657e-02  7.47606754e-02 -5.97921163e-02  1.65886078e-02\n",
      "  -1.00865252e-01 -4.03580349e-03]\n",
      " [-8.18688646e-02  7.68190324e-02  5.62030599e-02 -3.47780176e-02\n",
      "   6.42783344e-02  5.81280068e-02 -7.08121359e-02  6.29451424e-02\n",
      "  -3.15550976e-02 -4.13812585e-02]\n",
      " [-2.89286859e-02  6.11796230e-03  3.64798047e-02 -1.36626735e-02\n",
      "  -2.74857134e-03 -2.59863622e-02  3.49508412e-02  4.54494394e-02\n",
      "  -2.04658993e-02 -6.12192228e-03]\n",
      " [ 2.98447125e-02 -2.78487559e-02 -3.55006345e-02  3.60945202e-02\n",
      "   4.11267914e-02  4.85226549e-02 -4.51774970e-02 -3.95246036e-02\n",
      "  -3.89194377e-02 -4.53749076e-02]\n",
      " [-2.22844519e-02 -7.86517709e-02  6.39945790e-02  1.79640613e-02\n",
      "  -6.35973215e-02  2.44227075e-03  5.01197353e-02  8.51540361e-03\n",
      "  -1.48946205e-02 -9.80824828e-02]\n",
      " [-3.89681011e-03 -3.46644297e-02 -4.92032617e-03 -2.25662719e-02\n",
      "  -4.81102355e-02 -1.45274997e-02  3.87269966e-02 -2.62584575e-02\n",
      "  -1.39832124e-02 -1.18624046e-03]\n",
      " [ 4.27360050e-02 -2.14241277e-02 -4.98552434e-02  2.85039432e-02\n",
      "   2.79275663e-02  3.28704007e-02 -9.97974724e-03 -2.83731818e-02\n",
      "   2.68842094e-02 -8.34591314e-03]\n",
      " [-6.23311847e-03  1.76717974e-02  4.65872139e-03  3.43476869e-02\n",
      "  -4.74054739e-03  3.85224335e-02 -8.66162777e-03  9.70298052e-03\n",
      "  -3.61698642e-02 -2.82248743e-02]\n",
      " [-2.26377007e-02  4.19802330e-02 -1.16570964e-02 -4.47140597e-02\n",
      "  -2.16238853e-02 -4.84582037e-03 -2.85684466e-02  3.89978625e-02\n",
      "   4.77832593e-02 -3.95289063e-02]\n",
      " [-8.28991085e-03  3.92780341e-02 -4.69662063e-02  1.10133998e-02\n",
      "  -2.21190937e-02 -3.83767262e-02  3.03348936e-02  2.51425989e-02\n",
      "  -3.40864286e-02  1.69726871e-02]\n",
      " [ 9.05263200e-02 -3.76589261e-02  7.42388070e-02 -9.37473103e-02\n",
      "  -6.65968433e-02  8.49043299e-03  1.22639397e-02 -7.83182010e-02\n",
      "  -2.93241162e-03  4.26556990e-02]\n",
      " [-7.96419904e-02 -1.37908384e-02 -5.90782613e-03  3.00351083e-02\n",
      "  -4.02461505e-03  7.09391609e-02 -4.32582051e-02  1.32681523e-02\n",
      "  -2.01407056e-02 -6.16207011e-02]\n",
      " [-9.37641785e-02 -3.88773307e-02 -7.60969147e-02 -8.29337761e-02\n",
      "   7.20169991e-02  8.19757022e-03  1.10335695e-02  8.09609424e-03\n",
      "  -4.60362248e-02 -2.45545059e-02]\n",
      " [ 1.24896336e-02 -6.28219452e-03  6.32298514e-02 -9.20342281e-02\n",
      "  -5.48834801e-02  3.37411463e-02  6.23656576e-03 -3.56100872e-02\n",
      "   4.56579030e-02  1.29739158e-02]\n",
      " [-4.08135280e-02  3.58330719e-02  2.93708481e-02  4.74750735e-02\n",
      "   1.43947490e-02  2.48946585e-02 -3.84387001e-02 -1.02093704e-02\n",
      "  -4.37002666e-02 -3.75436768e-02]\n",
      " [-1.60366613e-02 -7.99565241e-02  9.43278596e-02  5.62173463e-02\n",
      "  -6.10111356e-02 -8.53603780e-02  2.08902676e-02 -4.45057899e-02\n",
      "  -3.48706357e-02 -5.38423434e-02]\n",
      " [-8.67284648e-03 -1.58020132e-03 -6.14569969e-02 -3.97400670e-02\n",
      "  -9.61060897e-02 -8.85725245e-02  3.68700773e-02 -1.53283803e-02\n",
      "  -6.10853806e-02 -7.91381449e-02]\n",
      " [-4.63622808e-02 -4.72801216e-02 -4.66775186e-02 -2.92217731e-02\n",
      "   4.68037389e-02 -4.94976304e-02 -2.50943191e-02 -7.34040886e-03\n",
      "   3.59324850e-02  3.50137092e-02]\n",
      " [ 8.38225037e-02  7.63774514e-02 -2.62092035e-02  8.38647112e-02\n",
      "   8.29556435e-02 -4.96455766e-02 -7.53310770e-02 -2.61161663e-02\n",
      "  -8.35167095e-02 -4.17681485e-02]\n",
      " [ 3.93974455e-03  2.07208563e-02 -6.64038286e-02 -5.62202670e-02\n",
      "   3.38558778e-02  6.84895813e-02 -7.42773265e-02  7.45226368e-02\n",
      "   9.21983719e-02  6.16527945e-02]\n",
      " [ 2.50925757e-02 -1.11751445e-02 -1.16151795e-02  3.07881124e-02\n",
      "  -3.79220732e-02  2.22092383e-02 -3.73091549e-03  3.35017927e-02\n",
      "  -1.42248720e-03  3.44504155e-02]\n",
      " [ 1.82208344e-02 -2.55913660e-02 -1.79903731e-02  1.05513930e-02\n",
      "   4.85207327e-02 -5.98730408e-02  4.95934226e-02  1.22678354e-02\n",
      "  -1.88169107e-02  2.38428693e-02]\n",
      " [-4.26501520e-02 -4.25640121e-02 -4.02557738e-02  4.84247468e-02\n",
      "  -3.04332506e-02  3.14183161e-03 -1.59889460e-03  2.00266764e-03\n",
      "  -4.02942076e-02  3.28624360e-02]\n",
      " [ 3.72999869e-02  7.30183870e-02 -2.62326766e-02  5.62415645e-02\n",
      "   8.30284059e-02 -3.23015042e-02 -6.02964163e-02  1.40980072e-02\n",
      "   6.39299229e-02  8.48852471e-02]\n",
      " [ 7.15704188e-02 -2.89314780e-02 -2.67718043e-02  6.17924444e-02\n",
      "  -6.89698383e-03 -5.34783676e-02  7.37079456e-02 -3.29422653e-02\n",
      "   6.48713186e-02  1.30917402e-02]\n",
      " [ 6.34517288e-03 -8.59035626e-02 -9.49547440e-02  3.72365601e-02\n",
      "  -6.42031059e-02  5.17825931e-02 -1.34713426e-02  8.64122882e-02\n",
      "  -5.46794124e-02 -2.47154180e-02]\n",
      " [ 3.64719331e-02 -4.02962752e-02  5.71054146e-02 -4.99350671e-03\n",
      "  -7.62040094e-02  9.44007039e-02  1.70610379e-02 -1.01739191e-01\n",
      "   2.03616917e-02  6.36714771e-02]\n",
      " [-1.83234327e-02  3.95614244e-02 -4.99179736e-02 -3.84600051e-02\n",
      "   3.95509340e-02 -2.19751000e-02  3.22113968e-02 -4.22137864e-02\n",
      "  -3.46567519e-02 -2.91198492e-03]\n",
      " [-3.01553905e-02  3.62226851e-02 -5.71194552e-02  4.69653010e-02\n",
      "   1.07792720e-01 -6.89054430e-02 -8.34502373e-03  8.30287114e-02\n",
      "  -1.97155382e-02 -5.13080787e-03]\n",
      " [ 7.77659789e-02 -2.03874912e-02 -2.64021195e-02  1.04928738e-04\n",
      "  -9.23105255e-02 -4.42479216e-02  8.99437815e-04 -8.20314288e-02\n",
      "   8.23134780e-02 -7.64746368e-02]]\n"
     ]
    }
   ],
   "source": [
    "print( embedding_layer.get_weights()[0] )"
   ]
  },
  {
   "cell_type": "code",
   "execution_count": null,
   "metadata": {},
   "outputs": [],
   "source": []
  }
 ],
 "metadata": {
  "kernelspec": {
   "display_name": "Python 3",
   "language": "python",
   "name": "python3"
  },
  "language_info": {
   "codemirror_mode": {
    "name": "ipython",
    "version": 3
   },
   "file_extension": ".py",
   "mimetype": "text/x-python",
   "name": "python",
   "nbconvert_exporter": "python",
   "pygments_lexer": "ipython3",
   "version": "3.8.16"
  },
  "orig_nbformat": 4
 },
 "nbformat": 4,
 "nbformat_minor": 2
}
