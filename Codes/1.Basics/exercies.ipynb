{
 "cells": [
  {
   "cell_type": "code",
   "execution_count": 3,
   "metadata": {},
   "outputs": [
    {
     "name": "stdout",
     "output_type": "stream",
     "text": [
      "['Monty', 'Python', 'Monty', 'Python']"
     ]
    }
   ],
   "source": [
    "import nltk\n",
    "import pandas as pd\n",
    "from bs4 import BeautifulSoup"
   ]
  },
  {
   "cell_type": "code",
   "execution_count": null,
   "metadata": {},
   "outputs": [],
   "source": [
    "print(['Monty', 'Python'] * 2, end = '')"
   ]
  },
  {
   "cell_type": "code",
   "execution_count": 17,
   "metadata": {},
   "outputs": [
    {
     "data": {
      "text/plain": [
       "\"Dersimizin ilk kodlarını yazıyoruz 'Hello World'\""
      ]
     },
     "execution_count": 17,
     "metadata": {},
     "output_type": "execute_result"
    }
   ],
   "source": [
    "my_string = \"Dersimizin ilk kodlarını yazıyoruz 'Hello World'\"\n",
    "\n",
    "my_string"
   ]
  },
  {
   "cell_type": "code",
   "execution_count": 18,
   "metadata": {},
   "outputs": [
    {
     "data": {
      "text/plain": [
       "\"Dersimizin ilk kodlarını yazıyoruz 'Hello World'Dersimizin ilk kodlarını yazıyoruz 'Hello World'Dersimizin ilk kodlarını yazıyoruz 'Hello World'\""
      ]
     },
     "execution_count": 18,
     "metadata": {},
     "output_type": "execute_result"
    }
   ],
   "source": [
    "my_string * 3"
   ]
  },
  {
   "cell_type": "code",
   "execution_count": 19,
   "metadata": {},
   "outputs": [
    {
     "name": "stdout",
     "output_type": "stream",
     "text": [
      "Dersimizin ilk kodlarını yazıyoruz 'Hello World' Dersimizin ilk kodlarını yazıyoruz 'Hello World' Dersimizin ilk kodlarını yazıyoruz 'Hello World' \n"
     ]
    }
   ],
   "source": [
    "print((my_string + \" \") * 3)"
   ]
  },
  {
   "cell_type": "code",
   "execution_count": 20,
   "metadata": {},
   "outputs": [
    {
     "name": "stdout",
     "output_type": "stream",
     "text": [
      "Dersimizin ilk kodlarını yazıyoruz 'Hello World' Dersimizin ilk kodlarını yazıyoruz 'Hello World' Dersimizin ilk kodlarını yazıyoruz 'Hello World'\n"
     ]
    }
   ],
   "source": [
    "print(' '.join([my_string] * 3))"
   ]
  },
  {
   "cell_type": "code",
   "execution_count": 23,
   "metadata": {},
   "outputs": [
    {
     "data": {
      "text/plain": [
       "'Öğrenecek o kadar fazla şey var ki hiç uyumasam 5 e bölünsem ve çalışsam yine de yetmez'"
      ]
     },
     "execution_count": 23,
     "metadata": {},
     "output_type": "execute_result"
    }
   ],
   "source": [
    "my_sent = [\"Öğrenecek\", \"o\", \"kadar\", \"fazla\", \"şey\", \"var\", \"ki\", \"hiç\", \n",
    "           \"uyumasam\", \"5 e bölünsem\", \"ve\", \"çalışsam\", \"yine\",\"de\",\"yetmez\"]\n",
    "\n",
    "my_string = ' '.join(my_sent)\n",
    "my_string"
   ]
  },
  {
   "cell_type": "code",
   "execution_count": 24,
   "metadata": {},
   "outputs": [
    {
     "name": "stdout",
     "output_type": "stream",
     "text": [
      "['Öğrenecek', 'o', 'kadar', 'fazla', 'şey', 'var', 'ki', 'hiç', 'uyumasam', '5', 'e', 'bölünsem', 've', 'çalışsam', 'yine', 'de', 'yetmez'] "
     ]
    }
   ],
   "source": [
    "print(my_string.split(), end = ' ')"
   ]
  },
  {
   "cell_type": "code",
   "execution_count": 25,
   "metadata": {},
   "outputs": [
    {
     "data": {
      "text/html": [
       "<div>\n",
       "<style scoped>\n",
       "    .dataframe tbody tr th:only-of-type {\n",
       "        vertical-align: middle;\n",
       "    }\n",
       "\n",
       "    .dataframe tbody tr th {\n",
       "        vertical-align: top;\n",
       "    }\n",
       "\n",
       "    .dataframe thead th {\n",
       "        text-align: right;\n",
       "    }\n",
       "</style>\n",
       "<table border=\"1\" class=\"dataframe\">\n",
       "  <thead>\n",
       "    <tr style=\"text-align: right;\">\n",
       "      <th></th>\n",
       "      <th>JobRefNo</th>\n",
       "      <th>DigerPozisyon</th>\n",
       "      <th>Qualifications</th>\n",
       "      <th>Classification</th>\n",
       "    </tr>\n",
       "  </thead>\n",
       "  <tbody>\n",
       "    <tr>\n",
       "      <th>0</th>\n",
       "      <td>3464108</td>\n",
       "      <td>Bilgisayar Mühendisi</td>\n",
       "      <td>&lt;p&gt;3464105346410534641053464105346410534641053...</td>\n",
       "      <td>Bilgi Teknolojileri</td>\n",
       "    </tr>\n",
       "    <tr>\n",
       "      <th>1</th>\n",
       "      <td>3464068</td>\n",
       "      <td>Yazılım Geliştirme Elemanı</td>\n",
       "      <td>&lt;p&gt;sskjdkjsdksajl sksakjdlkajdladl dskjlksjlks...</td>\n",
       "      <td>Bilgi Teknolojileri</td>\n",
       "    </tr>\n",
       "    <tr>\n",
       "      <th>2</th>\n",
       "      <td>3464018</td>\n",
       "      <td>Grafik Tasarımcı</td>\n",
       "      <td>&lt;p&gt;Şartlar&lt;/p&gt;&lt;p&gt;08.30 - 18.30 arası mesai saa...</td>\n",
       "      <td>Bilgi Teknolojileri</td>\n",
       "    </tr>\n",
       "    <tr>\n",
       "      <th>3</th>\n",
       "      <td>3463995</td>\n",
       "      <td>Full Stack Developer</td>\n",
       "      <td>&lt;p&gt;Yeditek Yeni Dijital Teknolojiler A.Ş.&lt;/p&gt;&lt;...</td>\n",
       "      <td>Bilgi Teknolojileri</td>\n",
       "    </tr>\n",
       "    <tr>\n",
       "      <th>4</th>\n",
       "      <td>3463739</td>\n",
       "      <td>Multimedya Tasarım Uzmanı</td>\n",
       "      <td>&lt;p&gt;Türkiye'de eğitim teknolojileri alanının il...</td>\n",
       "      <td>Bilgi Teknolojileri</td>\n",
       "    </tr>\n",
       "  </tbody>\n",
       "</table>\n",
       "</div>"
      ],
      "text/plain": [
       "   JobRefNo               DigerPozisyon  \\\n",
       "0   3464108        Bilgisayar Mühendisi   \n",
       "1   3464068  Yazılım Geliştirme Elemanı   \n",
       "2   3464018            Grafik Tasarımcı   \n",
       "3   3463995        Full Stack Developer   \n",
       "4   3463739   Multimedya Tasarım Uzmanı   \n",
       "\n",
       "                                      Qualifications       Classification  \n",
       "0  <p>3464105346410534641053464105346410534641053...  Bilgi Teknolojileri  \n",
       "1  <p>sskjdkjsdksajl sksakjdlkajdladl dskjlksjlks...  Bilgi Teknolojileri  \n",
       "2  <p>Şartlar</p><p>08.30 - 18.30 arası mesai saa...  Bilgi Teknolojileri  \n",
       "3  <p>Yeditek Yeni Dijital Teknolojiler A.Ş.</p><...  Bilgi Teknolojileri  \n",
       "4  <p>Türkiye'de eğitim teknolojileri alanının il...  Bilgi Teknolojileri  "
      ]
     },
     "execution_count": 25,
     "metadata": {},
     "output_type": "execute_result"
    }
   ],
   "source": [
    "it_data = pd.read_csv('../../Data/Jobs_IT.csv')\n",
    "it_data.head()"
   ]
  },
  {
   "cell_type": "code",
   "execution_count": 41,
   "metadata": {},
   "outputs": [
    {
     "name": "stdout",
     "output_type": "stream",
     "text": [
      "Şartlar 08.30 - 18.30 arası mesai saatleri. Sadece pazar günleri çalışmıyoruz. Yerimiz Kızılay- Kolejdedir. Nitelikler Orta seviye Photoshop (Zorunlu) Tercihen Adobe premier bilen Tercihen orta seviye İngilizce okuma ve yazma Tercihen ürün çekimi konusunda tecrübeli. İşin Tanımı Grafik tasarımın yanı sıra İdari işlerde yardımcı olacak ekip arkadaşı ihtiyacımız vardır.  Siparişleri  ayarlama, kargo paketleme, baskı makinalarının kullanımı gibi gün içinde bizler ne yapıyorsak yardımcı olacak personel işe alınacaktır. Ara sıra Adobe premier ve photoshopta projeler verilecektir bu nedenle bilen kişileri tercih ediyoruz.\n",
      "623\n"
     ]
    }
   ],
   "source": [
    "soup = BeautifulSoup(it_data.iloc[2]['Qualifications'])\n",
    "text = soup.get_text(\" \")\n",
    "print(text)\n",
    "print(len(text))"
   ]
  },
  {
   "cell_type": "code",
   "execution_count": 43,
   "metadata": {},
   "outputs": [
    {
     "name": "stdout",
     "output_type": "stream",
     "text": [
      "Şartlar 08.30 - 18.30 arası mesai saatleri. Sadece\n"
     ]
    }
   ],
   "source": [
    "phrase1 = BeautifulSoup(it_data.iloc[2]['Qualifications']).get_text(\" \").split()[0:4]\n",
    "phrase2 = BeautifulSoup(it_data.iloc[2]['Qualifications']).get_text(\" \").split()[4:8]\n",
    "\n",
    "print(' '.join(phrase1 + phrase2))"
   ]
  },
  {
   "cell_type": "code",
   "execution_count": 44,
   "metadata": {},
   "outputs": [
    {
     "data": {
      "text/plain": [
       "8"
      ]
     },
     "execution_count": 44,
     "metadata": {},
     "output_type": "execute_result"
    }
   ],
   "source": [
    "len(phrase1 + phrase2)"
   ]
  },
  {
   "cell_type": "code",
   "execution_count": 46,
   "metadata": {},
   "outputs": [
    {
     "data": {
      "text/plain": [
       "'Python'"
      ]
     },
     "execution_count": 46,
     "metadata": {},
     "output_type": "execute_result"
    }
   ],
   "source": [
    "\"Monty Python\"[6:12]"
   ]
  },
  {
   "cell_type": "code",
   "execution_count": 47,
   "metadata": {},
   "outputs": [
    {
     "data": {
      "text/plain": [
       "'Python'"
      ]
     },
     "execution_count": 47,
     "metadata": {},
     "output_type": "execute_result"
    }
   ],
   "source": [
    "[\"Monty\", \"Python\"][1]"
   ]
  },
  {
   "cell_type": "code",
   "execution_count": 48,
   "metadata": {},
   "outputs": [
    {
     "ename": "IndexError",
     "evalue": "string index out of range",
     "output_type": "error",
     "traceback": [
      "\u001b[0;31m---------------------------------------------------------------------------\u001b[0m",
      "\u001b[0;31mIndexError\u001b[0m                                Traceback (most recent call last)",
      "Cell \u001b[0;32mIn[48], line 1\u001b[0m\n\u001b[0;32m----> 1\u001b[0m phrase1[\u001b[39m2\u001b[39;49m][\u001b[39m2\u001b[39;49m]\n",
      "\u001b[0;31mIndexError\u001b[0m: string index out of range"
     ]
    }
   ],
   "source": [
    "phrase1[2][2]"
   ]
  },
  {
   "cell_type": "code",
   "execution_count": null,
   "metadata": {},
   "outputs": [],
   "source": []
  }
 ],
 "metadata": {
  "kernelspec": {
   "display_name": "nlpEnv",
   "language": "python",
   "name": "python3"
  },
  "language_info": {
   "codemirror_mode": {
    "name": "ipython",
    "version": 3
   },
   "file_extension": ".py",
   "mimetype": "text/x-python",
   "name": "python",
   "nbconvert_exporter": "python",
   "pygments_lexer": "ipython3",
   "version": "3.11.0"
  },
  "orig_nbformat": 4
 },
 "nbformat": 4,
 "nbformat_minor": 2
}
