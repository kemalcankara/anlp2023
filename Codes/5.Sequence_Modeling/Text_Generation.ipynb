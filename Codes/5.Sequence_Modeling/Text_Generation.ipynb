{
 "cells": [
  {
   "attachments": {},
   "cell_type": "markdown",
   "metadata": {},
   "source": [
    "The central idea of this tutorial is to explore LSTM based models. We will explore how the size of the model effects the sequence generated. We will see both character based and word based models."
   ]
  },
  {
   "attachments": {},
   "cell_type": "markdown",
   "metadata": {},
   "source": [
    "## Word Based LSTM model\n"
   ]
  },
  {
   "cell_type": "code",
   "execution_count": 2,
   "metadata": {},
   "outputs": [],
   "source": [
    "import numpy\n",
    "import re\n",
    "import pandas as pd\n",
    "import numpy as np\n",
    "import keras\n",
    "import string\n",
    "import nltk\n",
    "\n",
    "from keras.models import Sequential\n",
    "from keras.layers import Dense\n",
    "from keras.layers import Dropout\n",
    "from keras.layers import LSTM\n",
    "from keras.layers import Embedding\n",
    "from keras.callbacks import ModelCheckpoint\n",
    "from keras.utils import np_utils\n",
    "from sklearn.model_selection import train_test_split\n",
    "from keras.preprocessing.text import Tokenizer\n",
    "from keras.utils import pad_sequences\n",
    "\n",
    "string.punctuation = string.punctuation + '“' + '”' +'-' + '’' + '‘' + '—'\n",
    "string.punctuation = string.punctuation.replace('.', '')"
   ]
  },
  {
   "attachments": {},
   "cell_type": "markdown",
   "metadata": {},
   "source": [
    "We do basic pre processing which includes lowering etc. after looking at the dataset.<br>\n",
    "I use different text processing codes for each class. Examine all of them to know this process better."
   ]
  },
  {
   "cell_type": "code",
   "execution_count": 4,
   "metadata": {},
   "outputs": [
    {
     "name": "stdout",
     "output_type": "stream",
     "text": [
      "The number of sentences is 981\n",
      "The number of tokens is 26381\n",
      "The average number of tokens per sentence is 27\n",
      "The number of unique tokens are 3037\n"
     ]
    }
   ],
   "source": [
    "# Loads the data and preprocesses data and stores corpus in raw_text\n",
    "raw_text = open('../../Data/corpus.txt', encoding = 'utf8').read()\n",
    "\n",
    "file_nl_removed = \"\"\n",
    "for line in raw_text:\n",
    "  line_nl_removed = line.replace(\"\\n\", \" \")           #removes newlines\n",
    "  file_nl_removed += line_nl_removed\n",
    "\n",
    "file_p = \"\".join([char for char in file_nl_removed if char not in string.punctuation])   #removes all special characters\n",
    "sents = nltk.sent_tokenize(file_p)\n",
    "print(\"The number of sentences is\", len(sents)) #prints the number of sentences\n",
    "\n",
    "string.punctuation = string.punctuation + '.'\n",
    "file_q = \"\".join([char for char in file_p if char not in string.punctuation])   #removes even periods.\n",
    "words = nltk.word_tokenize(file_q)\n",
    "print(\"The number of tokens is\", len(words)) #prints the number of tokens\n",
    "\n",
    "average_tokens = round(len(words)/len(sents))\n",
    "print(\"The average number of tokens per sentence is\", average_tokens) #prints the average number of tokens per sentence\n",
    "\n",
    "unique_tokens = set(words)\n",
    "print(\"The number of unique tokens are\", len(unique_tokens)) #prints the number of unique tokens\n",
    "\n",
    "preprocessed_text = file_p.lower()       #converts corpus into lowercase"
   ]
  },
  {
   "cell_type": "code",
   "execution_count": 5,
   "metadata": {},
   "outputs": [],
   "source": [
    "# Hyperparameters of the model\n",
    "vocab_size = 2750  #chosen based on statistics of the model\n",
    "oov_tok = '<OOV>'\n",
    "embedding_dim = 100\n",
    "padding_type='post'\n",
    "trunc_type='post'"
   ]
  },
  {
   "cell_type": "code",
   "execution_count": 6,
   "metadata": {},
   "outputs": [],
   "source": [
    "# tokenizes sentences\n",
    "tokenizer = Tokenizer(num_words = vocab_size, oov_token=oov_tok)\n",
    "tokenizer.fit_on_texts([preprocessed_text])\n",
    "word_index = tokenizer.word_index"
   ]
  },
  {
   "cell_type": "code",
   "execution_count": 7,
   "metadata": {},
   "outputs": [],
   "source": [
    "seq_length = 50;\n",
    "tokens = tokenizer.texts_to_sequences([preprocessed_text])[0]"
   ]
  },
  {
   "cell_type": "code",
   "execution_count": 8,
   "metadata": {},
   "outputs": [
    {
     "name": "stdout",
     "output_type": "stream",
     "text": [
      "Total training data size is - 26333\n"
     ]
    }
   ],
   "source": [
    "dataX = []\n",
    "dataY = []\n",
    "\n",
    "for i in range(0, len(tokens) - seq_length-1 , 1):\n",
    "  seq_in = tokens[i:i + seq_length]\n",
    "  seq_out = tokens[i + seq_length]\n",
    "\n",
    "  if seq_out==1: #Skip samples where target word is OOV\n",
    "    continue\n",
    "    \n",
    "  dataX.append(seq_in)\n",
    "  dataY.append(seq_out)\n",
    " \n",
    "N = len(dataX)\n",
    "print (\"Total training data size is -\", N)"
   ]
  },
  {
   "cell_type": "code",
   "execution_count": 9,
   "metadata": {},
   "outputs": [],
   "source": [
    "X = numpy.array(dataX)\n",
    "\n",
    "# one hot encodes the output variable\n",
    "y = numpy.array(dataY)\n",
    "y = np_utils.to_categorical(dataY)"
   ]
  },
  {
   "cell_type": "code",
   "execution_count": 10,
   "metadata": {},
   "outputs": [
    {
     "name": "stdout",
     "output_type": "stream",
     "text": [
      "Model: \"sequential\"\n",
      "_________________________________________________________________\n",
      " Layer (type)                Output Shape              Param #   \n",
      "=================================================================\n",
      " embedding (Embedding)       (None, 50, 100)           275000    \n",
      "                                                                 \n",
      " bidirectional (Bidirectiona  (None, 128)              84480     \n",
      " l)                                                              \n",
      "                                                                 \n",
      " dense (Dense)               (None, 2750)              354750    \n",
      "                                                                 \n",
      "=================================================================\n",
      "Total params: 714,230\n",
      "Trainable params: 714,230\n",
      "Non-trainable params: 0\n",
      "_________________________________________________________________\n"
     ]
    }
   ],
   "source": [
    "# with embedding\n",
    "model = keras.Sequential([\n",
    "    keras.layers.Embedding(vocab_size, embedding_dim, input_length=seq_length),\n",
    "    keras.layers.Bidirectional(keras.layers.LSTM(64)),\n",
    "    keras.layers.Dense(vocab_size, activation='softmax')\n",
    "])\n",
    "\n",
    "# compiles model\n",
    "model.compile(loss='categorical_crossentropy',\n",
    "              optimizer='adam',\n",
    "              metrics=['accuracy'])\n",
    "\n",
    "# model summary\n",
    "model.summary()"
   ]
  },
  {
   "cell_type": "code",
   "execution_count": 11,
   "metadata": {},
   "outputs": [
    {
     "name": "stdout",
     "output_type": "stream",
     "text": [
      "Epoch 1/5\n"
     ]
    },
    {
     "name": "stderr",
     "output_type": "stream",
     "text": [
      "2023-05-15 14:48:03.043948: W tensorflow/tsl/platform/profile_utils/cpu_utils.cc:128] Failed to get CPU frequency: 0 Hz\n"
     ]
    },
    {
     "name": "stdout",
     "output_type": "stream",
     "text": [
      "165/165 [==============================] - 10s 56ms/step - loss: 6.4357 - accuracy: 0.0547 - val_loss: 6.2589 - val_accuracy: 0.0849\n",
      "Epoch 2/5\n",
      "165/165 [==============================] - 9s 52ms/step - loss: 5.9622 - accuracy: 0.0560 - val_loss: 6.1929 - val_accuracy: 0.0851\n",
      "Epoch 3/5\n",
      "165/165 [==============================] - 8s 50ms/step - loss: 5.8336 - accuracy: 0.0594 - val_loss: 6.1830 - val_accuracy: 0.0908\n",
      "Epoch 4/5\n",
      "165/165 [==============================] - 8s 51ms/step - loss: 5.7273 - accuracy: 0.0671 - val_loss: 6.1647 - val_accuracy: 0.0934\n",
      "Epoch 5/5\n",
      "165/165 [==============================] - 9s 52ms/step - loss: 5.6364 - accuracy: 0.0703 - val_loss: 6.1750 - val_accuracy: 0.0953\n"
     ]
    }
   ],
   "source": [
    "# Uses validation split of 0.2 while training\n",
    "num_epochs = 5\n",
    "history = model.fit(X, y, epochs=num_epochs, batch_size = 128, verbose=1, validation_split=0.2)"
   ]
  },
  {
   "cell_type": "code",
   "execution_count": 12,
   "metadata": {},
   "outputs": [],
   "source": [
    "#Creates word to idx map using tokenizer.word_index\n",
    "reverse_word_map = dict(map(reversed, tokenizer.word_index.items()))"
   ]
  },
  {
   "cell_type": "code",
   "execution_count": 17,
   "metadata": {},
   "outputs": [],
   "source": [
    "# Returns the next n words greedily\n",
    "def next_tokens(input_str, n):\n",
    "    print (\"Seed -\",  input_str, sep = '\\n\\n')\n",
    "    final_string = ''\n",
    "    for i in range(n):\n",
    "        token = tokenizer.texts_to_sequences([input_str])\n",
    "        prediction = model.predict(token, verbose=0)\n",
    "        final_string = final_string + reverse_word_map[numpy.argmax(prediction[0])] + ' ' \n",
    "        input_str = input_str + ' ' + reverse_word_map[numpy.argmax(prediction[0])]\n",
    "        input_str = ' '.join(input_str.split(' ')[1:])\n",
    "    return final_string"
   ]
  },
  {
   "cell_type": "code",
   "execution_count": 19,
   "metadata": {},
   "outputs": [
    {
     "name": "stdout",
     "output_type": "stream",
     "text": [
      "Seed -\n",
      "\n",
      "had made her so savage when they met in the kitchen when im a duchess she said to herself not in a very hopeful tone though i wont have any pepper in my kitchen at all soup does very well withoutmaybe its always pepper that makes people hottempered she went\n",
      "\n",
      "Generated string -\n",
      "\n",
      " the little little little little little little little little little \n"
     ]
    }
   ],
   "source": [
    "# picks a random seed\n",
    "start = numpy.random.randint(0, len(dataX)-1)\n",
    "pattern = dataX[start]\n",
    "input_str = ' '.join([reverse_word_map[value] for value in pattern])\n",
    "\n",
    "output = next_tokens(input_str, 10)\n",
    "print(\"\\nGenerated string -\\n\\n\", output)"
   ]
  },
  {
   "cell_type": "code",
   "execution_count": 20,
   "metadata": {},
   "outputs": [
    {
     "name": "stdout",
     "output_type": "stream",
     "text": [
      "Seed -\n",
      "\n",
      "The boy laughed at the fright he had caused. This time, the villagers left angrily. The third day, as the boy went up the small hill, he suddenly saw a wolf attacking his sheep. He cried as hard as he could, “Wolf! Wolf! Wolf!”, but not  a single villager came to help him. The villagers thought that he was trying to fool them again and did not come to rescue  him or his sheep.\n",
      "\n",
      "Generated string -\n",
      "\n",
      " and the little little little little little little little little \n"
     ]
    }
   ],
   "source": [
    "input_str = \"The boy laughed at the fright he had caused. This time, the villagers left angrily. The third day, as the boy went up\\\n",
    " the small hill, he suddenly saw a wolf attacking his sheep. He cried as hard as he could, “Wolf! Wolf! Wolf!”, but not \\\n",
    " a single villager came to help him. The villagers thought that he was trying to fool them again and did not come to rescue \\\n",
    " him or his sheep.\"\n",
    "\n",
    "# Uses first 50 tokens from given input_str as input. Since the seq_length is 50, only 50 tokens are taken using the tokenizer.\n",
    "output = next_tokens(input_str, 10)\n",
    "print(\"\\nGenerated string -\\n\\n\", output)"
   ]
  },
  {
   "attachments": {},
   "cell_type": "markdown",
   "metadata": {},
   "source": [
    "## Character based LSTM Model 1"
   ]
  },
  {
   "cell_type": "code",
   "execution_count": 21,
   "metadata": {},
   "outputs": [
    {
     "name": "stdout",
     "output_type": "stream",
     "text": [
      "The number of total characters are 135031\n",
      "\n",
      "The character vocab size is 29\n"
     ]
    }
   ],
   "source": [
    "# Uses the preprocessed data and create raw_text\n",
    "raw_text = preprocessed_text   #periods have not been removed for better results\n",
    "\n",
    "# creates mapping of unique characters to integers\n",
    "chars = sorted(list(set(raw_text)))\n",
    "char_to_int = dict((c, i) for i, c in enumerate(chars))\n",
    "int_to_char = dict((i, c) for i, c in enumerate(chars))\n",
    "\n",
    "# Prints the total characters and character vocab size\n",
    "n_chars = len(raw_text)\n",
    "n_vocab = len(chars)\n",
    "\n",
    "print(\"The number of total characters are\", n_chars)\n",
    "print(\"\\nThe character vocab size is\", n_vocab)"
   ]
  },
  {
   "cell_type": "code",
   "execution_count": 22,
   "metadata": {},
   "outputs": [
    {
     "name": "stdout",
     "output_type": "stream",
     "text": [
      "Total Patterns:  134931\n"
     ]
    }
   ],
   "source": [
    "#Prepares dataset where the input is sequence of 100 characters and target is next character.\n",
    "seq_length = 100\n",
    "\n",
    "dataX = []\n",
    "dataY = []\n",
    "\n",
    "for i in range(0, n_chars - seq_length, 1):\n",
    "  seq_in = raw_text[i:i + seq_length]\n",
    "  seq_out = raw_text[i + seq_length]\n",
    "\n",
    "  dataX.append([char_to_int[char] for char in seq_in])\n",
    "  dataY.append(char_to_int[seq_out])\n",
    "\n",
    "n_patterns = len(dataX)\n",
    "print (\"Total Patterns: \", n_patterns)"
   ]
  },
  {
   "cell_type": "code",
   "execution_count": 23,
   "metadata": {},
   "outputs": [],
   "source": [
    "# reshapes X to be [samples, time steps, features]\n",
    "X = numpy.reshape(dataX, (n_patterns, seq_length, 1))\n",
    "\n",
    "# one hot encodes the output variable\n",
    "y = np_utils.to_categorical(dataY)"
   ]
  },
  {
   "cell_type": "code",
   "execution_count": 24,
   "metadata": {},
   "outputs": [],
   "source": [
    "embedding_dim =100\n",
    "max_length =100"
   ]
  },
  {
   "cell_type": "code",
   "execution_count": 26,
   "metadata": {},
   "outputs": [
    {
     "name": "stdout",
     "output_type": "stream",
     "text": [
      "Model: \"sequential_2\"\n",
      "_________________________________________________________________\n",
      " Layer (type)                Output Shape              Param #   \n",
      "=================================================================\n",
      " embedding_2 (Embedding)     (None, 100, 100)          2900      \n",
      "                                                                 \n",
      " lstm_2 (LSTM)               (None, 256)               365568    \n",
      "                                                                 \n",
      " dropout_1 (Dropout)         (None, 256)               0         \n",
      "                                                                 \n",
      " dense_2 (Dense)             (None, 29)                7453      \n",
      "                                                                 \n",
      "=================================================================\n",
      "Total params: 375,921\n",
      "Trainable params: 375,921\n",
      "Non-trainable params: 0\n",
      "_________________________________________________________________\n"
     ]
    }
   ],
   "source": [
    "model = Sequential()\n",
    "model.add(Embedding(n_vocab, embedding_dim, input_length=max_length))\n",
    "model.add(LSTM(256))\n",
    "model.add(Dropout(0.2))\n",
    "model.add(Dense(y.shape[1], activation='softmax'))\n",
    "model.compile(loss='categorical_crossentropy', optimizer='adam')\n",
    "model.summary()\n",
    "\n"
   ]
  },
  {
   "cell_type": "code",
   "execution_count": 27,
   "metadata": {},
   "outputs": [
    {
     "name": "stdout",
     "output_type": "stream",
     "text": [
      "Epoch 1/20\n",
      "1055/1055 [==============================] - 256s 242ms/step - loss: 2.0904\n",
      "Epoch 2/20\n",
      "1055/1055 [==============================] - 256s 243ms/step - loss: 1.6336\n",
      "Epoch 3/20\n",
      "1055/1055 [==============================] - 567s 537ms/step - loss: 1.4606\n",
      "Epoch 4/20\n",
      "1055/1055 [==============================] - 267s 253ms/step - loss: 1.3564\n",
      "Epoch 5/20\n",
      "1055/1055 [==============================] - 262s 249ms/step - loss: 1.2859\n",
      "Epoch 6/20\n",
      "1055/1055 [==============================] - 256s 243ms/step - loss: 1.2278\n",
      "Epoch 7/20\n",
      "1055/1055 [==============================] - 259s 245ms/step - loss: 1.1807\n",
      "Epoch 8/20\n",
      "1055/1055 [==============================] - 250s 237ms/step - loss: 1.1392\n",
      "Epoch 9/20\n",
      "1055/1055 [==============================] - 257s 244ms/step - loss: 1.1017\n",
      "Epoch 10/20\n",
      "1055/1055 [==============================] - 261s 247ms/step - loss: 1.0695\n",
      "Epoch 11/20\n",
      "1055/1055 [==============================] - 252s 239ms/step - loss: 1.0395\n",
      "Epoch 12/20\n",
      "1055/1055 [==============================] - 248s 235ms/step - loss: 1.0094\n",
      "Epoch 13/20\n",
      "1055/1055 [==============================] - 246s 233ms/step - loss: 0.9820\n",
      "Epoch 14/20\n",
      "1055/1055 [==============================] - 251s 238ms/step - loss: 0.9562\n",
      "Epoch 15/20\n",
      "1055/1055 [==============================] - 248s 235ms/step - loss: 0.9323\n",
      "Epoch 16/20\n",
      "1055/1055 [==============================] - 245s 232ms/step - loss: 0.9122\n",
      "Epoch 17/20\n",
      "1055/1055 [==============================] - 251s 238ms/step - loss: 0.8926\n",
      "Epoch 18/20\n",
      "1055/1055 [==============================] - 247s 234ms/step - loss: 0.8732\n",
      "Epoch 19/20\n",
      "1055/1055 [==============================] - 255s 242ms/step - loss: 0.8589\n",
      "Epoch 20/20\n",
      "1055/1055 [==============================] - 260s 247ms/step - loss: 0.8395\n"
     ]
    },
    {
     "data": {
      "text/plain": [
       "<keras.callbacks.History at 0x16a8ef0d0>"
      ]
     },
     "execution_count": 27,
     "metadata": {},
     "output_type": "execute_result"
    }
   ],
   "source": [
    "model.fit(X, y, epochs = 20, batch_size=128)"
   ]
  },
  {
   "cell_type": "code",
   "execution_count": 28,
   "metadata": {},
   "outputs": [],
   "source": [
    "#Gets the generated string using the model.\n",
    "def predict_next_n_chars(pattern, n):\n",
    "    for i in range(n):\n",
    "      x = numpy.reshape(pattern, (1, len(pattern), 1))\n",
    "      prediction = model.predict(x, verbose=0)\n",
    "      print (int_to_char[numpy.argmax(prediction)], end = '')   #get next char index.\n",
    "      seq_in = [int_to_char[value] for value in pattern]\n",
    "      pattern.append(numpy.argmax(prediction))\n",
    "      pattern = pattern[1:len(pattern)]"
   ]
  },
  {
   "cell_type": "code",
   "execution_count": 29,
   "metadata": {},
   "outputs": [
    {
     "name": "stdout",
     "output_type": "stream",
     "text": [
      "Seed -\n",
      "\n",
      "s moment alice felt a very curious sensation which puzzled her a good deal until she made out what i\n",
      "\n",
      "Generated string -\n",
      "\n",
      "t was all the white rabbit who said the gryphon and the mouse was somebody out of the world i hadnt got but it was the same thing a little side of the words drink me been and the mouse was somebody ou"
     ]
    }
   ],
   "source": [
    "#picks a random seed\n",
    "start = numpy.random.randint(0, len(dataX)-1)\n",
    "pattern = dataX[start]\n",
    "input_str = ''.join([int_to_char[value] for value in pattern])\n",
    "print (\"Seed -\",  input_str, sep = '\\n\\n')\n",
    "print (\"\\nGenerated string -\\n\")\n",
    "\n",
    "predict_next_n_chars(pattern, 200)"
   ]
  },
  {
   "cell_type": "code",
   "execution_count": 30,
   "metadata": {},
   "outputs": [
    {
     "name": "stdout",
     "output_type": "stream",
     "text": [
      "Seed -\n",
      "\n",
      "the boy laughed at the fright he had caused. this time, the villagers left angrily. the third day, as the boy went up the small hill, he suddenly saw a wolf attacking his sheep. he cried as hard as he could, “wolf! wolf! wolf!”, but not  a single villager came to help him. the villagers thought that he was trying to fool them again and did not come to rescue  him or his sheep.\n",
      "\n",
      "Generated string -\n",
      "\n",
      "she spoke the words dont be a great deal too flame on the sense in the sea the mouse did not like the mouse did not like the mouse did not like the mouse did not like the mouse did not like the mouse "
     ]
    }
   ],
   "source": [
    "input_str = \"The boy laughed at the fright he had caused. This time, the villagers left angrily. The third day, as the boy went up\\\n",
    " the small hill, he suddenly saw a wolf attacking his sheep. He cried as hard as he could, “Wolf! Wolf! Wolf!”, but not \\\n",
    " a single villager came to help him. The villagers thought that he was trying to fool them again and did not come to rescue \\\n",
    " him or his sheep.\"\n",
    "\n",
    "#Uses the first 100 characters from given input_str as input to generate next 200 characters. \n",
    "input_str = input_str.lower()\n",
    "input_string = ''\n",
    "for each in input_str:\n",
    "  if each in chars:\n",
    "    if (len (input_string)<100):\n",
    "      input_string += each\n",
    "\n",
    "pattern = []\n",
    "pattern.append([char_to_int[char] for char in input_string])\n",
    "\n",
    "print (\"Seed -\",  input_str, sep = '\\n\\n')\n",
    "print (\"\\nGenerated string -\\n\")\n",
    "predict_next_n_chars(pattern[0], 200)"
   ]
  },
  {
   "attachments": {},
   "cell_type": "markdown",
   "metadata": {},
   "source": [
    "We see that the character generation is better, and has more overall word dependency captured in the seen data than the unseen data.<br> In both the cases, the generated text has nearly the same degree of syntactical accuracy, but the semantic meaning of the overall text is higher in the seen data generation."
   ]
  },
  {
   "attachments": {},
   "cell_type": "markdown",
   "metadata": {},
   "source": [
    "## Character based LSTM Model 2"
   ]
  },
  {
   "cell_type": "code",
   "execution_count": 32,
   "metadata": {},
   "outputs": [
    {
     "name": "stdout",
     "output_type": "stream",
     "text": [
      "Model: \"sequential_3\"\n",
      "_________________________________________________________________\n",
      " Layer (type)                Output Shape              Param #   \n",
      "=================================================================\n",
      " embedding_3 (Embedding)     (None, 100, 100)          2900      \n",
      "                                                                 \n",
      " lstm_3 (LSTM)               (None, 100, 256)          365568    \n",
      "                                                                 \n",
      " dropout_2 (Dropout)         (None, 100, 256)          0         \n",
      "                                                                 \n",
      " lstm_4 (LSTM)               (None, 256)               525312    \n",
      "                                                                 \n",
      " dropout_3 (Dropout)         (None, 256)               0         \n",
      "                                                                 \n",
      " dense_3 (Dense)             (None, 29)                7453      \n",
      "                                                                 \n",
      "=================================================================\n",
      "Total params: 901,233\n",
      "Trainable params: 901,233\n",
      "Non-trainable params: 0\n",
      "_________________________________________________________________\n"
     ]
    }
   ],
   "source": [
    "model1 = Sequential()\n",
    "model1.add(Embedding(n_vocab, embedding_dim, input_length=max_length))\n",
    "model1.add(LSTM(256, input_shape=(X.shape[1], embedding_dim),return_sequences=True))\n",
    "model1.add(Dropout(0.2))\n",
    "model1.add(LSTM(256))\n",
    "model1.add(Dropout(0.2))\n",
    "model1.add(Dense(y.shape[1], activation='softmax'))\n",
    "model1.compile(loss='categorical_crossentropy', optimizer='adam')\n",
    "model1.summary()"
   ]
  },
  {
   "cell_type": "code",
   "execution_count": 33,
   "metadata": {},
   "outputs": [
    {
     "name": "stdout",
     "output_type": "stream",
     "text": [
      "Epoch 1/20\n",
      "2109/2109 [==============================] - 800s 379ms/step - loss: 1.9951\n",
      "Epoch 2/20\n",
      "2109/2109 [==============================] - 846s 401ms/step - loss: 1.4907\n",
      "Epoch 3/20\n",
      "2109/2109 [==============================] - 816s 387ms/step - loss: 1.3402\n",
      "Epoch 4/20\n",
      "2109/2109 [==============================] - 921s 437ms/step - loss: 1.2552\n",
      "Epoch 5/20\n",
      "2109/2109 [==============================] - 911s 432ms/step - loss: 1.1958\n",
      "Epoch 6/20\n",
      "2109/2109 [==============================] - 793s 376ms/step - loss: 1.1472\n",
      "Epoch 7/20\n",
      "2109/2109 [==============================] - 938s 445ms/step - loss: 1.1085\n",
      "Epoch 8/20\n",
      "2109/2109 [==============================] - 865s 410ms/step - loss: 1.0716\n",
      "Epoch 9/20\n",
      "2109/2109 [==============================] - 833s 395ms/step - loss: 1.0452\n",
      "Epoch 10/20\n",
      "2109/2109 [==============================] - 852s 404ms/step - loss: 1.0143\n",
      "Epoch 11/20\n",
      "2109/2109 [==============================] - 848s 402ms/step - loss: 0.9905\n",
      "Epoch 12/20\n",
      "2109/2109 [==============================] - 855s 405ms/step - loss: 0.9707\n",
      "Epoch 13/20\n",
      "2109/2109 [==============================] - 889s 422ms/step - loss: 0.9511\n",
      "Epoch 14/20\n",
      "2109/2109 [==============================] - 866s 411ms/step - loss: 0.9315\n",
      "Epoch 15/20\n",
      "2109/2109 [==============================] - 820s 389ms/step - loss: 0.9174\n",
      "Epoch 16/20\n",
      "2109/2109 [==============================] - 826s 391ms/step - loss: 0.9048\n",
      "Epoch 17/20\n",
      "2109/2109 [==============================] - 812s 385ms/step - loss: 0.8905\n",
      "Epoch 18/20\n",
      "2109/2109 [==============================] - 808s 383ms/step - loss: 0.8810\n",
      "Epoch 19/20\n",
      "2109/2109 [==============================] - 794s 376ms/step - loss: 0.8724\n",
      "Epoch 20/20\n",
      "2109/2109 [==============================] - 798s 379ms/step - loss: 0.8608\n"
     ]
    },
    {
     "data": {
      "text/plain": [
       "<keras.callbacks.History at 0x2aa9a3d90>"
      ]
     },
     "execution_count": 33,
     "metadata": {},
     "output_type": "execute_result"
    }
   ],
   "source": [
    "model1.fit(X, y, epochs = 20, batch_size=64)"
   ]
  },
  {
   "cell_type": "code",
   "execution_count": 34,
   "metadata": {},
   "outputs": [],
   "source": [
    "# Generates the sequence similar to above methods. Gets the generated string using the model.\n",
    "def predict_next_n_chars(pattern, n):\n",
    "    for i in range(n):\n",
    "      x = numpy.reshape(pattern, (1, len(pattern), 1))\n",
    "      prediction = model1.predict(x, verbose=0)\n",
    "      print (int_to_char[numpy.argmax(prediction)], end = '')   #get next char index.\n",
    "      seq_in = [int_to_char[value] for value in pattern]\n",
    "      pattern.append(numpy.argmax(prediction))\n",
    "      pattern = pattern[1:len(pattern)]"
   ]
  },
  {
   "cell_type": "code",
   "execution_count": 35,
   "metadata": {},
   "outputs": [
    {
     "name": "stdout",
     "output_type": "stream",
     "text": [
      "Seed -\n",
      "\n",
      "table set out under a tree in front of the house and the march hare and the hatter were having tea a\n",
      "\n",
      "Generated string -\n",
      "\n",
      "nd the mouse was a good deal to the door and the mouse was a good deal to the door and the mouse was a good deal to the door and the mouse was a good deal to the door and the mouse was a good deal to "
     ]
    }
   ],
   "source": [
    "start = numpy.random.randint(0, len(dataX)-1)\n",
    "pattern = dataX[start]\n",
    "input_str = ''.join([int_to_char[value] for value in pattern])\n",
    "print (\"Seed -\",  input_str, sep = '\\n\\n')\n",
    "print (\"\\nGenerated string -\\n\")\n",
    "\n",
    "predict_next_n_chars(pattern, 200)"
   ]
  },
  {
   "attachments": {},
   "cell_type": "markdown",
   "metadata": {},
   "source": [
    "We see that the character generation is better, has higher overall word dependency captured in the seen data than the unseen data, as well as higher semantic meaning, just like Model 1. Model 2 is comparatively less overfitted than Model 1, in terms of unseen as well as seen data prediction. The unseen data prediction of this model is thus slightly better than that of Model 1.\n",
    "\n"
   ]
  },
  {
   "attachments": {},
   "cell_type": "markdown",
   "metadata": {},
   "source": [
    "#### Comparison between LSTM Character Based Model 1 and 2"
   ]
  },
  {
   "attachments": {
    "image.png": {
     "image/png": "[encoded data removed]"
    }
   },
   "cell_type": "markdown",
   "metadata": {},
   "source": [
    "![image.png](attachment:image.png)"
   ]
  },
  {
   "cell_type": "markdown",
   "metadata": {},
   "source": []
  }
 ],
 "metadata": {
  "kernelspec": {
   "display_name": "tensyflow",
   "language": "python",
   "name": "python3"
  },
  "language_info": {
   "codemirror_mode": {
    "name": "ipython",
    "version": 3
   },
   "file_extension": ".py",
   "mimetype": "text/x-python",
   "name": "python",
   "nbconvert_exporter": "python",
   "pygments_lexer": "ipython3",
   "version": "3.8.16"
  },
  "orig_nbformat": 4
 },
 "nbformat": 4,
 "nbformat_minor": 2
}
