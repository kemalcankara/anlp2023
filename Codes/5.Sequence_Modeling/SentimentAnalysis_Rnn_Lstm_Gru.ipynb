{
 "cells": [
  {
   "cell_type": "markdown",
   "metadata": {
    "id": "Ag88fDJdv-fv"
   },
   "source": [
    "## Plan of Action\n",
    "\n",
    "\n",
    "1.   Load **IMDb Movie Reviews dataset (50,000 reviews)**\n",
    "2.   **Pre-process dataset** by removing special characters, numbers, etc. from user reviews + convert **sentiment labels** positive & negative to numbers 1 & 0, respectively\n",
    "3.   **Import GloVe Word Embedding** to build Embedding Dictionary + Use this to build Embedding Matrix for our Corpus\n",
    "4. Model Training using **Deep Learning in Keras** for separate: **Simple Neural Net, CNN and LSTM Models** and analyse model performance and results\n",
    "4. Last, perform **predictions on real IMDb movie reviews**"
   ]
  },
  {
   "cell_type": "markdown",
   "metadata": {
    "id": "EwZa81ThPbt3"
   },
   "source": [
    "## Setting the environment"
   ]
  },
  {
   "cell_type": "code",
   "execution_count": 4,
   "metadata": {
    "id": "W-vpR9QCOn2i"
   },
   "outputs": [],
   "source": [
    "# Importing essential libraries and functions\n",
    "\n",
    "import pandas as pd\n",
    "import numpy as np\n",
    "import re\n",
    "import nltk\n",
    "from nltk.corpus import stopwords\n",
    "from numpy import array\n",
    "import tensorflow as tf"
   ]
  },
  {
   "cell_type": "code",
   "execution_count": 6,
   "metadata": {},
   "outputs": [],
   "source": [
    "from keras.preprocessing.text import one_hot, Tokenizer\n",
    "from keras.models import Sequential\n",
    "from keras.layers.core import Activation, Dropout, Dense\n",
    "from keras.layers import Flatten, GlobalMaxPooling1D, Embedding, Conv1D, LSTM\n",
    "from sklearn.model_selection import train_test_split"
   ]
  },
  {
   "cell_type": "code",
   "execution_count": 11,
   "metadata": {},
   "outputs": [],
   "source": [
    "from keras.utils import pad_sequences"
   ]
  },
  {
   "cell_type": "markdown",
   "metadata": {
    "id": "q6FO9rxjxHe_"
   },
   "source": [
    "## Loading dataset"
   ]
  },
  {
   "cell_type": "code",
   "execution_count": 12,
   "metadata": {
    "id": "sNL6yy_DO0n1"
   },
   "outputs": [],
   "source": [
    "# Importing IMDb Movie Reviews dataset\n",
    "\n",
    "movie_reviews = data = pd.read_csv('../../Data/a1_IMDB_Dataset.csv')\n",
    "\n",
    "# dataset source: https://www.kaggle.com/datasets/lakshmi25npathi/imdb-dataset-of-50k-movie-reviews"
   ]
  },
  {
   "cell_type": "code",
   "execution_count": 13,
   "metadata": {
    "colab": {
     "base_uri": "https://localhost:8080/"
    },
    "executionInfo": {
     "elapsed": 11,
     "status": "ok",
     "timestamp": 1658849654825,
     "user": {
      "displayName": "Skillcate Education",
      "userId": "11062674699417926870"
     },
     "user_tz": -330
    },
    "id": "elu2E2KjPBJX",
    "outputId": "22e0c258-e709-4c23-a9c6-adaadb3ac364"
   },
   "outputs": [
    {
     "data": {
      "text/plain": [
       "(50000, 2)"
      ]
     },
     "execution_count": 13,
     "metadata": {},
     "output_type": "execute_result"
    }
   ],
   "source": [
    "# Dataset exploration\n",
    "\n",
    "movie_reviews.shape"
   ]
  },
  {
   "cell_type": "code",
   "execution_count": 14,
   "metadata": {
    "colab": {
     "base_uri": "https://localhost:8080/",
     "height": 206
    },
    "executionInfo": {
     "elapsed": 10,
     "status": "ok",
     "timestamp": 1658849654826,
     "user": {
      "displayName": "Skillcate Education",
      "userId": "11062674699417926870"
     },
     "user_tz": -330
    },
    "id": "Ua8sjtdaPIAq",
    "outputId": "f3f15bdf-adc9-4f5a-a166-659cec59245f"
   },
   "outputs": [
    {
     "data": {
      "text/html": [
       "<div>\n",
       "<style scoped>\n",
       "    .dataframe tbody tr th:only-of-type {\n",
       "        vertical-align: middle;\n",
       "    }\n",
       "\n",
       "    .dataframe tbody tr th {\n",
       "        vertical-align: top;\n",
       "    }\n",
       "\n",
       "    .dataframe thead th {\n",
       "        text-align: right;\n",
       "    }\n",
       "</style>\n",
       "<table border=\"1\" class=\"dataframe\">\n",
       "  <thead>\n",
       "    <tr style=\"text-align: right;\">\n",
       "      <th></th>\n",
       "      <th>review</th>\n",
       "      <th>sentiment</th>\n",
       "    </tr>\n",
       "  </thead>\n",
       "  <tbody>\n",
       "    <tr>\n",
       "      <th>0</th>\n",
       "      <td>One of the other reviewers has mentioned that ...</td>\n",
       "      <td>positive</td>\n",
       "    </tr>\n",
       "    <tr>\n",
       "      <th>1</th>\n",
       "      <td>A wonderful little production. &lt;br /&gt;&lt;br /&gt;The...</td>\n",
       "      <td>positive</td>\n",
       "    </tr>\n",
       "    <tr>\n",
       "      <th>2</th>\n",
       "      <td>I thought this was a wonderful way to spend ti...</td>\n",
       "      <td>positive</td>\n",
       "    </tr>\n",
       "    <tr>\n",
       "      <th>3</th>\n",
       "      <td>Basically there's a family where a little boy ...</td>\n",
       "      <td>negative</td>\n",
       "    </tr>\n",
       "    <tr>\n",
       "      <th>4</th>\n",
       "      <td>Petter Mattei's \"Love in the Time of Money\" is...</td>\n",
       "      <td>positive</td>\n",
       "    </tr>\n",
       "  </tbody>\n",
       "</table>\n",
       "</div>"
      ],
      "text/plain": [
       "                                              review sentiment\n",
       "0  One of the other reviewers has mentioned that ...  positive\n",
       "1  A wonderful little production. <br /><br />The...  positive\n",
       "2  I thought this was a wonderful way to spend ti...  positive\n",
       "3  Basically there's a family where a little boy ...  negative\n",
       "4  Petter Mattei's \"Love in the Time of Money\" is...  positive"
      ]
     },
     "execution_count": 14,
     "metadata": {},
     "output_type": "execute_result"
    }
   ],
   "source": [
    "movie_reviews.head(5)"
   ]
  },
  {
   "cell_type": "code",
   "execution_count": 15,
   "metadata": {
    "colab": {
     "base_uri": "https://localhost:8080/"
    },
    "executionInfo": {
     "elapsed": 8,
     "status": "ok",
     "timestamp": 1658849654826,
     "user": {
      "displayName": "Skillcate Education",
      "userId": "11062674699417926870"
     },
     "user_tz": -330
    },
    "id": "CRIDYlo4O8Va",
    "outputId": "c2e8cbe3-7487-4b82-931a-d6e8bd2bce9f"
   },
   "outputs": [
    {
     "data": {
      "text/plain": [
       "False"
      ]
     },
     "execution_count": 15,
     "metadata": {},
     "output_type": "execute_result"
    }
   ],
   "source": [
    "# Checking for missing values\n",
    "\n",
    "movie_reviews.isnull().values.any()"
   ]
  },
  {
   "cell_type": "code",
   "execution_count": 16,
   "metadata": {
    "colab": {
     "base_uri": "https://localhost:8080/",
     "height": 296
    },
    "executionInfo": {
     "elapsed": 8,
     "status": "ok",
     "timestamp": 1658849654826,
     "user": {
      "displayName": "Skillcate Education",
      "userId": "11062674699417926870"
     },
     "user_tz": -330
    },
    "id": "ys4A3cAFPSYI",
    "outputId": "2fe3d6c3-06b2-4cc4-c1d2-2ad120757a0e"
   },
   "outputs": [
    {
     "data": {
      "text/plain": [
       "<Axes: xlabel='sentiment', ylabel='count'>"
      ]
     },
     "execution_count": 16,
     "metadata": {},
     "output_type": "execute_result"
    },
    {
     "data": {
      "image/png": "[encoded data removed]",
      "text/plain": [
       "<Figure size 640x480 with 1 Axes>"
      ]
     },
     "metadata": {},
     "output_type": "display_data"
    }
   ],
   "source": [
    "# Let's observe distribution of positive / negative sentiments in dataset\n",
    "\n",
    "import seaborn as sns\n",
    "sns.countplot(x='sentiment', data=movie_reviews)"
   ]
  },
  {
   "cell_type": "markdown",
   "metadata": {
    "id": "IAVIsg26PVZC"
   },
   "source": [
    "## Data Preprocessing"
   ]
  },
  {
   "cell_type": "code",
   "execution_count": 19,
   "metadata": {
    "colab": {
     "base_uri": "https://localhost:8080/",
     "height": 122
    },
    "executionInfo": {
     "elapsed": 7,
     "status": "ok",
     "timestamp": 1658849654826,
     "user": {
      "displayName": "Skillcate Education",
      "userId": "11062674699417926870"
     },
     "user_tz": -330
    },
    "id": "PJ6a6aKjPORv",
    "outputId": "d4c23272-ac55-4b30-b2ce-51cf361f4e77"
   },
   "outputs": [
    {
     "data": {
      "text/plain": [
       "'I thought this was a wonderful way to spend time on a too hot summer weekend, sitting in the air conditioned theater and watching a light-hearted comedy. The plot is simplistic, but the dialogue is witty and the characters are likable (even the well bread suspected serial killer). While some may be disappointed when they realize this is not Match Point 2: Risk Addiction, I thought it was proof that Woody Allen is still fully in control of the style many of us have grown to love.<br /><br />This was the most I\\'d laughed at one of Woody\\'s comedies in years (dare I say a decade?). While I\\'ve never been impressed with Scarlet Johanson, in this she managed to tone down her \"sexy\" image and jumped right into a average, but spirited young woman.<br /><br />This may not be the crown jewel of his career, but it was wittier than \"Devil Wears Prada\" and more interesting than \"Superman\" a great comedy to go see with friends.'"
      ]
     },
     "execution_count": 19,
     "metadata": {},
     "output_type": "execute_result"
    }
   ],
   "source": [
    "movie_reviews[\"review\"][2]\n",
    "\n",
    "# You can see that our text contains punctuations, brackets, HTML tags and numbers \n",
    "# We will preprocess this text in the next section"
   ]
  },
  {
   "cell_type": "code",
   "execution_count": 9,
   "metadata": {},
   "outputs": [],
   "source": [
    "# import b2_preprocessing_function\n",
    "from b2_preprocessing_function import CustomPreprocess"
   ]
  },
  {
   "cell_type": "code",
   "execution_count": 10,
   "metadata": {},
   "outputs": [
    {
     "data": {
      "text/plain": [
       "'best days life '"
      ]
     },
     "execution_count": 10,
     "metadata": {},
     "output_type": "execute_result"
    }
   ],
   "source": [
    "custom = CustomPreprocess()\n",
    "custom.preprocess_text(\"Those were the best days of my life!\")"
   ]
  },
  {
   "cell_type": "code",
   "execution_count": 20,
   "metadata": {
    "id": "pPFVY9UtPnkY"
   },
   "outputs": [],
   "source": [
    "TAG_RE = re.compile(r'<[^>]+>')\n",
    "\n",
    "def remove_tags(text):\n",
    "    '''Removes HTML tags: replaces anything between opening and closing <> with empty space'''\n",
    "\n",
    "    return TAG_RE.sub('', text)\n",
    "\n",
    "def preprocess_text(sen):\n",
    "    sen = sen.lower()\n",
    "    \n",
    "    # Remove html tags\n",
    "    sentence = remove_tags(sen)\n",
    "\n",
    "    # Remove punctuations and numbers\n",
    "    sentence = re.sub('[^a-zA-Z]', ' ', sentence)\n",
    "    \n",
    "    # Single character removal\n",
    "    sentence = re.sub(r\"\\s+[a-zA-Z]\\s+\", ' ', sentence)  # When we remove apostrophe from the word \"Mark's\", the apostrophe is replaced by an empty space. Hence, we are left with single character \"s\" that we are removing here.\n",
    "\n",
    "    # Remove multiple spaces\n",
    "    sentence = re.sub(r'\\s+', ' ', sentence)  # Next, we remove all the single characters and replace it by a space which creates multiple spaces in our text. Finally, we remove the multiple spaces from our text as well.\n",
    "    \n",
    "    # Remove Stopwords\n",
    "    pattern = re.compile(r'\\b(' + r'|'.join(set(stopwords.words('english'))) + r')\\b\\s*')\n",
    "    sentence = pattern.sub('', sentence)\n",
    "    \n",
    "    return sentence"
   ]
  },
  {
   "cell_type": "code",
   "execution_count": 22,
   "metadata": {
    "id": "GPSBPltpQDPp"
   },
   "outputs": [],
   "source": [
    "# Calling preprocessing_text function on movie_reviews\n",
    "\n",
    "X = []\n",
    "sentences = list(movie_reviews['review'])\n",
    "for sen in sentences:\n",
    "    X.append(preprocess_text(sen))"
   ]
  },
  {
   "cell_type": "code",
   "execution_count": 23,
   "metadata": {},
   "outputs": [
    {
     "data": {
      "text/plain": [
       "'thought wonderful way spend time hot summer weekend sitting air conditioned theater watching light hearted comedy plot simplistic dialogue witty characters likable even well bread suspected serial killer may disappointed realize match point risk addiction thought proof woody allen still fully control style many us grown love laughed one woody comedies years dare say decade never impressed scarlet johanson managed tone sexy image jumped right average spirited young woman may crown jewel career wittier devil wears prada interesting superman great comedy go see friends '"
      ]
     },
     "execution_count": 23,
     "metadata": {},
     "output_type": "execute_result"
    }
   ],
   "source": [
    "# Sample cleaned up movie review \n",
    "\n",
    "X[2]"
   ]
  },
  {
   "cell_type": "code",
   "execution_count": 24,
   "metadata": {
    "id": "-EKC4DJTQKsB"
   },
   "outputs": [],
   "source": [
    "# Converting sentiment labels to 0 & 1\n",
    "\n",
    "y = movie_reviews['sentiment']\n",
    "\n",
    "y = np.array(list(map(lambda x: 1 if x==\"positive\" else 0, y)))"
   ]
  },
  {
   "cell_type": "code",
   "execution_count": 38,
   "metadata": {
    "id": "UZPyxSQVQPT_"
   },
   "outputs": [],
   "source": [
    "X_train, X_test, y_train, y_test = train_test_split(X, y, test_size=0.20, random_state=42, stratify=y)\n",
    "\n",
    "# The train set will be used to train our deep learning models \n",
    "# while test set will be used to evaluate how well our model performs "
   ]
  },
  {
   "cell_type": "markdown",
   "metadata": {
    "id": "FsF3k9QbQc5q"
   },
   "source": [
    "## Preparing embedding layer"
   ]
  },
  {
   "cell_type": "markdown",
   "metadata": {
    "id": "hv27X0dUcurD"
   },
   "source": [
    "Let's now write the script for our embedding layer. Embedding layer converts our textual data into numeric form. It is then **used as the first layer for the deep learning models in Keras**."
   ]
  },
  {
   "cell_type": "code",
   "execution_count": 40,
   "metadata": {
    "id": "kZ5kWzGKeAgc"
   },
   "outputs": [],
   "source": [
    "# Embedding layer expects the words to be in numeric form \n",
    "# Using Tokenizer function from keras.preprocessing.text library\n",
    "# Method fit_on_text trains the tokenizer \n",
    "# Method texts_to_sequences converts sentences to their numeric form\n",
    "\n",
    "word_tokenizer = Tokenizer()\n",
    "word_tokenizer.fit_on_texts(X_train)\n",
    "\n",
    "X_train = word_tokenizer.texts_to_sequences(X_train)\n",
    "X_test = word_tokenizer.texts_to_sequences(X_test)"
   ]
  },
  {
   "cell_type": "code",
   "execution_count": 39,
   "metadata": {},
   "outputs": [
    {
     "name": "stdout",
     "output_type": "stream",
     "text": [
      "281\n",
      "84\n"
     ]
    }
   ],
   "source": [
    "print(len(X_train[2]))\n",
    "print(len(preprocess_text(X[2]).split()))"
   ]
  },
  {
   "cell_type": "code",
   "execution_count": 41,
   "metadata": {},
   "outputs": [],
   "source": [
    "import io\n",
    "import json"
   ]
  },
  {
   "cell_type": "code",
   "execution_count": 42,
   "metadata": {},
   "outputs": [],
   "source": [
    "# Saving\n",
    "tokenizer_json = word_tokenizer.to_json()\n",
    "with io.open('b3_tokenizer.json', 'w', encoding='utf-8') as f:\n",
    "    f.write(json.dumps(tokenizer_json, ensure_ascii=False))"
   ]
  },
  {
   "cell_type": "code",
   "execution_count": 43,
   "metadata": {
    "colab": {
     "base_uri": "https://localhost:8080/"
    },
    "executionInfo": {
     "elapsed": 25,
     "status": "ok",
     "timestamp": 1658849689767,
     "user": {
      "displayName": "Skillcate Education",
      "userId": "11062674699417926870"
     },
     "user_tz": -330
    },
    "id": "vn-Rj21reKVm",
    "outputId": "8bda9c62-df83-4e8e-c9af-d5f7ab98537e"
   },
   "outputs": [
    {
     "data": {
      "text/plain": [
       "91882"
      ]
     },
     "execution_count": 43,
     "metadata": {},
     "output_type": "execute_result"
    }
   ],
   "source": [
    "# Adding 1 to store dimensions for words for which no pretrained word embeddings exist\n",
    "\n",
    "vocab_length = len(word_tokenizer.word_index) + 1\n",
    "\n",
    "vocab_length"
   ]
  },
  {
   "cell_type": "code",
   "execution_count": 44,
   "metadata": {
    "id": "9-QqBAR0hz22"
   },
   "outputs": [],
   "source": [
    "# Padding all reviews to fixed length 100\n",
    "\n",
    "maxlen = 100\n",
    "\n",
    "X_train = pad_sequences(X_train, padding='post', maxlen=maxlen)\n",
    "X_test = pad_sequences(X_test, padding='post', maxlen=maxlen)"
   ]
  },
  {
   "cell_type": "code",
   "execution_count": 49,
   "metadata": {
    "id": "VH4uFszlRGPk"
   },
   "outputs": [],
   "source": [
    "# Load GloVe word embeddings and create an Embeddings Dictionary\n",
    "\n",
    "from numpy import asarray\n",
    "from numpy import zeros\n",
    "\n",
    "embeddings_dictionary = dict()\n",
    "glove_file = open('../../Data/Vectors/glove.6B.200d.txt', encoding=\"utf8\")##çok yer kaladığı için projeden sildim. siz tekrar indirebilirsiniz.\n",
    "\n",
    "for line in glove_file:\n",
    "    records = line.split()\n",
    "    word = records[0]\n",
    "    vector_dimensions = asarray(records[1:], dtype='float32')\n",
    "    embeddings_dictionary [word] = vector_dimensions\n",
    "glove_file.close()"
   ]
  },
  {
   "cell_type": "code",
   "execution_count": 50,
   "metadata": {
    "id": "ZN6SP61FSDZB"
   },
   "outputs": [],
   "source": [
    "# Create Embedding Matrix having 200 columns \n",
    "# Containing 200-dimensional GloVe word embeddings for all words in our corpus.\n",
    "\n",
    "embedding_matrix = zeros((vocab_length, 200))\n",
    "for word, index in word_tokenizer.word_index.items():\n",
    "    embedding_vector = embeddings_dictionary.get(word)\n",
    "    if embedding_vector is not None:\n",
    "        embedding_matrix[index] = embedding_vector"
   ]
  },
  {
   "cell_type": "code",
   "execution_count": 51,
   "metadata": {
    "colab": {
     "base_uri": "https://localhost:8080/"
    },
    "executionInfo": {
     "elapsed": 25,
     "status": "ok",
     "timestamp": 1658849701214,
     "user": {
      "displayName": "Skillcate Education",
      "userId": "11062674699417926870"
     },
     "user_tz": -330
    },
    "id": "fjwFEeCmiAPo",
    "outputId": "2507711f-fcb8-4c89-f912-28512bdb476c"
   },
   "outputs": [
    {
     "data": {
      "text/plain": [
       "(91882, 200)"
      ]
     },
     "execution_count": 51,
     "metadata": {},
     "output_type": "execute_result"
    }
   ],
   "source": [
    "embedding_matrix.shape"
   ]
  },
  {
   "cell_type": "markdown",
   "metadata": {
    "id": "OW-AbfS3jNy_"
   },
   "source": [
    "# Model Training with:"
   ]
  },
  {
   "cell_type": "markdown",
   "metadata": {
    "id": "F_bNYrfoSIBj"
   },
   "source": [
    "## Simple Neural Network"
   ]
  },
  {
   "cell_type": "code",
   "execution_count": 52,
   "metadata": {
    "id": "qf-U8d-WSFxk"
   },
   "outputs": [],
   "source": [
    "# Neural Network architecture\n",
    "\n",
    "snn_model = Sequential()\n",
    "embedding_layer = Embedding(vocab_length, 200, weights=[embedding_matrix], input_length=maxlen , trainable=False)\n",
    "\n",
    "snn_model.add(embedding_layer)\n",
    "\n",
    "snn_model.add(Flatten())\n",
    "snn_model.add(Dense(1, activation='sigmoid'))"
   ]
  },
  {
   "cell_type": "code",
   "execution_count": 53,
   "metadata": {
    "colab": {
     "base_uri": "https://localhost:8080/"
    },
    "executionInfo": {
     "elapsed": 15,
     "status": "ok",
     "timestamp": 1658849702052,
     "user": {
      "displayName": "Skillcate Education",
      "userId": "11062674699417926870"
     },
     "user_tz": -330
    },
    "id": "JjUzsDS5SOrH",
    "outputId": "368baadd-5208-4dcc-c0d5-755645fb5061"
   },
   "outputs": [
    {
     "name": "stdout",
     "output_type": "stream",
     "text": [
      "Model: \"sequential\"\n",
      "_________________________________________________________________\n",
      " Layer (type)                Output Shape              Param #   \n",
      "=================================================================\n",
      " embedding (Embedding)       (None, 100, 200)          18376400  \n",
      "                                                                 \n",
      " flatten (Flatten)           (None, 20000)             0         \n",
      "                                                                 \n",
      " dense (Dense)               (None, 1)                 20001     \n",
      "                                                                 \n",
      "=================================================================\n",
      "Total params: 18,396,401\n",
      "Trainable params: 20,001\n",
      "Non-trainable params: 18,376,400\n",
      "_________________________________________________________________\n",
      "None\n"
     ]
    }
   ],
   "source": [
    "# Model compiling\n",
    "\n",
    "snn_model.compile(optimizer='adam', loss='binary_crossentropy', metrics=['acc'])\n",
    "\n",
    "print(snn_model.summary())"
   ]
  },
  {
   "cell_type": "code",
   "execution_count": 54,
   "metadata": {},
   "outputs": [
    {
     "name": "stdout",
     "output_type": "stream",
     "text": [
      "Epoch 1/6\n"
     ]
    },
    {
     "name": "stderr",
     "output_type": "stream",
     "text": [
      "2023-05-15 12:20:40.002750: W tensorflow/tsl/platform/profile_utils/cpu_utils.cc:128] Failed to get CPU frequency: 0 Hz\n"
     ]
    },
    {
     "name": "stdout",
     "output_type": "stream",
     "text": [
      "250/250 [==============================] - 1s 3ms/step - loss: 0.5163 - acc: 0.7447 - val_loss: 0.4677 - val_acc: 0.7810\n",
      "Epoch 2/6\n",
      "250/250 [==============================] - 1s 2ms/step - loss: 0.3733 - acc: 0.8404 - val_loss: 0.4706 - val_acc: 0.7840\n",
      "Epoch 3/6\n",
      "250/250 [==============================] - 1s 2ms/step - loss: 0.3254 - acc: 0.8656 - val_loss: 0.4968 - val_acc: 0.7710\n",
      "Epoch 4/6\n",
      "250/250 [==============================] - 1s 2ms/step - loss: 0.2925 - acc: 0.8826 - val_loss: 0.5123 - val_acc: 0.7759\n",
      "Epoch 5/6\n",
      "250/250 [==============================] - 1s 2ms/step - loss: 0.2689 - acc: 0.8935 - val_loss: 0.5310 - val_acc: 0.7746\n",
      "Epoch 6/6\n",
      "250/250 [==============================] - 1s 2ms/step - loss: 0.2487 - acc: 0.9050 - val_loss: 0.5573 - val_acc: 0.7714\n"
     ]
    }
   ],
   "source": [
    "# Model training\n",
    "\n",
    "snn_model_history = snn_model.fit(X_train, y_train, batch_size=128, epochs=6, verbose=1, validation_split=0.2)"
   ]
  },
  {
   "cell_type": "code",
   "execution_count": 55,
   "metadata": {
    "colab": {
     "base_uri": "https://localhost:8080/"
    },
    "executionInfo": {
     "elapsed": 1291,
     "status": "ok",
     "timestamp": 1658849714321,
     "user": {
      "displayName": "Skillcate Education",
      "userId": "11062674699417926870"
     },
     "user_tz": -330
    },
    "id": "bLiriTfNSYcc",
    "outputId": "6b323f4b-1b0e-4fe5-da9f-7175a716e359"
   },
   "outputs": [
    {
     "name": "stdout",
     "output_type": "stream",
     "text": [
      "313/313 [==============================] - 0s 647us/step - loss: 0.5487 - acc: 0.7700\n"
     ]
    }
   ],
   "source": [
    "# Predictions on the Test Set\n",
    "\n",
    "score = snn_model.evaluate(X_test, y_test, verbose=1)"
   ]
  },
  {
   "attachments": {},
   "cell_type": "markdown",
   "metadata": {},
   "source": [
    "### Mini Homework!!\n",
    "\n",
    "Metni işleme yaklaşımını değiştirerek *opsiyonel\n",
    "Daha büyük bir glove vektörü,\n",
    "Farklı embedding boyutları\n",
    "Daha fazla katman ile \n",
    "\n",
    "yeniden model eğitin. Değişen sonuçları yorumlayın."
   ]
  },
  {
   "cell_type": "code",
   "execution_count": 56,
   "metadata": {
    "colab": {
     "base_uri": "https://localhost:8080/"
    },
    "executionInfo": {
     "elapsed": 13,
     "status": "ok",
     "timestamp": 1658849714321,
     "user": {
      "displayName": "Skillcate Education",
      "userId": "11062674699417926870"
     },
     "user_tz": -330
    },
    "id": "CeFtXQ9MSaaN",
    "outputId": "753874f7-357b-4c0b-91ed-c944ebbe0efb"
   },
   "outputs": [
    {
     "name": "stdout",
     "output_type": "stream",
     "text": [
      "Test Score: 0.5487167835235596\n",
      "Test Accuracy: 0.7699999809265137\n"
     ]
    }
   ],
   "source": [
    "# Model Performance\n",
    "\n",
    "print(\"Test Score:\", score[0])\n",
    "print(\"Test Accuracy:\", score[1])"
   ]
  },
  {
   "cell_type": "code",
   "execution_count": 57,
   "metadata": {
    "colab": {
     "base_uri": "https://localhost:8080/",
     "height": 573
    },
    "executionInfo": {
     "elapsed": 10,
     "status": "ok",
     "timestamp": 1658849714322,
     "user": {
      "displayName": "Skillcate Education",
      "userId": "11062674699417926870"
     },
     "user_tz": -330
    },
    "id": "r55HElqVSc5K",
    "outputId": "a52b5052-ea2b-4eef-a92a-9843f4a6c934"
   },
   "outputs": [
    {
     "data": {
      "image/png": "[encoded data removed]",
      "text/plain": [
       "<Figure size 640x480 with 1 Axes>"
      ]
     },
     "metadata": {},
     "output_type": "display_data"
    },
    {
     "data": {
      "image/png": "[encoded data removed]",
      "text/plain": [
       "<Figure size 640x480 with 1 Axes>"
      ]
     },
     "metadata": {},
     "output_type": "display_data"
    }
   ],
   "source": [
    "# Model Performance Charts\n",
    "\n",
    "import matplotlib.pyplot as plt\n",
    "\n",
    "plt.plot(snn_model_history.history['acc'])\n",
    "plt.plot(snn_model_history.history['val_acc'])\n",
    "\n",
    "plt.title('model accuracy')\n",
    "plt.ylabel('accuracy')\n",
    "plt.xlabel('epoch')\n",
    "plt.legend(['train','test'], loc='upper left')\n",
    "plt.show()\n",
    "\n",
    "plt.plot(snn_model_history.history['loss'])\n",
    "plt.plot(snn_model_history.history['val_loss'])\n",
    "\n",
    "plt.title('model loss')\n",
    "plt.ylabel('loss')\n",
    "plt.xlabel('epoch')\n",
    "plt.legend(['train','test'], loc='upper left')\n",
    "plt.show()"
   ]
  },
  {
   "cell_type": "markdown",
   "metadata": {
    "id": "HMulFBC4SfAY"
   },
   "source": [
    "## Convolutional Neural Network"
   ]
  },
  {
   "cell_type": "code",
   "execution_count": 58,
   "metadata": {
    "id": "CzNlGNGGUhVx"
   },
   "outputs": [],
   "source": [
    "from keras.layers import Conv1D"
   ]
  },
  {
   "cell_type": "code",
   "execution_count": 61,
   "metadata": {
    "id": "kbVF6c4ASgUs"
   },
   "outputs": [],
   "source": [
    "# Neural Network architecture\n",
    "\n",
    "cnn_model = Sequential()\n",
    "\n",
    "embedding_layer = Embedding(vocab_length, 200, weights=[embedding_matrix], input_length=maxlen , trainable=False)\n",
    "cnn_model.add(embedding_layer)\n",
    "\n",
    "cnn_model.add(Conv1D(128, 5, activation='relu'))\n",
    "cnn_model.add(GlobalMaxPooling1D())\n",
    "cnn_model.add(Dense(1, activation='sigmoid'))"
   ]
  },
  {
   "cell_type": "code",
   "execution_count": 62,
   "metadata": {
    "colab": {
     "base_uri": "https://localhost:8080/"
    },
    "executionInfo": {
     "elapsed": 848,
     "status": "ok",
     "timestamp": 1658849715163,
     "user": {
      "displayName": "Skillcate Education",
      "userId": "11062674699417926870"
     },
     "user_tz": -330
    },
    "id": "XayF5sTqSlP_",
    "outputId": "cab2695e-891c-4af7-90ca-3353b6ae3016"
   },
   "outputs": [
    {
     "name": "stdout",
     "output_type": "stream",
     "text": [
      "Model: \"sequential_2\"\n",
      "_________________________________________________________________\n",
      " Layer (type)                Output Shape              Param #   \n",
      "=================================================================\n",
      " embedding_2 (Embedding)     (None, 100, 200)          18376400  \n",
      "                                                                 \n",
      " conv1d (Conv1D)             (None, 96, 128)           128128    \n",
      "                                                                 \n",
      " global_max_pooling1d (Globa  (None, 128)              0         \n",
      " lMaxPooling1D)                                                  \n",
      "                                                                 \n",
      " dense_1 (Dense)             (None, 1)                 129       \n",
      "                                                                 \n",
      "=================================================================\n",
      "Total params: 18,504,657\n",
      "Trainable params: 128,257\n",
      "Non-trainable params: 18,376,400\n",
      "_________________________________________________________________\n",
      "None\n"
     ]
    }
   ],
   "source": [
    "# Model compiling\n",
    "\n",
    "cnn_model.compile(optimizer='adam', loss='binary_crossentropy', metrics=['acc'])\n",
    "print(cnn_model.summary())"
   ]
  },
  {
   "cell_type": "code",
   "execution_count": 63,
   "metadata": {
    "colab": {
     "base_uri": "https://localhost:8080/"
    },
    "executionInfo": {
     "elapsed": 141797,
     "status": "ok",
     "timestamp": 1658849856948,
     "user": {
      "displayName": "Skillcate Education",
      "userId": "11062674699417926870"
     },
     "user_tz": -330
    },
    "id": "AaF5Rc6GSnDY",
    "outputId": "3b01a193-f9f6-452c-aa65-2fadd8f90df7"
   },
   "outputs": [
    {
     "name": "stdout",
     "output_type": "stream",
     "text": [
      "Epoch 1/6\n",
      "250/250 [==============================] - 9s 34ms/step - loss: 0.4237 - acc: 0.8050 - val_loss: 0.3490 - val_acc: 0.8471\n",
      "Epoch 2/6\n",
      "250/250 [==============================] - 8s 34ms/step - loss: 0.2931 - acc: 0.8789 - val_loss: 0.3609 - val_acc: 0.8403\n",
      "Epoch 3/6\n",
      "250/250 [==============================] - 8s 33ms/step - loss: 0.2284 - acc: 0.9153 - val_loss: 0.3210 - val_acc: 0.8604\n",
      "Epoch 4/6\n",
      "250/250 [==============================] - 8s 33ms/step - loss: 0.1721 - acc: 0.9461 - val_loss: 0.3508 - val_acc: 0.8455\n",
      "Epoch 5/6\n",
      "250/250 [==============================] - 9s 35ms/step - loss: 0.1220 - acc: 0.9715 - val_loss: 0.3263 - val_acc: 0.8595\n",
      "Epoch 6/6\n",
      "250/250 [==============================] - 8s 32ms/step - loss: 0.0827 - acc: 0.9893 - val_loss: 0.3315 - val_acc: 0.8618\n"
     ]
    }
   ],
   "source": [
    "# Model training\n",
    "\n",
    "cnn_model_history = cnn_model.fit(X_train, y_train, batch_size=128, epochs=6, verbose=1, validation_split=0.2)"
   ]
  },
  {
   "cell_type": "code",
   "execution_count": 64,
   "metadata": {
    "colab": {
     "base_uri": "https://localhost:8080/"
    },
    "executionInfo": {
     "elapsed": 3055,
     "status": "ok",
     "timestamp": 1658849859981,
     "user": {
      "displayName": "Skillcate Education",
      "userId": "11062674699417926870"
     },
     "user_tz": -330
    },
    "id": "fTqK3hr6VNUi",
    "outputId": "34bb869e-8209-4a1c-d8ba-1a5e699e9c11"
   },
   "outputs": [
    {
     "name": "stdout",
     "output_type": "stream",
     "text": [
      "313/313 [==============================] - 1s 4ms/step - loss: 0.3337 - acc: 0.8649\n"
     ]
    }
   ],
   "source": [
    "# Predictions on the Test Set\n",
    "\n",
    "score = cnn_model.evaluate(X_test, y_test, verbose=1)"
   ]
  },
  {
   "cell_type": "code",
   "execution_count": 65,
   "metadata": {
    "colab": {
     "base_uri": "https://localhost:8080/"
    },
    "executionInfo": {
     "elapsed": 8,
     "status": "ok",
     "timestamp": 1658849859982,
     "user": {
      "displayName": "Skillcate Education",
      "userId": "11062674699417926870"
     },
     "user_tz": -330
    },
    "id": "bQhafHPmSvpG",
    "outputId": "a6f68212-361d-4d9c-e6ce-389a72a00672"
   },
   "outputs": [
    {
     "name": "stdout",
     "output_type": "stream",
     "text": [
      "Test Score: 0.33366474509239197\n",
      "Test Accuracy: 0.8648999929428101\n"
     ]
    }
   ],
   "source": [
    "# Model Performance\n",
    "\n",
    "print(\"Test Score:\", score[0])\n",
    "print(\"Test Accuracy:\", score[1])"
   ]
  },
  {
   "cell_type": "code",
   "execution_count": 66,
   "metadata": {
    "colab": {
     "base_uri": "https://localhost:8080/",
     "height": 573
    },
    "executionInfo": {
     "elapsed": 859,
     "status": "ok",
     "timestamp": 1658849860837,
     "user": {
      "displayName": "Skillcate Education",
      "userId": "11062674699417926870"
     },
     "user_tz": -330
    },
    "id": "YLdZa9GNSyAy",
    "outputId": "738c6044-36be-497d-c91d-13f944e2247a"
   },
   "outputs": [
    {
     "data": {
      "image/png": "[encoded data removed]",
      "text/plain": [
       "<Figure size 640x480 with 1 Axes>"
      ]
     },
     "metadata": {},
     "output_type": "display_data"
    },
    {
     "data": {
      "image/png": "[encoded data removed]",
      "text/plain": [
       "<Figure size 640x480 with 1 Axes>"
      ]
     },
     "metadata": {},
     "output_type": "display_data"
    }
   ],
   "source": [
    "# Model Performance Charts\n",
    "\n",
    "import matplotlib.pyplot as plt\n",
    "\n",
    "plt.plot(cnn_model_history.history['acc'])\n",
    "plt.plot(cnn_model_history.history['val_acc'])\n",
    "\n",
    "plt.title('model accuracy')\n",
    "plt.ylabel('accuracy')\n",
    "plt.xlabel('epoch')\n",
    "plt.legend(['train','test'], loc = 'upper left')\n",
    "plt.show()\n",
    "\n",
    "plt.plot(cnn_model_history.history['loss'])\n",
    "plt.plot(cnn_model_history.history['val_loss'])\n",
    "\n",
    "plt.title('model loss')\n",
    "plt.ylabel('loss')\n",
    "plt.xlabel('epoch')\n",
    "plt.legend(['train','test'], loc = 'upper left')\n",
    "plt.show()"
   ]
  },
  {
   "cell_type": "markdown",
   "metadata": {
    "id": "2QTts_XPS1Wn"
   },
   "source": [
    "## Recurrent Neural Network (LSTM)"
   ]
  },
  {
   "cell_type": "code",
   "execution_count": 67,
   "metadata": {
    "id": "1iLtWqoMVwU5"
   },
   "outputs": [],
   "source": [
    "from keras.layers import LSTM"
   ]
  },
  {
   "cell_type": "code",
   "execution_count": 94,
   "metadata": {
    "id": "0ccqZ-8kS2el"
   },
   "outputs": [],
   "source": [
    "# Neural Network architecture\n",
    "\n",
    "lstm_model = Sequential()\n",
    "embedding_layer = Embedding(vocab_length, 200, weights=[embedding_matrix], input_length=maxlen , trainable=False)\n",
    "\n",
    "lstm_model.add(embedding_layer)\n",
    "lstm_model.add(LSTM(128))\n",
    "\n",
    "lstm_model.add(Dense(1, activation='sigmoid'))"
   ]
  },
  {
   "cell_type": "code",
   "execution_count": 95,
   "metadata": {
    "colab": {
     "base_uri": "https://localhost:8080/"
    },
    "executionInfo": {
     "elapsed": 15,
     "status": "ok",
     "timestamp": 1658849861395,
     "user": {
      "displayName": "Skillcate Education",
      "userId": "11062674699417926870"
     },
     "user_tz": -330
    },
    "id": "Zk00Ss9HS68g",
    "outputId": "efcccbd5-f0b8-499a-c9e4-6c1318445699"
   },
   "outputs": [
    {
     "name": "stdout",
     "output_type": "stream",
     "text": [
      "Model: \"sequential_4\"\n",
      "_________________________________________________________________\n",
      " Layer (type)                Output Shape              Param #   \n",
      "=================================================================\n",
      " embedding_4 (Embedding)     (None, 100, 200)          18376400  \n",
      "                                                                 \n",
      " lstm_1 (LSTM)               (None, 128)               168448    \n",
      "                                                                 \n",
      " dense_3 (Dense)             (None, 1)                 129       \n",
      "                                                                 \n",
      "=================================================================\n",
      "Total params: 18,544,977\n",
      "Trainable params: 168,577\n",
      "Non-trainable params: 18,376,400\n",
      "_________________________________________________________________\n",
      "None\n"
     ]
    }
   ],
   "source": [
    "# Model compiling\n",
    "\n",
    "lstm_model.compile(optimizer='adam', loss='binary_crossentropy', metrics=['acc'])\n",
    "print(lstm_model.summary())"
   ]
  },
  {
   "cell_type": "code",
   "execution_count": 70,
   "metadata": {
    "colab": {
     "base_uri": "https://localhost:8080/"
    },
    "executionInfo": {
     "elapsed": 503790,
     "status": "ok",
     "timestamp": 1658850365177,
     "user": {
      "displayName": "Skillcate Education",
      "userId": "11062674699417926870"
     },
     "user_tz": -330
    },
    "id": "QMhhaZUaS9jF",
    "outputId": "e5053dcc-35a9-4a3e-92bb-3515795ee0c7"
   },
   "outputs": [
    {
     "name": "stdout",
     "output_type": "stream",
     "text": [
      "Epoch 1/6\n",
      "250/250 [==============================] - 41s 161ms/step - loss: 0.4723 - acc: 0.7774 - val_loss: 0.4180 - val_acc: 0.8201\n",
      "Epoch 2/6\n",
      "250/250 [==============================] - 43s 173ms/step - loss: 0.3777 - acc: 0.8377 - val_loss: 0.3585 - val_acc: 0.8391\n",
      "Epoch 3/6\n",
      "250/250 [==============================] - 44s 177ms/step - loss: 0.3369 - acc: 0.8573 - val_loss: 0.3278 - val_acc: 0.8581\n",
      "Epoch 4/6\n",
      "250/250 [==============================] - 45s 180ms/step - loss: 0.3106 - acc: 0.8704 - val_loss: 0.3240 - val_acc: 0.8535\n",
      "Epoch 5/6\n",
      "250/250 [==============================] - 44s 177ms/step - loss: 0.2940 - acc: 0.8793 - val_loss: 0.3403 - val_acc: 0.8526\n",
      "Epoch 6/6\n",
      "250/250 [==============================] - 47s 187ms/step - loss: 0.2664 - acc: 0.8931 - val_loss: 0.3012 - val_acc: 0.8751\n"
     ]
    }
   ],
   "source": [
    "# Model Training\n",
    "\n",
    "lstm_model_history = lstm_model.fit(X_train, y_train, batch_size=128, epochs=6, verbose=1, validation_split=0.2)"
   ]
  },
  {
   "cell_type": "code",
   "execution_count": 71,
   "metadata": {
    "colab": {
     "base_uri": "https://localhost:8080/"
    },
    "executionInfo": {
     "elapsed": 20819,
     "status": "ok",
     "timestamp": 1658850385975,
     "user": {
      "displayName": "Skillcate Education",
      "userId": "11062674699417926870"
     },
     "user_tz": -330
    },
    "id": "w7il9EjzlAaR",
    "outputId": "dba86dd6-0380-4a7e-c592-cd9815155ab4"
   },
   "outputs": [
    {
     "name": "stdout",
     "output_type": "stream",
     "text": [
      "313/313 [==============================] - 10s 32ms/step - loss: 0.3051 - acc: 0.8751\n"
     ]
    }
   ],
   "source": [
    "# Predictions on the Test Set\n",
    "\n",
    "score = lstm_model.evaluate(X_test, y_test, verbose=1)"
   ]
  },
  {
   "cell_type": "code",
   "execution_count": 72,
   "metadata": {
    "colab": {
     "base_uri": "https://localhost:8080/"
    },
    "executionInfo": {
     "elapsed": 9,
     "status": "ok",
     "timestamp": 1658850385977,
     "user": {
      "displayName": "Skillcate Education",
      "userId": "11062674699417926870"
     },
     "user_tz": -330
    },
    "id": "6j71n54zS9mc",
    "outputId": "f5c2d7be-beb5-47cb-8c1b-7db2784c2f66"
   },
   "outputs": [
    {
     "name": "stdout",
     "output_type": "stream",
     "text": [
      "Test Score: 0.3051183223724365\n",
      "Test Accuracy: 0.8751000165939331\n"
     ]
    }
   ],
   "source": [
    "# Model Performance\n",
    "\n",
    "print(\"Test Score:\", score[0])\n",
    "print(\"Test Accuracy:\", score[1])"
   ]
  },
  {
   "cell_type": "code",
   "execution_count": null,
   "metadata": {
    "colab": {
     "base_uri": "https://localhost:8080/",
     "height": 573
    },
    "executionInfo": {
     "elapsed": 7,
     "status": "ok",
     "timestamp": 1658850385977,
     "user": {
      "displayName": "Skillcate Education",
      "userId": "11062674699417926870"
     },
     "user_tz": -330
    },
    "id": "LiibO1EuS9qB",
    "outputId": "a7691b0a-4eba-42c2-f934-a74d8bde2c7d"
   },
   "outputs": [
    {
     "data": {
      "image/png": "[encoded data removed]",
      "text/plain": [
       "<Figure size 432x288 with 1 Axes>"
      ]
     },
     "metadata": {
      "needs_background": "light"
     },
     "output_type": "display_data"
    },
    {
     "data": {
      "image/png": "[encoded data removed]",
      "text/plain": [
       "<Figure size 432x288 with 1 Axes>"
      ]
     },
     "metadata": {
      "needs_background": "light"
     },
     "output_type": "display_data"
    }
   ],
   "source": [
    "# Model Performance Charts\n",
    "\n",
    "import matplotlib.pyplot as plt\n",
    "\n",
    "plt.plot(lstm_model_history.history['acc'])\n",
    "plt.plot(lstm_model_history.history['val_acc'])\n",
    "\n",
    "plt.title('model accuracy')\n",
    "plt.ylabel('accuracy')\n",
    "plt.xlabel('epoch')\n",
    "plt.legend(['train','test'], loc='upper left')\n",
    "plt.show()\n",
    "\n",
    "plt.plot(lstm_model_history.history['loss'])\n",
    "plt.plot(lstm_model_history.history['val_loss'])\n",
    "\n",
    "plt.title('model loss')\n",
    "plt.ylabel('loss')\n",
    "plt.xlabel('epoch')\n",
    "plt.legend(['train','test'], loc='upper left')\n",
    "plt.show()"
   ]
  },
  {
   "cell_type": "code",
   "execution_count": 73,
   "metadata": {
    "id": "YwXAHNsnnSdw"
   },
   "outputs": [],
   "source": [
    "# Saving the model as a h5 file for possible use later\n",
    "\n",
    "lstm_model.save(f\"../../Data/Vectors/LearnedFromExercises/c1_lstm_model_acc_{round(score[1], 3)}.h5\", save_format='h5')"
   ]
  },
  {
   "cell_type": "markdown",
   "metadata": {
    "id": "CF77MN1uTHbG"
   },
   "source": [
    "# Making Predictions on Live IMDb data"
   ]
  },
  {
   "cell_type": "code",
   "execution_count": 74,
   "metadata": {
    "colab": {
     "base_uri": "https://localhost:8080/"
    },
    "executionInfo": {
     "elapsed": 1007,
     "status": "ok",
     "timestamp": 1658850386979,
     "user": {
      "displayName": "Skillcate Education",
      "userId": "11062674699417926870"
     },
     "user_tz": -330
    },
    "id": "0i2Qws60ogQY",
    "outputId": "84217dba-bcce-48b6-f481-92f315e59c4e"
   },
   "outputs": [
    {
     "data": {
      "text/plain": [
       "'/Users/kemalcankara/Desktop/ders_icerik_2023/Codes/anlp2023/Codes/5.Sequence_Modeling'"
      ]
     },
     "execution_count": 74,
     "metadata": {},
     "output_type": "execute_result"
    }
   ],
   "source": [
    "pwd # lists files in working directory"
   ]
  },
  {
   "cell_type": "code",
   "execution_count": 76,
   "metadata": {
    "id": "4QV-OXuvtpLr"
   },
   "outputs": [
    {
     "name": "stdout",
     "output_type": "stream",
     "text": [
      "Model: \"sequential_3\"\n",
      "_________________________________________________________________\n",
      " Layer (type)                Output Shape              Param #   \n",
      "=================================================================\n",
      " embedding_3 (Embedding)     (None, 100, 200)          18376400  \n",
      "                                                                 \n",
      " lstm (LSTM)                 (None, 128)               168448    \n",
      "                                                                 \n",
      " dense_2 (Dense)             (None, 1)                 129       \n",
      "                                                                 \n",
      "=================================================================\n",
      "Total params: 18,544,977\n",
      "Trainable params: 168,577\n",
      "Non-trainable params: 18,376,400\n",
      "_________________________________________________________________\n"
     ]
    }
   ],
   "source": [
    "# Load previously trained LSTM Model\n",
    "\n",
    "from keras.models import load_model\n",
    "\n",
    "model_path ='../../Data/Vectors/LearnedFromExercises/c1_lstm_model_acc_0.875.h5'\n",
    "pretrained_lstm_model = load_model(model_path)\n",
    "\n",
    "# summarize model.\n",
    "pretrained_lstm_model.summary()"
   ]
  },
  {
   "cell_type": "code",
   "execution_count": 77,
   "metadata": {
    "colab": {
     "base_uri": "https://localhost:8080/",
     "height": 238
    },
    "executionInfo": {
     "elapsed": 1079,
     "status": "ok",
     "timestamp": 1658850389197,
     "user": {
      "displayName": "Skillcate Education",
      "userId": "11062674699417926870"
     },
     "user_tz": -330
    },
    "id": "qZiniS4-guUR",
    "outputId": "3957e1b5-3ca7-4e58-c8ba-4385504762a3"
   },
   "outputs": [
    {
     "data": {
      "text/html": [
       "<div>\n",
       "<style scoped>\n",
       "    .dataframe tbody tr th:only-of-type {\n",
       "        vertical-align: middle;\n",
       "    }\n",
       "\n",
       "    .dataframe tbody tr th {\n",
       "        vertical-align: top;\n",
       "    }\n",
       "\n",
       "    .dataframe thead th {\n",
       "        text-align: right;\n",
       "    }\n",
       "</style>\n",
       "<table border=\"1\" class=\"dataframe\">\n",
       "  <thead>\n",
       "    <tr style=\"text-align: right;\">\n",
       "      <th></th>\n",
       "      <th>Unnamed: 0</th>\n",
       "      <th>Movie</th>\n",
       "      <th>Review Text</th>\n",
       "      <th>IMDb Rating</th>\n",
       "    </tr>\n",
       "  </thead>\n",
       "  <tbody>\n",
       "    <tr>\n",
       "      <th>0</th>\n",
       "      <td>0</td>\n",
       "      <td>Ex Machina</td>\n",
       "      <td>Intelligent Movie.\\nThis movie is obviously al...</td>\n",
       "      <td>9</td>\n",
       "    </tr>\n",
       "    <tr>\n",
       "      <th>1</th>\n",
       "      <td>1</td>\n",
       "      <td>Ex Machina</td>\n",
       "      <td>Extraordinary and thought-provoking.\\n'Ex mach...</td>\n",
       "      <td>10</td>\n",
       "    </tr>\n",
       "    <tr>\n",
       "      <th>2</th>\n",
       "      <td>2</td>\n",
       "      <td>Ex Machina</td>\n",
       "      <td>Poor story, only reasonable otherwise.\\nIf I h...</td>\n",
       "      <td>3</td>\n",
       "    </tr>\n",
       "    <tr>\n",
       "      <th>3</th>\n",
       "      <td>3</td>\n",
       "      <td>Ex Machina</td>\n",
       "      <td>Had Great Potential.\\nThis movie is one of the...</td>\n",
       "      <td>1</td>\n",
       "    </tr>\n",
       "    <tr>\n",
       "      <th>4</th>\n",
       "      <td>4</td>\n",
       "      <td>Eternals</td>\n",
       "      <td>Amazing visuals and philosophical concepts!\\n\\...</td>\n",
       "      <td>10</td>\n",
       "    </tr>\n",
       "    <tr>\n",
       "      <th>5</th>\n",
       "      <td>5</td>\n",
       "      <td>Eternals</td>\n",
       "      <td>Worst MCU film ever\\n\\nFollowing the events of...</td>\n",
       "      <td>3</td>\n",
       "    </tr>\n",
       "  </tbody>\n",
       "</table>\n",
       "</div>"
      ],
      "text/plain": [
       "   Unnamed: 0       Movie                                        Review Text   \n",
       "0           0  Ex Machina  Intelligent Movie.\\nThis movie is obviously al...  \\\n",
       "1           1  Ex Machina  Extraordinary and thought-provoking.\\n'Ex mach...   \n",
       "2           2  Ex Machina  Poor story, only reasonable otherwise.\\nIf I h...   \n",
       "3           3  Ex Machina  Had Great Potential.\\nThis movie is one of the...   \n",
       "4           4    Eternals  Amazing visuals and philosophical concepts!\\n\\...   \n",
       "5           5    Eternals  Worst MCU film ever\\n\\nFollowing the events of...   \n",
       "\n",
       "   IMDb Rating  \n",
       "0            9  \n",
       "1           10  \n",
       "2            3  \n",
       "3            1  \n",
       "4           10  \n",
       "5            3  "
      ]
     },
     "execution_count": 77,
     "metadata": {},
     "output_type": "execute_result"
    }
   ],
   "source": [
    "# Load sample IMDb reviews csv, having ~6 movie reviews, along with their IMDb rating\n",
    "\n",
    "sample_reviews = pd.read_csv(\"../../Data/a2_IMDb_Unseen_Reviews.csv\")\n",
    "\n",
    "sample_reviews.head(6)"
   ]
  },
  {
   "cell_type": "code",
   "execution_count": 79,
   "metadata": {
    "id": "aiXGG5k9VLVv"
   },
   "outputs": [],
   "source": [
    "# Preprocess review text with earlier defined preprocess_text function\n",
    "\n",
    "unseen_reviews = sample_reviews['Review Text']\n",
    "\n",
    "unseen_processed = []\n",
    "for review in unseen_reviews:\n",
    "  review =preprocess_text(review)\n",
    "  unseen_processed.append(review)"
   ]
  },
  {
   "cell_type": "code",
   "execution_count": 80,
   "metadata": {},
   "outputs": [
    {
     "data": {
      "text/plain": [
       "['intelligent movie movie obviously allegorical fascinating tale ai mainly manipulation power wanting action spectacular cgi movie aimed people like think rather passively wait entertained themes ai also surveillance excellent points data us collected phone companies search engine companies commercial operating systems makers plot seems simple extremely clever protagonist playing games trying stay one step ahead one another movie perfectly consistent internal logic plays perfectly go expecting much however see people satisfied movie sets brilliantly therefore give least recent movies getting movie succeeds another recent movie ai transcendence think called failed interesting failure third movie ai spanish movie called eva also brilliant eva moving movie philosophical movies perfect different ways ai name movie ava seems nod title spanish movie aside nice stars appeared ex machina eva casting great course several aspects movie unrealistic often absurd allegorical movie acceptable movie making points rather striving realism fairytale accurate portrayal ',\n",
       " 'extraordinary thought provoking ex machina surprisingly dense titles alex garland written perhaps excepting annihilation simple concept given definite narrative narrative pointedly explores nature thought perception broaching nature ramifications morality psychological thriller fundamental construction minute rendering alike intense feature genre name offhand much almost classify horror movie emphasizes plays dire uncertainty intent motivation reality way climax even leaves us somewhat ambiguous ending ordinary beginning captivating ending every point ex machina absolutely marvelous performance seen oscar isaac none nearly forceful portrayal nathan exhibiting outstanding nuance sharp personality realization man exceptionally intelligent exceptionally cruel conniving especially familiar domhnall gleeson irish actor demonstrates admirable range poise readily matching traits immediately notable costars said certainly count anyone else involved alicia vikander phenomenal ava showing careful exactness every motion expression befitting character impressing skills subtle ways love score composed ben salisbury geoff barrow lending pensive unease film building great crescendo precise appropriate moments sound design exquisite soft unobtrusive qualities denoting meticulous craft feature highly advanced status ava special effects read little bit production history informs substantial effort made ensure every element nathan creation visualized utmost possibility realism think endeavor paid handsomely characters written wonderfully complex dialogue deceptively garland scene writing impeccable deeply engrossing say nothing overall narrative delves heavy subject matter even aware acclaim feature garnered since release wholly sure expect sat watch got far exceeded anything imagined mostly stepping away significantly common story ideas populate sci fi films artificial intelligence garland screenplay analyzes consciousness depth completeness potency anticipated genre picture result terrifically engaging exhilarating factor sound performances excellent music ex machina firmly first rate slice science fiction call must see ',\n",
       " 'poor story reasonable otherwise realised alex garland would bothered watching remember reading book beach years ago thinking something nice time sure seen ex machina feeling story chosen simply appeal large audience rather manipulative unthinking unfeeling way normally write bad reviews anything preferring focus positive dislike felt write something put people wasting time assimilating nastiness case ex machina imagine garland wondering would next project googling ai quickly finding ai box experiment rather heart soul searching work would necessary produce anything original imagine quickly turning somebody else idea next big proposal present film studio unoriginal idea presented fairly pedestrian way lots images derived young person view sexuality made also wonder film rather prejudiced women reasonably paced found yawning lot quite would expect good thriller domhnall gleeson ok pretty good job ',\n",
       " 'great potential movie one countless come hollywood great potential however like many personalities hollywood sold soul cheap finish beautiful ideas movie could great however producers chose go cheap thriller effect instead exploring truly makes us human machine conceived written produced idiots soul waste time redeeming part movie dweeb gets sent sticks surprised smartphone tell signal producers writers piece crap obviously signal also ',\n",
       " 'amazing visuals philosophical concepts eternals visual masterpiece inner challenges eternals face great signifier mcu moving mature meaningful phase look deeper plot events significance appreciate detail put timeline spans thousands years low underwhelming ratings seem obviously place despite fact many people loved mcu couple buff guys sexualised women transition mcu going inevitable franchise supported generations quite frankly awesome besides stunning visuals deep undertones chloe zhao certainly packs enough fight scenes possibly needed eternal represents unique power connected source cosmic energy variability allows exhilarating fight scenes arguably interesting couple punches kicks stray flying weapon love stories quaint meaningful certainly take much run time overall new age maturity deeper concepts seen movie definitely something look forward phase ',\n",
       " 'worst mcu film ever following events avengers endgame unexpected tragedy forces eternals ancient aliens living earth secret thousands years shadows reunite mankind ancient enemy deviants film far worst mcu film watch massive insuylt comics jack kirby days gender swapping eternals bad story telling makes absolutely sense unlikeable characters little action ridicules changes mcu sum bad film completely ruined endgame goods music cgi arishen well bonus points voiced david kaye good movie makes captain marvel iron man look good ']"
      ]
     },
     "execution_count": 80,
     "metadata": {},
     "output_type": "execute_result"
    }
   ],
   "source": [
    "unseen_processed"
   ]
  },
  {
   "cell_type": "code",
   "execution_count": 82,
   "metadata": {},
   "outputs": [],
   "source": [
    "from keras.preprocessing.text import tokenizer_from_json\n"
   ]
  },
  {
   "cell_type": "code",
   "execution_count": 83,
   "metadata": {},
   "outputs": [],
   "source": [
    "# Loading\n",
    "with open('b3_tokenizer.json') as f:\n",
    "    data = json.load(f)\n",
    "    loaded_tokenizer = tokenizer_from_json(data)"
   ]
  },
  {
   "cell_type": "code",
   "execution_count": 84,
   "metadata": {
    "id": "A8Ln84UfVZhz"
   },
   "outputs": [],
   "source": [
    "# Tokenising instance with earlier trained tokeniser\n",
    "unseen_tokenized = loaded_tokenizer.texts_to_sequences(unseen_processed)"
   ]
  },
  {
   "cell_type": "code",
   "execution_count": 85,
   "metadata": {},
   "outputs": [
    {
     "data": {
      "text/plain": [
       "[[953,\n",
       "  1,\n",
       "  1,\n",
       "  396,\n",
       "  13920,\n",
       "  1266,\n",
       "  636,\n",
       "  15554,\n",
       "  1229,\n",
       "  7070,\n",
       "  523,\n",
       "  1540,\n",
       "  99,\n",
       "  1766,\n",
       "  1466,\n",
       "  1,\n",
       "  3697,\n",
       "  16,\n",
       "  4,\n",
       "  26,\n",
       "  140,\n",
       "  21405,\n",
       "  720,\n",
       "  2128,\n",
       "  1206,\n",
       "  15554,\n",
       "  17,\n",
       "  10724,\n",
       "  202,\n",
       "  648,\n",
       "  7755,\n",
       "  75,\n",
       "  10204,\n",
       "  1453,\n",
       "  4819,\n",
       "  1491,\n",
       "  7345,\n",
       "  4819,\n",
       "  1962,\n",
       "  8829,\n",
       "  8101,\n",
       "  1034,\n",
       "  36,\n",
       "  84,\n",
       "  468,\n",
       "  440,\n",
       "  881,\n",
       "  1741,\n",
       "  268,\n",
       "  1460,\n",
       "  150,\n",
       "  650,\n",
       "  3,\n",
       "  1380,\n",
       "  1297,\n",
       "  3,\n",
       "  63,\n",
       "  1,\n",
       "  780,\n",
       "  4236,\n",
       "  5614,\n",
       "  1835,\n",
       "  188,\n",
       "  780,\n",
       "  51,\n",
       "  846,\n",
       "  13,\n",
       "  82,\n",
       "  10,\n",
       "  16,\n",
       "  3920,\n",
       "  1,\n",
       "  574,\n",
       "  1906,\n",
       "  1403,\n",
       "  93,\n",
       "  115,\n",
       "  990,\n",
       "  24,\n",
       "  260,\n",
       "  1,\n",
       "  2615,\n",
       "  63,\n",
       "  990,\n",
       "  1,\n",
       "  15554,\n",
       "  25296,\n",
       "  26,\n",
       "  314,\n",
       "  1009,\n",
       "  116,\n",
       "  1922,\n",
       "  732,\n",
       "  1,\n",
       "  15554,\n",
       "  1818,\n",
       "  1,\n",
       "  314,\n",
       "  3709,\n",
       "  17,\n",
       "  384,\n",
       "  3709,\n",
       "  572,\n",
       "  1,\n",
       "  3885,\n",
       "  24,\n",
       "  287,\n",
       "  162,\n",
       "  615,\n",
       "  15554,\n",
       "  262,\n",
       "  1,\n",
       "  12610,\n",
       "  84,\n",
       "  4888,\n",
       "  294,\n",
       "  1818,\n",
       "  1,\n",
       "  1026,\n",
       "  215,\n",
       "  280,\n",
       "  1368,\n",
       "  1111,\n",
       "  15466,\n",
       "  3709,\n",
       "  906,\n",
       "  18,\n",
       "  151,\n",
       "  325,\n",
       "  1250,\n",
       "  1,\n",
       "  1846,\n",
       "  282,\n",
       "  1644,\n",
       "  13920,\n",
       "  1,\n",
       "  3162,\n",
       "  1,\n",
       "  125,\n",
       "  648,\n",
       "  140,\n",
       "  13372,\n",
       "  1710,\n",
       "  10728,\n",
       "  1636,\n",
       "  935],\n",
       " [2304,\n",
       "  86,\n",
       "  2465,\n",
       "  1111,\n",
       "  15466,\n",
       "  1057,\n",
       "  10108,\n",
       "  2569,\n",
       "  1926,\n",
       "  6068,\n",
       "  285,\n",
       "  261,\n",
       "  25406,\n",
       "  22448,\n",
       "  468,\n",
       "  978,\n",
       "  244,\n",
       "  3408,\n",
       "  1204,\n",
       "  1204,\n",
       "  25667,\n",
       "  5237,\n",
       "  752,\n",
       "  86,\n",
       "  5897,\n",
       "  72346,\n",
       "  752,\n",
       "  18919,\n",
       "  3552,\n",
       "  1796,\n",
       "  558,\n",
       "  8108,\n",
       "  4827,\n",
       "  642,\n",
       "  7982,\n",
       "  3060,\n",
       "  1347,\n",
       "  620,\n",
       "  379,\n",
       "  262,\n",
       "  21867,\n",
       "  13,\n",
       "  107,\n",
       "  13188,\n",
       "  78,\n",
       "  1,\n",
       "  15338,\n",
       "  188,\n",
       "  3913,\n",
       "  10984,\n",
       "  3311,\n",
       "  3216,\n",
       "  465,\n",
       "  22,\n",
       "  1218,\n",
       "  7,\n",
       "  716,\n",
       "  75,\n",
       "  526,\n",
       "  5063,\n",
       "  154,\n",
       "  1679,\n",
       "  331,\n",
       "  3946,\n",
       "  154,\n",
       "  72,\n",
       "  112,\n",
       "  1111,\n",
       "  15466,\n",
       "  298,\n",
       "  2907,\n",
       "  128,\n",
       "  31,\n",
       "  660,\n",
       "  12108,\n",
       "  482,\n",
       "  664,\n",
       "  17239,\n",
       "  935,\n",
       "  6738,\n",
       "  20650,\n",
       "  1223,\n",
       "  8924,\n",
       "  2103,\n",
       "  1419,\n",
       "  5971,\n",
       "  43,\n",
       "  4424,\n",
       "  953,\n",
       "  4424,\n",
       "  2316,\n",
       "  9258,\n",
       "  147,\n",
       "  908,\n",
       "  23090,\n",
       "  2318,\n",
       "  166,\n",
       "  5156,\n",
       "  5975,\n",
       "  1850,\n",
       "  28224,\n",
       "  7394,\n",
       "  8730,\n",
       "  6145,\n",
       "  1050,\n",
       "  2734,\n",
       "  25276,\n",
       "  190,\n",
       "  295,\n",
       "  1301,\n",
       "  135,\n",
       "  207,\n",
       "  428,\n",
       "  6564,\n",
       "  6136,\n",
       "  12610,\n",
       "  623,\n",
       "  4541,\n",
       "  72,\n",
       "  1092,\n",
       "  2501,\n",
       "  18325,\n",
       "  28,\n",
       "  13520,\n",
       "  1834,\n",
       "  1143,\n",
       "  615,\n",
       "  35,\n",
       "  436,\n",
       "  3940,\n",
       "  1038,\n",
       "  41332,\n",
       "  17401,\n",
       "  36272,\n",
       "  18902,\n",
       "  21318,\n",
       "  14027,\n",
       "  2,\n",
       "  1226,\n",
       "  18,\n",
       "  21436,\n",
       "  7575,\n",
       "  2201,\n",
       "  279,\n",
       "  310,\n",
       "  1505,\n",
       "  5637,\n",
       "  1572,\n",
       "  17606,\n",
       "  2188,\n",
       "  51242,\n",
       "  13437,\n",
       "  3608,\n",
       "  620,\n",
       "  403,\n",
       "  4747,\n",
       "  2420,\n",
       "  12610,\n",
       "  191,\n",
       "  175,\n",
       "  218,\n",
       "  41,\n",
       "  117,\n",
       "  230,\n",
       "  354,\n",
       "  7666,\n",
       "  6770,\n",
       "  667,\n",
       "  20,\n",
       "  6391,\n",
       "  72,\n",
       "  1360,\n",
       "  6738,\n",
       "  2788,\n",
       "  20843,\n",
       "  10730,\n",
       "  3539,\n",
       "  1710,\n",
       "  26,\n",
       "  12661,\n",
       "  1353,\n",
       "  26223,\n",
       "  25,\n",
       "  285,\n",
       "  1600,\n",
       "  1136,\n",
       "  288,\n",
       "  13692,\n",
       "  6068,\n",
       "  46,\n",
       "  360,\n",
       "  7653,\n",
       "  1564,\n",
       "  5607,\n",
       "  48,\n",
       "  66,\n",
       "  317,\n",
       "  1204,\n",
       "  10827,\n",
       "  1122,\n",
       "  647,\n",
       "  365,\n",
       "  7,\n",
       "  1765,\n",
       "  8824,\n",
       "  620,\n",
       "  9712,\n",
       "  122,\n",
       "  592,\n",
       "  5424,\n",
       "  137,\n",
       "  394,\n",
       "  1537,\n",
       "  27,\n",
       "  91,\n",
       "  114,\n",
       "  10220,\n",
       "  123,\n",
       "  4056,\n",
       "  518,\n",
       "  9009,\n",
       "  132,\n",
       "  7806,\n",
       "  946,\n",
       "  11,\n",
       "  878,\n",
       "  12823,\n",
       "  719,\n",
       "  712,\n",
       "  29,\n",
       "  4584,\n",
       "  1501,\n",
       "  6068,\n",
       "  773,\n",
       "  37537,\n",
       "  5898,\n",
       "  977,\n",
       "  52166,\n",
       "  28499,\n",
       "  7535,\n",
       "  379,\n",
       "  302,\n",
       "  796,\n",
       "  13980,\n",
       "  1655,\n",
       "  9836,\n",
       "  2122,\n",
       "  310,\n",
       "  247,\n",
       "  202,\n",
       "  100,\n",
       "  1111,\n",
       "  15466,\n",
       "  5841,\n",
       "  19,\n",
       "  827,\n",
       "  4974,\n",
       "  922,\n",
       "  987,\n",
       "  507,\n",
       "  97,\n",
       "  10],\n",
       " [217,\n",
       "  11,\n",
       "  3362,\n",
       "  751,\n",
       "  5015,\n",
       "  1926,\n",
       "  6068,\n",
       "  8,\n",
       "  2365,\n",
       "  54,\n",
       "  263,\n",
       "  764,\n",
       "  155,\n",
       "  1862,\n",
       "  60,\n",
       "  458,\n",
       "  404,\n",
       "  50,\n",
       "  215,\n",
       "  6,\n",
       "  137,\n",
       "  31,\n",
       "  1111,\n",
       "  15466,\n",
       "  425,\n",
       "  11,\n",
       "  2051,\n",
       "  210,\n",
       "  1128,\n",
       "  873,\n",
       "  186,\n",
       "  140,\n",
       "  4846,\n",
       "  24485,\n",
       "  25053,\n",
       "  22,\n",
       "  1666,\n",
       "  755,\n",
       "  14,\n",
       "  689,\n",
       "  123,\n",
       "  15324,\n",
       "  971,\n",
       "  1006,\n",
       "  2957,\n",
       "  307,\n",
       "  755,\n",
       "  50,\n",
       "  158,\n",
       "  16,\n",
       "  2968,\n",
       "  6,\n",
       "  51607,\n",
       "  21553,\n",
       "  296,\n",
       "  1111,\n",
       "  15466,\n",
       "  676,\n",
       "  6068,\n",
       "  1371,\n",
       "  8,\n",
       "  241,\n",
       "  988,\n",
       "  53105,\n",
       "  15554,\n",
       "  770,\n",
       "  1312,\n",
       "  15554,\n",
       "  705,\n",
       "  2849,\n",
       "  140,\n",
       "  352,\n",
       "  1124,\n",
       "  2889,\n",
       "  62,\n",
       "  8,\n",
       "  1534,\n",
       "  2177,\n",
       "  123,\n",
       "  105,\n",
       "  676,\n",
       "  770,\n",
       "  1437,\n",
       "  1613,\n",
       "  207,\n",
       "  204,\n",
       "  241,\n",
       "  87,\n",
       "  10113,\n",
       "  857,\n",
       "  2,\n",
       "  947,\n",
       "  4321,\n",
       "  204,\n",
       "  1210,\n",
       "  833,\n",
       "  6881,\n",
       "  22,\n",
       "  608,\n",
       "  991,\n",
       "  7752,\n",
       "  85,\n",
       "  269,\n",
       "  496,\n",
       "  2823,\n",
       "  20,\n",
       "  17,\n",
       "  441,\n",
       "  2,\n",
       "  140,\n",
       "  15825,\n",
       "  235,\n",
       "  3602,\n",
       "  1526,\n",
       "  143,\n",
       "  15298,\n",
       "  70,\n",
       "  80,\n",
       "  8,\n",
       "  394,\n",
       "  5,\n",
       "  558,\n",
       "  23090,\n",
       "  462,\n",
       "  81,\n",
       "  5,\n",
       "  181],\n",
       " [18,\n",
       "  892,\n",
       "  1,\n",
       "  3,\n",
       "  3497,\n",
       "  106,\n",
       "  225,\n",
       "  18,\n",
       "  892,\n",
       "  82,\n",
       "  4,\n",
       "  32,\n",
       "  3035,\n",
       "  225,\n",
       "  2729,\n",
       "  1124,\n",
       "  557,\n",
       "  1241,\n",
       "  193,\n",
       "  878,\n",
       "  1,\n",
       "  23,\n",
       "  18,\n",
       "  82,\n",
       "  979,\n",
       "  2335,\n",
       "  51,\n",
       "  557,\n",
       "  558,\n",
       "  775,\n",
       "  184,\n",
       "  5371,\n",
       "  250,\n",
       "  67,\n",
       "  75,\n",
       "  266,\n",
       "  1344,\n",
       "  3540,\n",
       "  285,\n",
       "  866,\n",
       "  3596,\n",
       "  1124,\n",
       "  328,\n",
       "  6,\n",
       "  1557,\n",
       "  73,\n",
       "  1,\n",
       "  26762,\n",
       "  108,\n",
       "  1269,\n",
       "  3407,\n",
       "  598,\n",
       "  258,\n",
       "  10958,\n",
       "  979,\n",
       "  798,\n",
       "  289,\n",
       "  446,\n",
       "  396,\n",
       "  10958,\n",
       "  17],\n",
       " [353,\n",
       "  1821,\n",
       "  3885,\n",
       "  5111,\n",
       "  904,\n",
       "  754,\n",
       "  2292,\n",
       "  5491,\n",
       "  265,\n",
       "  18,\n",
       "  572,\n",
       "  2436,\n",
       "  3077,\n",
       "  7161,\n",
       "  65,\n",
       "  2518,\n",
       "  36,\n",
       "  563,\n",
       "  5246,\n",
       "  960,\n",
       "  1376,\n",
       "  158,\n",
       "  11911,\n",
       "  13930,\n",
       "  2822,\n",
       "  60,\n",
       "  236,\n",
       "  11989,\n",
       "  2535,\n",
       "  199,\n",
       "  396,\n",
       "  164,\n",
       "  334,\n",
       "  90,\n",
       "  32,\n",
       "  16,\n",
       "  303,\n",
       "  255,\n",
       "  3859,\n",
       "  316,\n",
       "  50123,\n",
       "  235,\n",
       "  4895,\n",
       "  69,\n",
       "  3359,\n",
       "  2798,\n",
       "  5186,\n",
       "  4590,\n",
       "  80,\n",
       "  1705,\n",
       "  1017,\n",
       "  1201,\n",
       "  1277,\n",
       "  1821,\n",
       "  699,\n",
       "  10135,\n",
       "  8810,\n",
       "  24042,\n",
       "  295,\n",
       "  6653,\n",
       "  89,\n",
       "  416,\n",
       "  49,\n",
       "  765,\n",
       "  727,\n",
       "  5393,\n",
       "  3477,\n",
       "  823,\n",
       "  523,\n",
       "  3140,\n",
       "  2200,\n",
       "  12649,\n",
       "  1524,\n",
       "  2034,\n",
       "  9836,\n",
       "  416,\n",
       "  49,\n",
       "  4457,\n",
       "  116,\n",
       "  255,\n",
       "  5675,\n",
       "  3054,\n",
       "  9908,\n",
       "  1487,\n",
       "  2913,\n",
       "  35,\n",
       "  439,\n",
       "  8322,\n",
       "  3077,\n",
       "  295,\n",
       "  88,\n",
       "  13,\n",
       "  368,\n",
       "  6,\n",
       "  317,\n",
       "  71,\n",
       "  464,\n",
       "  8423,\n",
       "  2518,\n",
       "  5111,\n",
       "  31,\n",
       "  1,\n",
       "  281,\n",
       "  50,\n",
       "  65,\n",
       "  771,\n",
       "  7161],\n",
       " [136,\n",
       "  2,\n",
       "  42,\n",
       "  804,\n",
       "  563,\n",
       "  17618,\n",
       "  27381,\n",
       "  1869,\n",
       "  1457,\n",
       "  1704,\n",
       "  2009,\n",
       "  1875,\n",
       "  447,\n",
       "  553,\n",
       "  868,\n",
       "  2822,\n",
       "  60,\n",
       "  3168,\n",
       "  9331,\n",
       "  4081,\n",
       "  2009,\n",
       "  1965,\n",
       "  35485,\n",
       "  2,\n",
       "  114,\n",
       "  136,\n",
       "  2,\n",
       "  27,\n",
       "  2323,\n",
       "  3395,\n",
       "  504,\n",
       "  15240,\n",
       "  351,\n",
       "  5155,\n",
       "  17390,\n",
       "  14,\n",
       "  11,\n",
       "  849,\n",
       "  67,\n",
       "  298,\n",
       "  170,\n",
       "  5158,\n",
       "  25,\n",
       "  41,\n",
       "  99,\n",
       "  14158,\n",
       "  1142,\n",
       "  2808,\n",
       "  14,\n",
       "  2,\n",
       "  219,\n",
       "  2248,\n",
       "  27381,\n",
       "  6212,\n",
       "  100,\n",
       "  1466,\n",
       "  12,\n",
       "  4078,\n",
       "  648,\n",
       "  4319,\n",
       "  471,\n",
       "  13234,\n",
       "  5,\n",
       "  1,\n",
       "  67,\n",
       "  1355,\n",
       "  5311,\n",
       "  3673,\n",
       "  43,\n",
       "  65,\n",
       "  5]]"
      ]
     },
     "execution_count": 85,
     "metadata": {},
     "output_type": "execute_result"
    }
   ],
   "source": [
    "unseen_tokenized"
   ]
  },
  {
   "cell_type": "code",
   "execution_count": 86,
   "metadata": {},
   "outputs": [],
   "source": [
    "# Pooling instance to have maxlength of 100 tokens\n",
    "unseen_padded = pad_sequences(unseen_tokenized, padding='post', maxlen=100)"
   ]
  },
  {
   "cell_type": "code",
   "execution_count": 87,
   "metadata": {},
   "outputs": [
    {
     "data": {
      "text/plain": [
       "array([[  881,  1741,   268,  1460,   150,   650,     3,  1380,  1297,\n",
       "            3,    63,     1,   780,  4236,  5614,  1835,   188,   780,\n",
       "           51,   846,    13,    82,    10,    16,  3920,     1,   574,\n",
       "         1906,  1403,    93,   115,   990,    24,   260,     1,  2615,\n",
       "           63,   990,     1, 15554, 25296,    26,   314,  1009,   116,\n",
       "         1922,   732,     1, 15554,  1818,     1,   314,  3709,    17,\n",
       "          384,  3709,   572,     1,  3885,    24,   287,   162,   615,\n",
       "        15554,   262,     1, 12610,    84,  4888,   294,  1818,     1,\n",
       "         1026,   215,   280,  1368,  1111, 15466,  3709,   906,    18,\n",
       "          151,   325,  1250,     1,  1846,   282,  1644, 13920,     1,\n",
       "         3162,     1,   125,   648,   140, 13372,  1710, 10728,  1636,\n",
       "          935],\n",
       "       [  117,   230,   354,  7666,  6770,   667,    20,  6391,    72,\n",
       "         1360,  6738,  2788, 20843, 10730,  3539,  1710,    26, 12661,\n",
       "         1353, 26223,    25,   285,  1600,  1136,   288, 13692,  6068,\n",
       "           46,   360,  7653,  1564,  5607,    48,    66,   317,  1204,\n",
       "        10827,  1122,   647,   365,     7,  1765,  8824,   620,  9712,\n",
       "          122,   592,  5424,   137,   394,  1537,    27,    91,   114,\n",
       "        10220,   123,  4056,   518,  9009,   132,  7806,   946,    11,\n",
       "          878, 12823,   719,   712,    29,  4584,  1501,  6068,   773,\n",
       "        37537,  5898,   977, 52166, 28499,  7535,   379,   302,   796,\n",
       "        13980,  1655,  9836,  2122,   310,   247,   202,   100,  1111,\n",
       "        15466,  5841,    19,   827,  4974,   922,   987,   507,    97,\n",
       "           10],\n",
       "       [  210,  1128,   873,   186,   140,  4846, 24485, 25053,    22,\n",
       "         1666,   755,    14,   689,   123, 15324,   971,  1006,  2957,\n",
       "          307,   755,    50,   158,    16,  2968,     6, 51607, 21553,\n",
       "          296,  1111, 15466,   676,  6068,  1371,     8,   241,   988,\n",
       "        53105, 15554,   770,  1312, 15554,   705,  2849,   140,   352,\n",
       "         1124,  2889,    62,     8,  1534,  2177,   123,   105,   676,\n",
       "          770,  1437,  1613,   207,   204,   241,    87, 10113,   857,\n",
       "            2,   947,  4321,   204,  1210,   833,  6881,    22,   608,\n",
       "          991,  7752,    85,   269,   496,  2823,    20,    17,   441,\n",
       "            2,   140, 15825,   235,  3602,  1526,   143, 15298,    70,\n",
       "           80,     8,   394,     5,   558, 23090,   462,    81,     5,\n",
       "          181],\n",
       "       [   18,   892,     1,     3,  3497,   106,   225,    18,   892,\n",
       "           82,     4,    32,  3035,   225,  2729,  1124,   557,  1241,\n",
       "          193,   878,     1,    23,    18,    82,   979,  2335,    51,\n",
       "          557,   558,   775,   184,  5371,   250,    67,    75,   266,\n",
       "         1344,  3540,   285,   866,  3596,  1124,   328,     6,  1557,\n",
       "           73,     1, 26762,   108,  1269,  3407,   598,   258, 10958,\n",
       "          979,   798,   289,   446,   396, 10958,    17,     0,     0,\n",
       "            0,     0,     0,     0,     0,     0,     0,     0,     0,\n",
       "            0,     0,     0,     0,     0,     0,     0,     0,     0,\n",
       "            0,     0,     0,     0,     0,     0,     0,     0,     0,\n",
       "            0,     0,     0,     0,     0,     0,     0,     0,     0,\n",
       "            0],\n",
       "       [ 5491,   265,    18,   572,  2436,  3077,  7161,    65,  2518,\n",
       "           36,   563,  5246,   960,  1376,   158, 11911, 13930,  2822,\n",
       "           60,   236, 11989,  2535,   199,   396,   164,   334,    90,\n",
       "           32,    16,   303,   255,  3859,   316, 50123,   235,  4895,\n",
       "           69,  3359,  2798,  5186,  4590,    80,  1705,  1017,  1201,\n",
       "         1277,  1821,   699, 10135,  8810, 24042,   295,  6653,    89,\n",
       "          416,    49,   765,   727,  5393,  3477,   823,   523,  3140,\n",
       "         2200, 12649,  1524,  2034,  9836,   416,    49,  4457,   116,\n",
       "          255,  5675,  3054,  9908,  1487,  2913,    35,   439,  8322,\n",
       "         3077,   295,    88,    13,   368,     6,   317,    71,   464,\n",
       "         8423,  2518,  5111,    31,     1,   281,    50,    65,   771,\n",
       "         7161],\n",
       "       [  136,     2,    42,   804,   563, 17618, 27381,  1869,  1457,\n",
       "         1704,  2009,  1875,   447,   553,   868,  2822,    60,  3168,\n",
       "         9331,  4081,  2009,  1965, 35485,     2,   114,   136,     2,\n",
       "           27,  2323,  3395,   504, 15240,   351,  5155, 17390,    14,\n",
       "           11,   849,    67,   298,   170,  5158,    25,    41,    99,\n",
       "        14158,  1142,  2808,    14,     2,   219,  2248, 27381,  6212,\n",
       "          100,  1466,    12,  4078,   648,  4319,   471, 13234,     5,\n",
       "            1,    67,  1355,  5311,  3673,    43,    65,     5,     0,\n",
       "            0,     0,     0,     0,     0,     0,     0,     0,     0,\n",
       "            0,     0,     0,     0,     0,     0,     0,     0,     0,\n",
       "            0,     0,     0,     0,     0,     0,     0,     0,     0,\n",
       "            0]], dtype=int32)"
      ]
     },
     "execution_count": 87,
     "metadata": {},
     "output_type": "execute_result"
    }
   ],
   "source": [
    "unseen_padded"
   ]
  },
  {
   "cell_type": "code",
   "execution_count": 88,
   "metadata": {
    "colab": {
     "base_uri": "https://localhost:8080/"
    },
    "executionInfo": {
     "elapsed": 1414,
     "status": "ok",
     "timestamp": 1658856288539,
     "user": {
      "displayName": "Skillcate Education",
      "userId": "11062674699417926870"
     },
     "user_tz": -330
    },
    "id": "4bh5LsCZhy7r",
    "outputId": "87d6340e-29bd-414c-d3cc-f04578af1783"
   },
   "outputs": [
    {
     "name": "stdout",
     "output_type": "stream",
     "text": [
      "1/1 [==============================] - 0s 202ms/step\n"
     ]
    },
    {
     "data": {
      "text/plain": [
       "array([[0.982848  ],\n",
       "       [0.99681026],\n",
       "       [0.08789954],\n",
       "       [0.03702698],\n",
       "       [0.9777938 ],\n",
       "       [0.02715892]], dtype=float32)"
      ]
     },
     "execution_count": 88,
     "metadata": {},
     "output_type": "execute_result"
    }
   ],
   "source": [
    "# Passing tokenised instance to the LSTM model for predictions\n",
    "unseen_sentiments = pretrained_lstm_model.predict(unseen_padded)\n",
    "\n",
    "unseen_sentiments"
   ]
  },
  {
   "cell_type": "code",
   "execution_count": 89,
   "metadata": {
    "colab": {
     "base_uri": "https://localhost:8080/",
     "height": 238
    },
    "executionInfo": {
     "elapsed": 557,
     "status": "ok",
     "timestamp": 1658856300683,
     "user": {
      "displayName": "Skillcate Education",
      "userId": "11062674699417926870"
     },
     "user_tz": -330
    },
    "id": "b6W2OOeupUX8",
    "outputId": "0dcbd641-4639-4cf9-983a-0df352451623"
   },
   "outputs": [
    {
     "data": {
      "text/html": [
       "<div>\n",
       "<style scoped>\n",
       "    .dataframe tbody tr th:only-of-type {\n",
       "        vertical-align: middle;\n",
       "    }\n",
       "\n",
       "    .dataframe tbody tr th {\n",
       "        vertical-align: top;\n",
       "    }\n",
       "\n",
       "    .dataframe thead th {\n",
       "        text-align: right;\n",
       "    }\n",
       "</style>\n",
       "<table border=\"1\" class=\"dataframe\">\n",
       "  <thead>\n",
       "    <tr style=\"text-align: right;\">\n",
       "      <th></th>\n",
       "      <th>Movie</th>\n",
       "      <th>Review Text</th>\n",
       "      <th>IMDb Rating</th>\n",
       "      <th>Predicted Sentiments</th>\n",
       "    </tr>\n",
       "  </thead>\n",
       "  <tbody>\n",
       "    <tr>\n",
       "      <th>0</th>\n",
       "      <td>Ex Machina</td>\n",
       "      <td>Intelligent Movie.\\nThis movie is obviously al...</td>\n",
       "      <td>9</td>\n",
       "      <td>9.8</td>\n",
       "    </tr>\n",
       "    <tr>\n",
       "      <th>1</th>\n",
       "      <td>Ex Machina</td>\n",
       "      <td>Extraordinary and thought-provoking.\\n'Ex mach...</td>\n",
       "      <td>10</td>\n",
       "      <td>10.0</td>\n",
       "    </tr>\n",
       "    <tr>\n",
       "      <th>2</th>\n",
       "      <td>Ex Machina</td>\n",
       "      <td>Poor story, only reasonable otherwise.\\nIf I h...</td>\n",
       "      <td>3</td>\n",
       "      <td>0.9</td>\n",
       "    </tr>\n",
       "    <tr>\n",
       "      <th>3</th>\n",
       "      <td>Ex Machina</td>\n",
       "      <td>Had Great Potential.\\nThis movie is one of the...</td>\n",
       "      <td>1</td>\n",
       "      <td>0.4</td>\n",
       "    </tr>\n",
       "    <tr>\n",
       "      <th>4</th>\n",
       "      <td>Eternals</td>\n",
       "      <td>Amazing visuals and philosophical concepts!\\n\\...</td>\n",
       "      <td>10</td>\n",
       "      <td>9.8</td>\n",
       "    </tr>\n",
       "    <tr>\n",
       "      <th>5</th>\n",
       "      <td>Eternals</td>\n",
       "      <td>Worst MCU film ever\\n\\nFollowing the events of...</td>\n",
       "      <td>3</td>\n",
       "      <td>0.3</td>\n",
       "    </tr>\n",
       "  </tbody>\n",
       "</table>\n",
       "</div>"
      ],
      "text/plain": [
       "        Movie                                        Review Text  IMDb Rating   \n",
       "0  Ex Machina  Intelligent Movie.\\nThis movie is obviously al...            9  \\\n",
       "1  Ex Machina  Extraordinary and thought-provoking.\\n'Ex mach...           10   \n",
       "2  Ex Machina  Poor story, only reasonable otherwise.\\nIf I h...            3   \n",
       "3  Ex Machina  Had Great Potential.\\nThis movie is one of the...            1   \n",
       "4    Eternals  Amazing visuals and philosophical concepts!\\n\\...           10   \n",
       "5    Eternals  Worst MCU film ever\\n\\nFollowing the events of...            3   \n",
       "\n",
       "   Predicted Sentiments  \n",
       "0                   9.8  \n",
       "1                  10.0  \n",
       "2                   0.9  \n",
       "3                   0.4  \n",
       "4                   9.8  \n",
       "5                   0.3  "
      ]
     },
     "execution_count": 89,
     "metadata": {},
     "output_type": "execute_result"
    }
   ],
   "source": [
    "# Writing model output file back to Google Drive\n",
    "\n",
    "sample_reviews['Predicted Sentiments'] = np.round(unseen_sentiments*10,1)\n",
    "\n",
    "df_prediction_sentiments = pd.DataFrame(sample_reviews['Predicted Sentiments'], columns = ['Predicted Sentiments'])\n",
    "df_movie                 = pd.DataFrame(sample_reviews['Movie'], columns = ['Movie'])\n",
    "df_review_text           = pd.DataFrame(sample_reviews['Review Text'], columns = ['Review Text'])\n",
    "df_imdb_rating           = pd.DataFrame(sample_reviews['IMDb Rating'], columns = ['IMDb Rating'])\n",
    "\n",
    "\n",
    "dfx=pd.concat([df_movie, df_review_text, df_imdb_rating, df_prediction_sentiments], axis=1)\n",
    "\n",
    "\n",
    "dfx.head(6)"
   ]
  },
  {
   "cell_type": "code",
   "execution_count": 90,
   "metadata": {},
   "outputs": [
    {
     "data": {
      "text/plain": [
       "array([[0.982848  ],\n",
       "       [0.99681026],\n",
       "       [0.08789954],\n",
       "       [0.03702698],\n",
       "       [0.9777938 ],\n",
       "       [0.02715892]], dtype=float32)"
      ]
     },
     "execution_count": 90,
     "metadata": {},
     "output_type": "execute_result"
    }
   ],
   "source": [
    "unseen_sentiments"
   ]
  },
  {
   "cell_type": "code",
   "execution_count": 91,
   "metadata": {
    "scrolled": true
   },
   "outputs": [
    {
     "data": {
      "text/plain": [
       "0.982848"
      ]
     },
     "execution_count": 91,
     "metadata": {},
     "output_type": "execute_result"
    }
   ],
   "source": [
    "unseen_sentiments[0][0]"
   ]
  },
  {
   "cell_type": "code",
   "execution_count": 92,
   "metadata": {},
   "outputs": [],
   "source": [
    "prediction_text= f\"Positive Review with probable IMDb rating as: {np.round(unseen_sentiments[0][0]*10,1)}\""
   ]
  },
  {
   "cell_type": "code",
   "execution_count": 93,
   "metadata": {},
   "outputs": [
    {
     "data": {
      "text/plain": [
       "'Positive Review with probable IMDb rating as: 9.8'"
      ]
     },
     "execution_count": 93,
     "metadata": {},
     "output_type": "execute_result"
    }
   ],
   "source": [
    "prediction_text"
   ]
  },
  {
   "cell_type": "code",
   "execution_count": null,
   "metadata": {},
   "outputs": [],
   "source": []
  }
 ],
 "metadata": {
  "colab": {
   "authorship_tag": "ABX9TyM/OAkS+cdMFD5/+oQ1b+19",
   "collapsed_sections": [
    "EwZa81ThPbt3",
    "q6FO9rxjxHe_"
   ],
   "name": "b_SentimentAnalysis_with_NeuralNetwork.ipynb",
   "provenance": [],
   "toc_visible": true
  },
  "kernelspec": {
   "display_name": "Python 3 (ipykernel)",
   "language": "python",
   "name": "python3"
  },
  "language_info": {
   "codemirror_mode": {
    "name": "ipython",
    "version": 3
   },
   "file_extension": ".py",
   "mimetype": "text/x-python",
   "name": "python",
   "nbconvert_exporter": "python",
   "pygments_lexer": "ipython3",
   "version": "3.8.16"
  }
 },
 "nbformat": 4,
 "nbformat_minor": 1
}
