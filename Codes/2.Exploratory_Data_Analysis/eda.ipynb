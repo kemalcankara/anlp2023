{
 "cells": [
  {
   "cell_type": "code",
   "execution_count": 2,
   "metadata": {},
   "outputs": [],
   "source": [
    "import pandas as pd\n",
    "from bs4 import BeautifulSoup\n",
    "from tqdm import tqdm\n",
    "tqdm.pandas()\n",
    "import numpy as np\n",
    "import nltk\n",
    "from nltk.tokenize import sent_tokenize\n",
    "from nltk import tokenize\n",
    "\n",
    "import numpy as np\n",
    "import pandas as pd\n",
    "import matplotlib.pyplot as plt\n",
    "import seaborn as sns\n",
    "import string\n",
    "import re\n",
    "import nltk\n",
    "\n",
    "from tqdm import trange\n",
    "from nltk import tokenize\n",
    "from nltk.corpus import stopwords\n",
    "from nltk.stem import WordNetLemmatizer\n",
    "from nltk.probability import FreqDist\n",
    "from collections import Counter\n",
    "from sklearn.feature_extraction.text import CountVectorizer"
   ]
  },
  {
   "cell_type": "code",
   "execution_count": 3,
   "metadata": {},
   "outputs": [],
   "source": [
    "it = pd.read_csv('../../Data/Jobs_IT.csv')\n",
    "cons = pd.read_csv('../../Data/Jobs_Construction.csv')\n",
    "law = pd.read_csv('../../Data/Jobs_Law.csv')\n",
    "service = pd.read_csv('../../Data/Service.csv')\n",
    "strategy = pd.read_csv('../../Data/Strategy.csv')\n",
    "research = pd.read_csv('../../Data/research.csv')\n"
   ]
  },
  {
   "cell_type": "code",
   "execution_count": 4,
   "metadata": {},
   "outputs": [
    {
     "name": "stdout",
     "output_type": "stream",
     "text": [
      "15000\n"
     ]
    },
    {
     "data": {
      "text/html": [
       "<div>\n",
       "<style scoped>\n",
       "    .dataframe tbody tr th:only-of-type {\n",
       "        vertical-align: middle;\n",
       "    }\n",
       "\n",
       "    .dataframe tbody tr th {\n",
       "        vertical-align: top;\n",
       "    }\n",
       "\n",
       "    .dataframe thead th {\n",
       "        text-align: right;\n",
       "    }\n",
       "</style>\n",
       "<table border=\"1\" class=\"dataframe\">\n",
       "  <thead>\n",
       "    <tr style=\"text-align: right;\">\n",
       "      <th></th>\n",
       "      <th>JobRefNo</th>\n",
       "      <th>DigerPozisyon</th>\n",
       "      <th>Qualifications</th>\n",
       "      <th>Classification</th>\n",
       "    </tr>\n",
       "  </thead>\n",
       "  <tbody>\n",
       "    <tr>\n",
       "      <th>0</th>\n",
       "      <td>3464108</td>\n",
       "      <td>Bilgisayar Mühendisi</td>\n",
       "      <td>&lt;p&gt;3464105346410534641053464105346410534641053...</td>\n",
       "      <td>Bilgi Teknolojileri</td>\n",
       "    </tr>\n",
       "    <tr>\n",
       "      <th>1</th>\n",
       "      <td>3464068</td>\n",
       "      <td>Yazılım Geliştirme Elemanı</td>\n",
       "      <td>&lt;p&gt;sskjdkjsdksajl sksakjdlkajdladl dskjlksjlks...</td>\n",
       "      <td>Bilgi Teknolojileri</td>\n",
       "    </tr>\n",
       "    <tr>\n",
       "      <th>2</th>\n",
       "      <td>3464018</td>\n",
       "      <td>Grafik Tasarımcı</td>\n",
       "      <td>&lt;p&gt;Şartlar&lt;/p&gt;&lt;p&gt;08.30 - 18.30 arası mesai saa...</td>\n",
       "      <td>Bilgi Teknolojileri</td>\n",
       "    </tr>\n",
       "    <tr>\n",
       "      <th>3</th>\n",
       "      <td>3463995</td>\n",
       "      <td>Full Stack Developer</td>\n",
       "      <td>&lt;p&gt;Yeditek Yeni Dijital Teknolojiler A.Ş.&lt;/p&gt;&lt;...</td>\n",
       "      <td>Bilgi Teknolojileri</td>\n",
       "    </tr>\n",
       "    <tr>\n",
       "      <th>4</th>\n",
       "      <td>3463739</td>\n",
       "      <td>Multimedya Tasarım Uzmanı</td>\n",
       "      <td>&lt;p&gt;Türkiye'de eğitim teknolojileri alanının il...</td>\n",
       "      <td>Bilgi Teknolojileri</td>\n",
       "    </tr>\n",
       "  </tbody>\n",
       "</table>\n",
       "</div>"
      ],
      "text/plain": [
       "   JobRefNo               DigerPozisyon  \\\n",
       "0   3464108        Bilgisayar Mühendisi   \n",
       "1   3464068  Yazılım Geliştirme Elemanı   \n",
       "2   3464018            Grafik Tasarımcı   \n",
       "3   3463995        Full Stack Developer   \n",
       "4   3463739   Multimedya Tasarım Uzmanı   \n",
       "\n",
       "                                      Qualifications       Classification  \n",
       "0  <p>3464105346410534641053464105346410534641053...  Bilgi Teknolojileri  \n",
       "1  <p>sskjdkjsdksajl sksakjdlkajdladl dskjlksjlks...  Bilgi Teknolojileri  \n",
       "2  <p>Şartlar</p><p>08.30 - 18.30 arası mesai saa...  Bilgi Teknolojileri  \n",
       "3  <p>Yeditek Yeni Dijital Teknolojiler A.Ş.</p><...  Bilgi Teknolojileri  \n",
       "4  <p>Türkiye'de eğitim teknolojileri alanının il...  Bilgi Teknolojileri  "
      ]
     },
     "execution_count": 4,
     "metadata": {},
     "output_type": "execute_result"
    }
   ],
   "source": [
    "data = pd.concat([it, cons, law, service, strategy,research], ignore_index=True)\n",
    "print(len(data))\n",
    "data.head()"
   ]
  },
  {
   "cell_type": "code",
   "execution_count": 5,
   "metadata": {},
   "outputs": [
    {
     "data": {
      "text/html": [
       "<div>\n",
       "<style scoped>\n",
       "    .dataframe tbody tr th:only-of-type {\n",
       "        vertical-align: middle;\n",
       "    }\n",
       "\n",
       "    .dataframe tbody tr th {\n",
       "        vertical-align: top;\n",
       "    }\n",
       "\n",
       "    .dataframe thead th {\n",
       "        text-align: right;\n",
       "    }\n",
       "</style>\n",
       "<table border=\"1\" class=\"dataframe\">\n",
       "  <thead>\n",
       "    <tr style=\"text-align: right;\">\n",
       "      <th></th>\n",
       "      <th>JobRefNo</th>\n",
       "      <th>DigerPozisyon</th>\n",
       "      <th>Qualifications</th>\n",
       "      <th>Classification</th>\n",
       "    </tr>\n",
       "  </thead>\n",
       "  <tbody>\n",
       "    <tr>\n",
       "      <th>14995</th>\n",
       "      <td>3076927</td>\n",
       "      <td>Kıdemli AR-GE Mühendisi-Tasarım ve Modelleme</td>\n",
       "      <td>&lt;p&gt;&lt;/p&gt;&lt;p class=\"x_MsoNormal\"&gt;&lt;span&gt;Ankara’da ...</td>\n",
       "      <td>Arge</td>\n",
       "    </tr>\n",
       "    <tr>\n",
       "      <th>14996</th>\n",
       "      <td>3076922</td>\n",
       "      <td>AR-GE Mühendisi</td>\n",
       "      <td>&lt;p class=\"x_MsoNormal\"&gt;Üniversitelerin / MYO v...</td>\n",
       "      <td>Arge</td>\n",
       "    </tr>\n",
       "    <tr>\n",
       "      <th>14997</th>\n",
       "      <td>3076921</td>\n",
       "      <td>Araştırma Geliştirme / Arge Elemanı</td>\n",
       "      <td>&lt;p class=\"x_x_x_x_x_x_x_x_x_x_x_MsoNormal\"&gt;&lt;em...</td>\n",
       "      <td>Arge</td>\n",
       "    </tr>\n",
       "    <tr>\n",
       "      <th>14998</th>\n",
       "      <td>3076913</td>\n",
       "      <td>Development Smart Start</td>\n",
       "      <td>&lt;p class=\"x_MsoNormal\"&gt;&lt;strong&gt;Job Description...</td>\n",
       "      <td>Arge</td>\n",
       "    </tr>\n",
       "    <tr>\n",
       "      <th>14999</th>\n",
       "      <td>3076312</td>\n",
       "      <td>Araştırma Geliştirme / Arge Mühendisi</td>\n",
       "      <td>&lt;h3&gt;GENEL NİTELİKLER&lt;/h3&gt;&lt;p class=\"x_x_x_x_x_x...</td>\n",
       "      <td>Arge</td>\n",
       "    </tr>\n",
       "  </tbody>\n",
       "</table>\n",
       "</div>"
      ],
      "text/plain": [
       "       JobRefNo                                 DigerPozisyon  \\\n",
       "14995   3076927  Kıdemli AR-GE Mühendisi-Tasarım ve Modelleme   \n",
       "14996   3076922                               AR-GE Mühendisi   \n",
       "14997   3076921           Araştırma Geliştirme / Arge Elemanı   \n",
       "14998   3076913                       Development Smart Start   \n",
       "14999   3076312         Araştırma Geliştirme / Arge Mühendisi   \n",
       "\n",
       "                                          Qualifications Classification  \n",
       "14995  <p></p><p class=\"x_MsoNormal\"><span>Ankara’da ...           Arge  \n",
       "14996  <p class=\"x_MsoNormal\">Üniversitelerin / MYO v...           Arge  \n",
       "14997  <p class=\"x_x_x_x_x_x_x_x_x_x_x_MsoNormal\"><em...           Arge  \n",
       "14998  <p class=\"x_MsoNormal\"><strong>Job Description...           Arge  \n",
       "14999  <h3>GENEL NİTELİKLER</h3><p class=\"x_x_x_x_x_x...           Arge  "
      ]
     },
     "execution_count": 5,
     "metadata": {},
     "output_type": "execute_result"
    }
   ],
   "source": [
    "data.tail()"
   ]
  },
  {
   "cell_type": "code",
   "execution_count": 6,
   "metadata": {},
   "outputs": [
    {
     "name": "stdout",
     "output_type": "stream",
     "text": [
      "Number of Classification=> 7\n",
      "Number of DigerPozisyon=> 5232\n"
     ]
    }
   ],
   "source": [
    "print('Number of Classification=>',len(data['Classification'].unique()))\n",
    "print('Number of DigerPozisyon=>',len(data['DigerPozisyon'].unique()))"
   ]
  },
  {
   "attachments": {},
   "cell_type": "markdown",
   "metadata": {},
   "source": [
    "## Cleaning Text"
   ]
  },
  {
   "attachments": {},
   "cell_type": "markdown",
   "metadata": {},
   "source": [
    "Html i temizleyelim  \n"
   ]
  },
  {
   "cell_type": "code",
   "execution_count": 7,
   "metadata": {},
   "outputs": [],
   "source": [
    "def CleanHtml(text):\n",
    "    return BeautifulSoup(text).getText(' ') "
   ]
  },
  {
   "cell_type": "code",
   "execution_count": 8,
   "metadata": {},
   "outputs": [
    {
     "data": {
      "text/plain": [
       "'Şartlar 08.30 - 18.30 arası mesai saatleri. Sadece pazar günleri çalışmıyoruz. Yerimiz Kızılay- Kolejdedir. Nitelikler Orta seviye Photoshop (Zorunlu) Tercihen Adobe premier bilen Tercihen orta seviye İngilizce okuma ve yazma Tercihen ürün çekimi konusunda tecrübeli. İşin Tanımı Grafik tasarımın yanı sıra İdari işlerde yardımcı olacak ekip arkadaşı ihtiyacımız vardır.\\xa0 Siparişleri \\xa0ayarlama, kargo paketleme, baskı makinalarının kullanımı gibi gün içinde bizler ne yapıyorsak yardımcı olacak personel işe alınacaktır. Ara sıra Adobe premier ve photoshopta projeler verilecektir bu nedenle bilen kişileri tercih ediyoruz.'"
      ]
     },
     "execution_count": 8,
     "metadata": {},
     "output_type": "execute_result"
    }
   ],
   "source": [
    "CleanHtml(BeautifulSoup(data.iloc[2]['Qualifications']).get_text(\" \"))"
   ]
  },
  {
   "cell_type": "code",
   "execution_count": 9,
   "metadata": {},
   "outputs": [
    {
     "name": "stderr",
     "output_type": "stream",
     "text": [
      "100%|██████████| 15000/15000 [00:05<00:00, 2716.64it/s]\n"
     ]
    }
   ],
   "source": [
    "data['Qualifications_HtmlFree'] = data.progress_apply(lambda x: CleanHtml(x['Qualifications']),axis=1)"
   ]
  },
  {
   "cell_type": "code",
   "execution_count": 10,
   "metadata": {},
   "outputs": [
    {
     "data": {
      "text/html": [
       "<div>\n",
       "<style scoped>\n",
       "    .dataframe tbody tr th:only-of-type {\n",
       "        vertical-align: middle;\n",
       "    }\n",
       "\n",
       "    .dataframe tbody tr th {\n",
       "        vertical-align: top;\n",
       "    }\n",
       "\n",
       "    .dataframe thead th {\n",
       "        text-align: right;\n",
       "    }\n",
       "</style>\n",
       "<table border=\"1\" class=\"dataframe\">\n",
       "  <thead>\n",
       "    <tr style=\"text-align: right;\">\n",
       "      <th></th>\n",
       "      <th>JobRefNo</th>\n",
       "      <th>DigerPozisyon</th>\n",
       "      <th>Qualifications</th>\n",
       "      <th>Classification</th>\n",
       "      <th>Qualifications_HtmlFree</th>\n",
       "    </tr>\n",
       "  </thead>\n",
       "  <tbody>\n",
       "    <tr>\n",
       "      <th>0</th>\n",
       "      <td>3464108</td>\n",
       "      <td>Bilgisayar Mühendisi</td>\n",
       "      <td>&lt;p&gt;3464105346410534641053464105346410534641053...</td>\n",
       "      <td>Bilgi Teknolojileri</td>\n",
       "      <td>3464105346410534641053464105346410534641053464...</td>\n",
       "    </tr>\n",
       "    <tr>\n",
       "      <th>1</th>\n",
       "      <td>3464068</td>\n",
       "      <td>Yazılım Geliştirme Elemanı</td>\n",
       "      <td>&lt;p&gt;sskjdkjsdksajl sksakjdlkajdladl dskjlksjlks...</td>\n",
       "      <td>Bilgi Teknolojileri</td>\n",
       "      <td>sskjdkjsdksajl sksakjdlkajdladl dskjlksjlksajl...</td>\n",
       "    </tr>\n",
       "    <tr>\n",
       "      <th>2</th>\n",
       "      <td>3464018</td>\n",
       "      <td>Grafik Tasarımcı</td>\n",
       "      <td>&lt;p&gt;Şartlar&lt;/p&gt;&lt;p&gt;08.30 - 18.30 arası mesai saa...</td>\n",
       "      <td>Bilgi Teknolojileri</td>\n",
       "      <td>Şartlar 08.30 - 18.30 arası mesai saatleri. Sa...</td>\n",
       "    </tr>\n",
       "    <tr>\n",
       "      <th>3</th>\n",
       "      <td>3463995</td>\n",
       "      <td>Full Stack Developer</td>\n",
       "      <td>&lt;p&gt;Yeditek Yeni Dijital Teknolojiler A.Ş.&lt;/p&gt;&lt;...</td>\n",
       "      <td>Bilgi Teknolojileri</td>\n",
       "      <td>Yeditek Yeni Dijital Teknolojiler A.Ş. Yeditek...</td>\n",
       "    </tr>\n",
       "    <tr>\n",
       "      <th>4</th>\n",
       "      <td>3463739</td>\n",
       "      <td>Multimedya Tasarım Uzmanı</td>\n",
       "      <td>&lt;p&gt;Türkiye'de eğitim teknolojileri alanının il...</td>\n",
       "      <td>Bilgi Teknolojileri</td>\n",
       "      <td>Türkiye'de eğitim teknolojileri alanının ilk v...</td>\n",
       "    </tr>\n",
       "  </tbody>\n",
       "</table>\n",
       "</div>"
      ],
      "text/plain": [
       "   JobRefNo               DigerPozisyon  \\\n",
       "0   3464108        Bilgisayar Mühendisi   \n",
       "1   3464068  Yazılım Geliştirme Elemanı   \n",
       "2   3464018            Grafik Tasarımcı   \n",
       "3   3463995        Full Stack Developer   \n",
       "4   3463739   Multimedya Tasarım Uzmanı   \n",
       "\n",
       "                                      Qualifications       Classification  \\\n",
       "0  <p>3464105346410534641053464105346410534641053...  Bilgi Teknolojileri   \n",
       "1  <p>sskjdkjsdksajl sksakjdlkajdladl dskjlksjlks...  Bilgi Teknolojileri   \n",
       "2  <p>Şartlar</p><p>08.30 - 18.30 arası mesai saa...  Bilgi Teknolojileri   \n",
       "3  <p>Yeditek Yeni Dijital Teknolojiler A.Ş.</p><...  Bilgi Teknolojileri   \n",
       "4  <p>Türkiye'de eğitim teknolojileri alanının il...  Bilgi Teknolojileri   \n",
       "\n",
       "                             Qualifications_HtmlFree  \n",
       "0  3464105346410534641053464105346410534641053464...  \n",
       "1  sskjdkjsdksajl sksakjdlkajdladl dskjlksjlksajl...  \n",
       "2  Şartlar 08.30 - 18.30 arası mesai saatleri. Sa...  \n",
       "3  Yeditek Yeni Dijital Teknolojiler A.Ş. Yeditek...  \n",
       "4  Türkiye'de eğitim teknolojileri alanının ilk v...  "
      ]
     },
     "execution_count": 10,
     "metadata": {},
     "output_type": "execute_result"
    }
   ],
   "source": [
    "data.head()"
   ]
  },
  {
   "attachments": {},
   "cell_type": "markdown",
   "metadata": {},
   "source": [
    "## Exploratory Data Analysis\n",
    " \n",
    "### Counts and Lenght:\n",
    "Start by checking how long the reviews are\n",
    "* Character count\n",
    "* Word count\n",
    "* Mean word length\n",
    "* Mean sentence length"
   ]
  },
  {
   "cell_type": "code",
   "execution_count": 11,
   "metadata": {},
   "outputs": [
    {
     "name": "stdout",
     "output_type": "stream",
     "text": [
      "Length of a sample job description: 693\n"
     ]
    }
   ],
   "source": [
    "lenght = len(data['Qualifications'][2])\n",
    "print(f'Length of a sample job description: {lenght}')"
   ]
  },
  {
   "cell_type": "code",
   "execution_count": 12,
   "metadata": {},
   "outputs": [
    {
     "data": {
      "text/html": [
       "<div>\n",
       "<style scoped>\n",
       "    .dataframe tbody tr th:only-of-type {\n",
       "        vertical-align: middle;\n",
       "    }\n",
       "\n",
       "    .dataframe tbody tr th {\n",
       "        vertical-align: top;\n",
       "    }\n",
       "\n",
       "    .dataframe thead th {\n",
       "        text-align: right;\n",
       "    }\n",
       "</style>\n",
       "<table border=\"1\" class=\"dataframe\">\n",
       "  <thead>\n",
       "    <tr style=\"text-align: right;\">\n",
       "      <th></th>\n",
       "      <th>JobRefNo</th>\n",
       "      <th>DigerPozisyon</th>\n",
       "      <th>Qualifications</th>\n",
       "      <th>Classification</th>\n",
       "      <th>Qualifications_HtmlFree</th>\n",
       "      <th>Length</th>\n",
       "    </tr>\n",
       "  </thead>\n",
       "  <tbody>\n",
       "    <tr>\n",
       "      <th>0</th>\n",
       "      <td>3464108</td>\n",
       "      <td>Bilgisayar Mühendisi</td>\n",
       "      <td>&lt;p&gt;3464105346410534641053464105346410534641053...</td>\n",
       "      <td>Bilgi Teknolojileri</td>\n",
       "      <td>3464105346410534641053464105346410534641053464...</td>\n",
       "      <td>126</td>\n",
       "    </tr>\n",
       "    <tr>\n",
       "      <th>1</th>\n",
       "      <td>3464068</td>\n",
       "      <td>Yazılım Geliştirme Elemanı</td>\n",
       "      <td>&lt;p&gt;sskjdkjsdksajl sksakjdlkajdladl dskjlksjlks...</td>\n",
       "      <td>Bilgi Teknolojileri</td>\n",
       "      <td>sskjdkjsdksajl sksakjdlkajdladl dskjlksjlksajl...</td>\n",
       "      <td>111</td>\n",
       "    </tr>\n",
       "    <tr>\n",
       "      <th>2</th>\n",
       "      <td>3464018</td>\n",
       "      <td>Grafik Tasarımcı</td>\n",
       "      <td>&lt;p&gt;Şartlar&lt;/p&gt;&lt;p&gt;08.30 - 18.30 arası mesai saa...</td>\n",
       "      <td>Bilgi Teknolojileri</td>\n",
       "      <td>Şartlar 08.30 - 18.30 arası mesai saatleri. Sa...</td>\n",
       "      <td>623</td>\n",
       "    </tr>\n",
       "    <tr>\n",
       "      <th>3</th>\n",
       "      <td>3463995</td>\n",
       "      <td>Full Stack Developer</td>\n",
       "      <td>&lt;p&gt;Yeditek Yeni Dijital Teknolojiler A.Ş.&lt;/p&gt;&lt;...</td>\n",
       "      <td>Bilgi Teknolojileri</td>\n",
       "      <td>Yeditek Yeni Dijital Teknolojiler A.Ş. Yeditek...</td>\n",
       "      <td>698</td>\n",
       "    </tr>\n",
       "    <tr>\n",
       "      <th>4</th>\n",
       "      <td>3463739</td>\n",
       "      <td>Multimedya Tasarım Uzmanı</td>\n",
       "      <td>&lt;p&gt;Türkiye'de eğitim teknolojileri alanının il...</td>\n",
       "      <td>Bilgi Teknolojileri</td>\n",
       "      <td>Türkiye'de eğitim teknolojileri alanının ilk v...</td>\n",
       "      <td>2426</td>\n",
       "    </tr>\n",
       "    <tr>\n",
       "      <th>5</th>\n",
       "      <td>3463723</td>\n",
       "      <td>Kıdemli Yazılım Geliştirme Uzmanı</td>\n",
       "      <td>&lt;p class=\"x_MsoNormal\"&gt;Geliştirmek olduğumuz ç...</td>\n",
       "      <td>Bilgi Teknolojileri</td>\n",
       "      <td>Geliştirmek olduğumuz çok büyük bir projenin ö...</td>\n",
       "      <td>1594</td>\n",
       "    </tr>\n",
       "    <tr>\n",
       "      <th>6</th>\n",
       "      <td>3463703</td>\n",
       "      <td>Grafik Tasarım Uzmanı</td>\n",
       "      <td>&lt;p&gt;Saç Ekimi ve Estetik alanında faaliyet göst...</td>\n",
       "      <td>Bilgi Teknolojileri</td>\n",
       "      <td>Saç Ekimi ve Estetik alanında faaliyet göstere...</td>\n",
       "      <td>927</td>\n",
       "    </tr>\n",
       "    <tr>\n",
       "      <th>7</th>\n",
       "      <td>3463683</td>\n",
       "      <td>Bilgi İşlem Uzmanı</td>\n",
       "      <td>&lt;p class=\"x_x_x_x_x_x_x_xxxmsonormal\"&gt;&lt;strong&gt;...</td>\n",
       "      <td>Bilgi Teknolojileri</td>\n",
       "      <td>GENEL NİTELİKLER Üniversitelerin ilgili bölüml...</td>\n",
       "      <td>1441</td>\n",
       "    </tr>\n",
       "    <tr>\n",
       "      <th>8</th>\n",
       "      <td>3463593</td>\n",
       "      <td>Bilgi Teknolojileri / IT Uzmanı</td>\n",
       "      <td>&lt;p class=\"x_x_x_xxxxxxmsonormal\"&gt;Ankutsan A.Ş....</td>\n",
       "      <td>Bilgi Teknolojileri</td>\n",
       "      <td>Ankutsan A.Ş. olarak 2002 yılında Antalya’da b...</td>\n",
       "      <td>2976</td>\n",
       "    </tr>\n",
       "    <tr>\n",
       "      <th>9</th>\n",
       "      <td>3463554</td>\n",
       "      <td>Grafiker</td>\n",
       "      <td>&lt;p&gt;Kutu ,Ambalaj ve Etiket grafik tasarımları ...</td>\n",
       "      <td>Bilgi Teknolojileri</td>\n",
       "      <td>Kutu ,Ambalaj ve Etiket grafik tasarımları yap...</td>\n",
       "      <td>316</td>\n",
       "    </tr>\n",
       "  </tbody>\n",
       "</table>\n",
       "</div>"
      ],
      "text/plain": [
       "   JobRefNo                      DigerPozisyon  \\\n",
       "0   3464108               Bilgisayar Mühendisi   \n",
       "1   3464068         Yazılım Geliştirme Elemanı   \n",
       "2   3464018                   Grafik Tasarımcı   \n",
       "3   3463995               Full Stack Developer   \n",
       "4   3463739          Multimedya Tasarım Uzmanı   \n",
       "5   3463723  Kıdemli Yazılım Geliştirme Uzmanı   \n",
       "6   3463703              Grafik Tasarım Uzmanı   \n",
       "7   3463683                 Bilgi İşlem Uzmanı   \n",
       "8   3463593    Bilgi Teknolojileri / IT Uzmanı   \n",
       "9   3463554                           Grafiker   \n",
       "\n",
       "                                      Qualifications       Classification  \\\n",
       "0  <p>3464105346410534641053464105346410534641053...  Bilgi Teknolojileri   \n",
       "1  <p>sskjdkjsdksajl sksakjdlkajdladl dskjlksjlks...  Bilgi Teknolojileri   \n",
       "2  <p>Şartlar</p><p>08.30 - 18.30 arası mesai saa...  Bilgi Teknolojileri   \n",
       "3  <p>Yeditek Yeni Dijital Teknolojiler A.Ş.</p><...  Bilgi Teknolojileri   \n",
       "4  <p>Türkiye'de eğitim teknolojileri alanının il...  Bilgi Teknolojileri   \n",
       "5  <p class=\"x_MsoNormal\">Geliştirmek olduğumuz ç...  Bilgi Teknolojileri   \n",
       "6  <p>Saç Ekimi ve Estetik alanında faaliyet göst...  Bilgi Teknolojileri   \n",
       "7  <p class=\"x_x_x_x_x_x_x_xxxmsonormal\"><strong>...  Bilgi Teknolojileri   \n",
       "8  <p class=\"x_x_x_xxxxxxmsonormal\">Ankutsan A.Ş....  Bilgi Teknolojileri   \n",
       "9  <p>Kutu ,Ambalaj ve Etiket grafik tasarımları ...  Bilgi Teknolojileri   \n",
       "\n",
       "                             Qualifications_HtmlFree  Length  \n",
       "0  3464105346410534641053464105346410534641053464...     126  \n",
       "1  sskjdkjsdksajl sksakjdlkajdladl dskjlksjlksajl...     111  \n",
       "2  Şartlar 08.30 - 18.30 arası mesai saatleri. Sa...     623  \n",
       "3  Yeditek Yeni Dijital Teknolojiler A.Ş. Yeditek...     698  \n",
       "4  Türkiye'de eğitim teknolojileri alanının ilk v...    2426  \n",
       "5  Geliştirmek olduğumuz çok büyük bir projenin ö...    1594  \n",
       "6  Saç Ekimi ve Estetik alanında faaliyet göstere...     927  \n",
       "7  GENEL NİTELİKLER Üniversitelerin ilgili bölüml...    1441  \n",
       "8  Ankutsan A.Ş. olarak 2002 yılında Antalya’da b...    2976  \n",
       "9  Kutu ,Ambalaj ve Etiket grafik tasarımları yap...     316  "
      ]
     },
     "execution_count": 12,
     "metadata": {},
     "output_type": "execute_result"
    }
   ],
   "source": [
    "data['Length'] = data['Qualifications_HtmlFree'].str.len()\n",
    "data.head(10)"
   ]
  },
  {
   "cell_type": "code",
   "execution_count": 13,
   "metadata": {},
   "outputs": [
    {
     "name": "stdout",
     "output_type": "stream",
     "text": [
      "Word count in a sample review: 90\n"
     ]
    }
   ],
   "source": [
    "word_count = data['Qualifications_HtmlFree'][3].split()\n",
    "print(f'Word count in a sample review: {len(word_count)}')"
   ]
  },
  {
   "cell_type": "code",
   "execution_count": 14,
   "metadata": {},
   "outputs": [
    {
     "name": "stderr",
     "output_type": "stream",
     "text": [
      "100%|██████████| 15000/15000 [00:00<00:00, 113229.20it/s]\n"
     ]
    },
    {
     "data": {
      "text/html": [
       "<div>\n",
       "<style scoped>\n",
       "    .dataframe tbody tr th:only-of-type {\n",
       "        vertical-align: middle;\n",
       "    }\n",
       "\n",
       "    .dataframe tbody tr th {\n",
       "        vertical-align: top;\n",
       "    }\n",
       "\n",
       "    .dataframe thead th {\n",
       "        text-align: right;\n",
       "    }\n",
       "</style>\n",
       "<table border=\"1\" class=\"dataframe\">\n",
       "  <thead>\n",
       "    <tr style=\"text-align: right;\">\n",
       "      <th></th>\n",
       "      <th>JobRefNo</th>\n",
       "      <th>DigerPozisyon</th>\n",
       "      <th>Qualifications</th>\n",
       "      <th>Classification</th>\n",
       "      <th>Qualifications_HtmlFree</th>\n",
       "      <th>Length</th>\n",
       "      <th>Word_count</th>\n",
       "    </tr>\n",
       "  </thead>\n",
       "  <tbody>\n",
       "    <tr>\n",
       "      <th>0</th>\n",
       "      <td>3464108</td>\n",
       "      <td>Bilgisayar Mühendisi</td>\n",
       "      <td>&lt;p&gt;3464105346410534641053464105346410534641053...</td>\n",
       "      <td>Bilgi Teknolojileri</td>\n",
       "      <td>3464105346410534641053464105346410534641053464...</td>\n",
       "      <td>126</td>\n",
       "      <td>1</td>\n",
       "    </tr>\n",
       "    <tr>\n",
       "      <th>1</th>\n",
       "      <td>3464068</td>\n",
       "      <td>Yazılım Geliştirme Elemanı</td>\n",
       "      <td>&lt;p&gt;sskjdkjsdksajl sksakjdlkajdladl dskjlksjlks...</td>\n",
       "      <td>Bilgi Teknolojileri</td>\n",
       "      <td>sskjdkjsdksajl sksakjdlkajdladl dskjlksjlksajl...</td>\n",
       "      <td>111</td>\n",
       "      <td>5</td>\n",
       "    </tr>\n",
       "    <tr>\n",
       "      <th>2</th>\n",
       "      <td>3464018</td>\n",
       "      <td>Grafik Tasarımcı</td>\n",
       "      <td>&lt;p&gt;Şartlar&lt;/p&gt;&lt;p&gt;08.30 - 18.30 arası mesai saa...</td>\n",
       "      <td>Bilgi Teknolojileri</td>\n",
       "      <td>Şartlar 08.30 - 18.30 arası mesai saatleri. Sa...</td>\n",
       "      <td>623</td>\n",
       "      <td>81</td>\n",
       "    </tr>\n",
       "  </tbody>\n",
       "</table>\n",
       "</div>"
      ],
      "text/plain": [
       "   JobRefNo               DigerPozisyon  \\\n",
       "0   3464108        Bilgisayar Mühendisi   \n",
       "1   3464068  Yazılım Geliştirme Elemanı   \n",
       "2   3464018            Grafik Tasarımcı   \n",
       "\n",
       "                                      Qualifications       Classification  \\\n",
       "0  <p>3464105346410534641053464105346410534641053...  Bilgi Teknolojileri   \n",
       "1  <p>sskjdkjsdksajl sksakjdlkajdladl dskjlksjlks...  Bilgi Teknolojileri   \n",
       "2  <p>Şartlar</p><p>08.30 - 18.30 arası mesai saa...  Bilgi Teknolojileri   \n",
       "\n",
       "                             Qualifications_HtmlFree  Length  Word_count  \n",
       "0  3464105346410534641053464105346410534641053464...     126           1  \n",
       "1  sskjdkjsdksajl sksakjdlkajdladl dskjlksjlksajl...     111           5  \n",
       "2  Şartlar 08.30 - 18.30 arası mesai saatleri. Sa...     623          81  "
      ]
     },
     "execution_count": 14,
     "metadata": {},
     "output_type": "execute_result"
    }
   ],
   "source": [
    "def word_count(review):\n",
    "    review_list = review.split()\n",
    "    return len(review_list)\n",
    "\n",
    "data['Word_count'] = data['Qualifications_HtmlFree'].progress_apply(word_count)\n",
    "data.head(3)"
   ]
  },
  {
   "cell_type": "code",
   "execution_count": 15,
   "metadata": {},
   "outputs": [
    {
     "data": {
      "text/html": [
       "<div>\n",
       "<style scoped>\n",
       "    .dataframe tbody tr th:only-of-type {\n",
       "        vertical-align: middle;\n",
       "    }\n",
       "\n",
       "    .dataframe tbody tr th {\n",
       "        vertical-align: top;\n",
       "    }\n",
       "\n",
       "    .dataframe thead th {\n",
       "        text-align: right;\n",
       "    }\n",
       "</style>\n",
       "<table border=\"1\" class=\"dataframe\">\n",
       "  <thead>\n",
       "    <tr style=\"text-align: right;\">\n",
       "      <th></th>\n",
       "      <th>JobRefNo</th>\n",
       "      <th>DigerPozisyon</th>\n",
       "      <th>Qualifications</th>\n",
       "      <th>Classification</th>\n",
       "      <th>Qualifications_HtmlFree</th>\n",
       "      <th>Length</th>\n",
       "      <th>Word_count</th>\n",
       "      <th>mean_word_length</th>\n",
       "    </tr>\n",
       "  </thead>\n",
       "  <tbody>\n",
       "    <tr>\n",
       "      <th>0</th>\n",
       "      <td>3464108</td>\n",
       "      <td>Bilgisayar Mühendisi</td>\n",
       "      <td>&lt;p&gt;3464105346410534641053464105346410534641053...</td>\n",
       "      <td>Bilgi Teknolojileri</td>\n",
       "      <td>3464105346410534641053464105346410534641053464...</td>\n",
       "      <td>126</td>\n",
       "      <td>1</td>\n",
       "      <td>126.000000</td>\n",
       "    </tr>\n",
       "    <tr>\n",
       "      <th>1</th>\n",
       "      <td>3464068</td>\n",
       "      <td>Yazılım Geliştirme Elemanı</td>\n",
       "      <td>&lt;p&gt;sskjdkjsdksajl sksakjdlkajdladl dskjlksjlks...</td>\n",
       "      <td>Bilgi Teknolojileri</td>\n",
       "      <td>sskjdkjsdksajl sksakjdlkajdladl dskjlksjlksajl...</td>\n",
       "      <td>111</td>\n",
       "      <td>5</td>\n",
       "      <td>21.400000</td>\n",
       "    </tr>\n",
       "    <tr>\n",
       "      <th>2</th>\n",
       "      <td>3464018</td>\n",
       "      <td>Grafik Tasarımcı</td>\n",
       "      <td>&lt;p&gt;Şartlar&lt;/p&gt;&lt;p&gt;08.30 - 18.30 arası mesai saa...</td>\n",
       "      <td>Bilgi Teknolojileri</td>\n",
       "      <td>Şartlar 08.30 - 18.30 arası mesai saatleri. Sa...</td>\n",
       "      <td>623</td>\n",
       "      <td>81</td>\n",
       "      <td>6.679012</td>\n",
       "    </tr>\n",
       "  </tbody>\n",
       "</table>\n",
       "</div>"
      ],
      "text/plain": [
       "   JobRefNo               DigerPozisyon  \\\n",
       "0   3464108        Bilgisayar Mühendisi   \n",
       "1   3464068  Yazılım Geliştirme Elemanı   \n",
       "2   3464018            Grafik Tasarımcı   \n",
       "\n",
       "                                      Qualifications       Classification  \\\n",
       "0  <p>3464105346410534641053464105346410534641053...  Bilgi Teknolojileri   \n",
       "1  <p>sskjdkjsdksajl sksakjdlkajdladl dskjlksjlks...  Bilgi Teknolojileri   \n",
       "2  <p>Şartlar</p><p>08.30 - 18.30 arası mesai saa...  Bilgi Teknolojileri   \n",
       "\n",
       "                             Qualifications_HtmlFree  Length  Word_count  \\\n",
       "0  3464105346410534641053464105346410534641053464...     126           1   \n",
       "1  sskjdkjsdksajl sksakjdlkajdladl dskjlksjlksajl...     111           5   \n",
       "2  Şartlar 08.30 - 18.30 arası mesai saatleri. Sa...     623          81   \n",
       "\n",
       "   mean_word_length  \n",
       "0        126.000000  \n",
       "1         21.400000  \n",
       "2          6.679012  "
      ]
     },
     "execution_count": 15,
     "metadata": {},
     "output_type": "execute_result"
    }
   ],
   "source": [
    "data['mean_word_length'] = data['Qualifications_HtmlFree'].map(lambda rev: np.mean([len(word) for word in rev.split()]))\n",
    "data.head(3)"
   ]
  },
  {
   "cell_type": "code",
   "execution_count": 16,
   "metadata": {},
   "outputs": [
    {
     "data": {
      "text/html": [
       "<div>\n",
       "<style scoped>\n",
       "    .dataframe tbody tr th:only-of-type {\n",
       "        vertical-align: middle;\n",
       "    }\n",
       "\n",
       "    .dataframe tbody tr th {\n",
       "        vertical-align: top;\n",
       "    }\n",
       "\n",
       "    .dataframe thead th {\n",
       "        text-align: right;\n",
       "    }\n",
       "</style>\n",
       "<table border=\"1\" class=\"dataframe\">\n",
       "  <thead>\n",
       "    <tr style=\"text-align: right;\">\n",
       "      <th></th>\n",
       "      <th>JobRefNo</th>\n",
       "      <th>DigerPozisyon</th>\n",
       "      <th>Qualifications</th>\n",
       "      <th>Classification</th>\n",
       "      <th>Qualifications_HtmlFree</th>\n",
       "      <th>Length</th>\n",
       "      <th>Word_count</th>\n",
       "      <th>mean_word_length</th>\n",
       "      <th>mean_sent_length</th>\n",
       "    </tr>\n",
       "  </thead>\n",
       "  <tbody>\n",
       "    <tr>\n",
       "      <th>0</th>\n",
       "      <td>3464108</td>\n",
       "      <td>Bilgisayar Mühendisi</td>\n",
       "      <td>&lt;p&gt;3464105346410534641053464105346410534641053...</td>\n",
       "      <td>Bilgi Teknolojileri</td>\n",
       "      <td>3464105346410534641053464105346410534641053464...</td>\n",
       "      <td>126</td>\n",
       "      <td>1</td>\n",
       "      <td>126.000000</td>\n",
       "      <td>126.0</td>\n",
       "    </tr>\n",
       "    <tr>\n",
       "      <th>1</th>\n",
       "      <td>3464068</td>\n",
       "      <td>Yazılım Geliştirme Elemanı</td>\n",
       "      <td>&lt;p&gt;sskjdkjsdksajl sksakjdlkajdladl dskjlksjlks...</td>\n",
       "      <td>Bilgi Teknolojileri</td>\n",
       "      <td>sskjdkjsdksajl sksakjdlkajdladl dskjlksjlksajl...</td>\n",
       "      <td>111</td>\n",
       "      <td>5</td>\n",
       "      <td>21.400000</td>\n",
       "      <td>111.0</td>\n",
       "    </tr>\n",
       "    <tr>\n",
       "      <th>2</th>\n",
       "      <td>3464018</td>\n",
       "      <td>Grafik Tasarımcı</td>\n",
       "      <td>&lt;p&gt;Şartlar&lt;/p&gt;&lt;p&gt;08.30 - 18.30 arası mesai saa...</td>\n",
       "      <td>Bilgi Teknolojileri</td>\n",
       "      <td>Şartlar 08.30 - 18.30 arası mesai saatleri. Sa...</td>\n",
       "      <td>623</td>\n",
       "      <td>81</td>\n",
       "      <td>6.679012</td>\n",
       "      <td>88.0</td>\n",
       "    </tr>\n",
       "  </tbody>\n",
       "</table>\n",
       "</div>"
      ],
      "text/plain": [
       "   JobRefNo               DigerPozisyon  \\\n",
       "0   3464108        Bilgisayar Mühendisi   \n",
       "1   3464068  Yazılım Geliştirme Elemanı   \n",
       "2   3464018            Grafik Tasarımcı   \n",
       "\n",
       "                                      Qualifications       Classification  \\\n",
       "0  <p>3464105346410534641053464105346410534641053...  Bilgi Teknolojileri   \n",
       "1  <p>sskjdkjsdksajl sksakjdlkajdladl dskjlksjlks...  Bilgi Teknolojileri   \n",
       "2  <p>Şartlar</p><p>08.30 - 18.30 arası mesai saa...  Bilgi Teknolojileri   \n",
       "\n",
       "                             Qualifications_HtmlFree  Length  Word_count  \\\n",
       "0  3464105346410534641053464105346410534641053464...     126           1   \n",
       "1  sskjdkjsdksajl sksakjdlkajdladl dskjlksjlksajl...     111           5   \n",
       "2  Şartlar 08.30 - 18.30 arası mesai saatleri. Sa...     623          81   \n",
       "\n",
       "   mean_word_length  mean_sent_length  \n",
       "0        126.000000             126.0  \n",
       "1         21.400000             111.0  \n",
       "2          6.679012              88.0  "
      ]
     },
     "execution_count": 16,
     "metadata": {},
     "output_type": "execute_result"
    }
   ],
   "source": [
    "data['mean_sent_length'] = data['Qualifications_HtmlFree'].map(lambda rev: np.mean([len(sent) for sent in tokenize.sent_tokenize(rev)]))\n",
    "data.head(3)"
   ]
  },
  {
   "cell_type": "code",
   "execution_count": 17,
   "metadata": {},
   "outputs": [],
   "source": [
    "def visualize(col):\n",
    "    \n",
    "    print()\n",
    "    plt.subplot(1,2,1)\n",
    "    sns.boxplot(y=data[col], hue=data['categorical_label'])\n",
    "    plt.ylabel(col, labelpad=12.5)\n",
    "    \n",
    " \n",
    "    plt.show()"
   ]
  },
  {
   "cell_type": "code",
   "execution_count": 18,
   "metadata": {},
   "outputs": [
    {
     "name": "stdout",
     "output_type": "stream",
     "text": [
      "\n"
     ]
    },
    {
     "ename": "KeyError",
     "evalue": "'categorical_label'",
     "output_type": "error",
     "traceback": [
      "\u001b[0;31m---------------------------------------------------------------------------\u001b[0m",
      "\u001b[0;31mKeyError\u001b[0m                                  Traceback (most recent call last)",
      "File \u001b[0;32m~/miniforge3/envs/nlpEnv/lib/python3.11/site-packages/pandas/core/indexes/base.py:3803\u001b[0m, in \u001b[0;36mIndex.get_loc\u001b[0;34m(self, key, method, tolerance)\u001b[0m\n\u001b[1;32m   3802\u001b[0m \u001b[39mtry\u001b[39;00m:\n\u001b[0;32m-> 3803\u001b[0m     \u001b[39mreturn\u001b[39;00m \u001b[39mself\u001b[39;49m\u001b[39m.\u001b[39;49m_engine\u001b[39m.\u001b[39;49mget_loc(casted_key)\n\u001b[1;32m   3804\u001b[0m \u001b[39mexcept\u001b[39;00m \u001b[39mKeyError\u001b[39;00m \u001b[39mas\u001b[39;00m err:\n",
      "File \u001b[0;32m~/miniforge3/envs/nlpEnv/lib/python3.11/site-packages/pandas/_libs/index.pyx:138\u001b[0m, in \u001b[0;36mpandas._libs.index.IndexEngine.get_loc\u001b[0;34m()\u001b[0m\n",
      "File \u001b[0;32m~/miniforge3/envs/nlpEnv/lib/python3.11/site-packages/pandas/_libs/index.pyx:165\u001b[0m, in \u001b[0;36mpandas._libs.index.IndexEngine.get_loc\u001b[0;34m()\u001b[0m\n",
      "File \u001b[0;32mpandas/_libs/hashtable_class_helper.pxi:5745\u001b[0m, in \u001b[0;36mpandas._libs.hashtable.PyObjectHashTable.get_item\u001b[0;34m()\u001b[0m\n",
      "File \u001b[0;32mpandas/_libs/hashtable_class_helper.pxi:5753\u001b[0m, in \u001b[0;36mpandas._libs.hashtable.PyObjectHashTable.get_item\u001b[0;34m()\u001b[0m\n",
      "\u001b[0;31mKeyError\u001b[0m: 'categorical_label'",
      "\nThe above exception was the direct cause of the following exception:\n",
      "\u001b[0;31mKeyError\u001b[0m                                  Traceback (most recent call last)",
      "Cell \u001b[0;32mIn[18], line 3\u001b[0m\n\u001b[1;32m      1\u001b[0m features \u001b[39m=\u001b[39m data\u001b[39m.\u001b[39mcolumns\u001b[39m.\u001b[39mtolist()[\u001b[39m2\u001b[39m:]\n\u001b[1;32m      2\u001b[0m \u001b[39mfor\u001b[39;00m feature \u001b[39min\u001b[39;00m features:\n\u001b[0;32m----> 3\u001b[0m     visualize(feature)\n",
      "Cell \u001b[0;32mIn[17], line 5\u001b[0m, in \u001b[0;36mvisualize\u001b[0;34m(col)\u001b[0m\n\u001b[1;32m      3\u001b[0m \u001b[39mprint\u001b[39m()\n\u001b[1;32m      4\u001b[0m plt\u001b[39m.\u001b[39msubplot(\u001b[39m1\u001b[39m,\u001b[39m2\u001b[39m,\u001b[39m1\u001b[39m)\n\u001b[0;32m----> 5\u001b[0m sns\u001b[39m.\u001b[39mboxplot(y\u001b[39m=\u001b[39mdata[col], hue\u001b[39m=\u001b[39mdata[\u001b[39m'\u001b[39;49m\u001b[39mcategorical_label\u001b[39;49m\u001b[39m'\u001b[39;49m])\n\u001b[1;32m      6\u001b[0m plt\u001b[39m.\u001b[39mylabel(col, labelpad\u001b[39m=\u001b[39m\u001b[39m12.5\u001b[39m)\n\u001b[1;32m      9\u001b[0m plt\u001b[39m.\u001b[39mshow()\n",
      "File \u001b[0;32m~/miniforge3/envs/nlpEnv/lib/python3.11/site-packages/pandas/core/frame.py:3805\u001b[0m, in \u001b[0;36mDataFrame.__getitem__\u001b[0;34m(self, key)\u001b[0m\n\u001b[1;32m   3803\u001b[0m \u001b[39mif\u001b[39;00m \u001b[39mself\u001b[39m\u001b[39m.\u001b[39mcolumns\u001b[39m.\u001b[39mnlevels \u001b[39m>\u001b[39m \u001b[39m1\u001b[39m:\n\u001b[1;32m   3804\u001b[0m     \u001b[39mreturn\u001b[39;00m \u001b[39mself\u001b[39m\u001b[39m.\u001b[39m_getitem_multilevel(key)\n\u001b[0;32m-> 3805\u001b[0m indexer \u001b[39m=\u001b[39m \u001b[39mself\u001b[39;49m\u001b[39m.\u001b[39;49mcolumns\u001b[39m.\u001b[39;49mget_loc(key)\n\u001b[1;32m   3806\u001b[0m \u001b[39mif\u001b[39;00m is_integer(indexer):\n\u001b[1;32m   3807\u001b[0m     indexer \u001b[39m=\u001b[39m [indexer]\n",
      "File \u001b[0;32m~/miniforge3/envs/nlpEnv/lib/python3.11/site-packages/pandas/core/indexes/base.py:3805\u001b[0m, in \u001b[0;36mIndex.get_loc\u001b[0;34m(self, key, method, tolerance)\u001b[0m\n\u001b[1;32m   3803\u001b[0m     \u001b[39mreturn\u001b[39;00m \u001b[39mself\u001b[39m\u001b[39m.\u001b[39m_engine\u001b[39m.\u001b[39mget_loc(casted_key)\n\u001b[1;32m   3804\u001b[0m \u001b[39mexcept\u001b[39;00m \u001b[39mKeyError\u001b[39;00m \u001b[39mas\u001b[39;00m err:\n\u001b[0;32m-> 3805\u001b[0m     \u001b[39mraise\u001b[39;00m \u001b[39mKeyError\u001b[39;00m(key) \u001b[39mfrom\u001b[39;00m \u001b[39merr\u001b[39;00m\n\u001b[1;32m   3806\u001b[0m \u001b[39mexcept\u001b[39;00m \u001b[39mTypeError\u001b[39;00m:\n\u001b[1;32m   3807\u001b[0m     \u001b[39m# If we have a listlike key, _check_indexing_error will raise\u001b[39;00m\n\u001b[1;32m   3808\u001b[0m     \u001b[39m#  InvalidIndexError. Otherwise we fall through and re-raise\u001b[39;00m\n\u001b[1;32m   3809\u001b[0m     \u001b[39m#  the TypeError.\u001b[39;00m\n\u001b[1;32m   3810\u001b[0m     \u001b[39mself\u001b[39m\u001b[39m.\u001b[39m_check_indexing_error(key)\n",
      "\u001b[0;31mKeyError\u001b[0m: 'categorical_label'"
     ]
    },
    {
     "data": {
      "image/png": "[encoded data removed]",
      "text/plain": [
       "<Figure size 640x480 with 1 Axes>"
      ]
     },
     "metadata": {},
     "output_type": "display_data"
    }
   ],
   "source": [
    "features = data.columns.tolist()[2:]\n",
    "for feature in features:\n",
    "    visualize(feature)"
   ]
  },
  {
   "cell_type": "code",
   "execution_count": 19,
   "metadata": {},
   "outputs": [
    {
     "data": {
      "text/html": [
       "<div>\n",
       "<style scoped>\n",
       "    .dataframe tbody tr th:only-of-type {\n",
       "        vertical-align: middle;\n",
       "    }\n",
       "\n",
       "    .dataframe tbody tr th {\n",
       "        vertical-align: top;\n",
       "    }\n",
       "\n",
       "    .dataframe thead th {\n",
       "        text-align: right;\n",
       "    }\n",
       "</style>\n",
       "<table border=\"1\" class=\"dataframe\">\n",
       "  <thead>\n",
       "    <tr style=\"text-align: right;\">\n",
       "      <th></th>\n",
       "      <th>JobRefNo</th>\n",
       "      <th>DigerPozisyon</th>\n",
       "      <th>Qualifications</th>\n",
       "      <th>Classification</th>\n",
       "      <th>Qualifications_HtmlFree</th>\n",
       "      <th>Length</th>\n",
       "      <th>Word_count</th>\n",
       "      <th>mean_word_length</th>\n",
       "      <th>mean_sent_length</th>\n",
       "      <th>categorical_label</th>\n",
       "    </tr>\n",
       "  </thead>\n",
       "  <tbody>\n",
       "    <tr>\n",
       "      <th>0</th>\n",
       "      <td>3464108</td>\n",
       "      <td>Bilgisayar Mühendisi</td>\n",
       "      <td>&lt;p&gt;3464105346410534641053464105346410534641053...</td>\n",
       "      <td>Bilgi Teknolojileri</td>\n",
       "      <td>3464105346410534641053464105346410534641053464...</td>\n",
       "      <td>126</td>\n",
       "      <td>1</td>\n",
       "      <td>126.0</td>\n",
       "      <td>126.0</td>\n",
       "      <td>1</td>\n",
       "    </tr>\n",
       "    <tr>\n",
       "      <th>1</th>\n",
       "      <td>3464068</td>\n",
       "      <td>Yazılım Geliştirme Elemanı</td>\n",
       "      <td>&lt;p&gt;sskjdkjsdksajl sksakjdlkajdladl dskjlksjlks...</td>\n",
       "      <td>Bilgi Teknolojileri</td>\n",
       "      <td>sskjdkjsdksajl sksakjdlkajdladl dskjlksjlksajl...</td>\n",
       "      <td>111</td>\n",
       "      <td>5</td>\n",
       "      <td>21.4</td>\n",
       "      <td>111.0</td>\n",
       "      <td>1</td>\n",
       "    </tr>\n",
       "  </tbody>\n",
       "</table>\n",
       "</div>"
      ],
      "text/plain": [
       "   JobRefNo               DigerPozisyon  \\\n",
       "0   3464108        Bilgisayar Mühendisi   \n",
       "1   3464068  Yazılım Geliştirme Elemanı   \n",
       "\n",
       "                                      Qualifications       Classification  \\\n",
       "0  <p>3464105346410534641053464105346410534641053...  Bilgi Teknolojileri   \n",
       "1  <p>sskjdkjsdksajl sksakjdlkajdladl dskjlksjlks...  Bilgi Teknolojileri   \n",
       "\n",
       "                             Qualifications_HtmlFree  Length  Word_count  \\\n",
       "0  3464105346410534641053464105346410534641053464...     126           1   \n",
       "1  sskjdkjsdksajl sksakjdlkajdladl dskjlksjlksajl...     111           5   \n",
       "\n",
       "   mean_word_length  mean_sent_length  categorical_label  \n",
       "0             126.0             126.0                  1  \n",
       "1              21.4             111.0                  1  "
      ]
     },
     "execution_count": 19,
     "metadata": {},
     "output_type": "execute_result"
    }
   ],
   "source": [
    "from sklearn import preprocessing\n",
    "\n",
    "le = preprocessing.LabelEncoder()\n",
    "le.fit(data.Classification)\n",
    "data['categorical_label'] = le.transform(data.Classification)\n",
    "data['categorical_label'] = data['categorical_label'].astype(int)\n",
    "data.head(2)\n",
    "#inverse_transform ile de label'ları geri alabiliriz.  le.inverse_transform(df['categorical_label'])\n"
   ]
  },
  {
   "cell_type": "code",
   "execution_count": 20,
   "metadata": {},
   "outputs": [],
   "source": [
    "data = data[['JobRefNo','DigerPozisyon','Qualifications','Classification','Qualifications_HtmlFree','categorical_label','Length','Word_count','mean_word_length','mean_sent_length']]"
   ]
  },
  {
   "cell_type": "code",
   "execution_count": 21,
   "metadata": {},
   "outputs": [
    {
     "data": {
      "text/plain": [
       "['Length', 'Word_count', 'mean_word_length', 'mean_sent_length']"
      ]
     },
     "execution_count": 21,
     "metadata": {},
     "output_type": "execute_result"
    }
   ],
   "source": [
    "data.columns.tolist()[6:]"
   ]
  },
  {
   "cell_type": "code",
   "execution_count": 22,
   "metadata": {},
   "outputs": [
    {
     "name": "stdout",
     "output_type": "stream",
     "text": [
      "\n"
     ]
    },
    {
     "data": {
      "image/png": "[encoded data removed]",
      "text/plain": [
       "<Figure size 640x480 with 1 Axes>"
      ]
     },
     "metadata": {},
     "output_type": "display_data"
    },
    {
     "name": "stdout",
     "output_type": "stream",
     "text": [
      "\n"
     ]
    },
    {
     "data": {
      "image/png": "[encoded data removed]",
      "text/plain": [
       "<Figure size 640x480 with 1 Axes>"
      ]
     },
     "metadata": {},
     "output_type": "display_data"
    },
    {
     "name": "stdout",
     "output_type": "stream",
     "text": [
      "\n"
     ]
    },
    {
     "data": {
      "image/png": "[encoded data removed]",
      "text/plain": [
       "<Figure size 640x480 with 1 Axes>"
      ]
     },
     "metadata": {},
     "output_type": "display_data"
    },
    {
     "name": "stdout",
     "output_type": "stream",
     "text": [
      "\n"
     ]
    },
    {
     "data": {
      "image/png": "[encoded data removed]",
      "text/plain": [
       "<Figure size 640x480 with 1 Axes>"
      ]
     },
     "metadata": {},
     "output_type": "display_data"
    }
   ],
   "source": [
    "features = data.columns.tolist()[6:]\n",
    "for feature in features:\n",
    "    visualize(feature)"
   ]
  },
  {
   "attachments": {},
   "cell_type": "markdown",
   "metadata": {},
   "source": [
    "## Term Frequency Analysis\n",
    "Examining the most frequently occuring words is one of the most popular systems of Text analytics. For example, in a sentiment analysis problem, a positive text is bound to have words like 'good', 'great', 'nice', etc. more in number than other words that imply otherwise.\n",
    "\n",
    "*Note*: Term Frequencies are more than counts and lenghts, so the first requirement is to preprocess the text"
   ]
  },
  {
   "cell_type": "code",
   "execution_count": 23,
   "metadata": {},
   "outputs": [
    {
     "data": {
      "text/html": [
       "<div>\n",
       "<style scoped>\n",
       "    .dataframe tbody tr th:only-of-type {\n",
       "        vertical-align: middle;\n",
       "    }\n",
       "\n",
       "    .dataframe tbody tr th {\n",
       "        vertical-align: top;\n",
       "    }\n",
       "\n",
       "    .dataframe thead th {\n",
       "        text-align: right;\n",
       "    }\n",
       "</style>\n",
       "<table border=\"1\" class=\"dataframe\">\n",
       "  <thead>\n",
       "    <tr style=\"text-align: right;\">\n",
       "      <th></th>\n",
       "      <th>JobRefNo</th>\n",
       "      <th>DigerPozisyon</th>\n",
       "      <th>Qualifications</th>\n",
       "      <th>Classification</th>\n",
       "      <th>Qualifications_HtmlFree</th>\n",
       "      <th>categorical_label</th>\n",
       "    </tr>\n",
       "  </thead>\n",
       "  <tbody>\n",
       "    <tr>\n",
       "      <th>0</th>\n",
       "      <td>3464108</td>\n",
       "      <td>Bilgisayar Mühendisi</td>\n",
       "      <td>&lt;p&gt;3464105346410534641053464105346410534641053...</td>\n",
       "      <td>Bilgi Teknolojileri</td>\n",
       "      <td>3464105346410534641053464105346410534641053464...</td>\n",
       "      <td>1</td>\n",
       "    </tr>\n",
       "    <tr>\n",
       "      <th>1</th>\n",
       "      <td>3464068</td>\n",
       "      <td>Yazılım Geliştirme Elemanı</td>\n",
       "      <td>&lt;p&gt;sskjdkjsdksajl sksakjdlkajdladl dskjlksjlks...</td>\n",
       "      <td>Bilgi Teknolojileri</td>\n",
       "      <td>sskjdkjsdksajl sksakjdlkajdladl dskjlksjlksajl...</td>\n",
       "      <td>1</td>\n",
       "    </tr>\n",
       "    <tr>\n",
       "      <th>2</th>\n",
       "      <td>3464018</td>\n",
       "      <td>Grafik Tasarımcı</td>\n",
       "      <td>&lt;p&gt;Şartlar&lt;/p&gt;&lt;p&gt;08.30 - 18.30 arası mesai saa...</td>\n",
       "      <td>Bilgi Teknolojileri</td>\n",
       "      <td>Şartlar 08.30 - 18.30 arası mesai saatleri. Sa...</td>\n",
       "      <td>1</td>\n",
       "    </tr>\n",
       "    <tr>\n",
       "      <th>3</th>\n",
       "      <td>3463995</td>\n",
       "      <td>Full Stack Developer</td>\n",
       "      <td>&lt;p&gt;Yeditek Yeni Dijital Teknolojiler A.Ş.&lt;/p&gt;&lt;...</td>\n",
       "      <td>Bilgi Teknolojileri</td>\n",
       "      <td>Yeditek Yeni Dijital Teknolojiler A.Ş. Yeditek...</td>\n",
       "      <td>1</td>\n",
       "    </tr>\n",
       "    <tr>\n",
       "      <th>4</th>\n",
       "      <td>3463739</td>\n",
       "      <td>Multimedya Tasarım Uzmanı</td>\n",
       "      <td>&lt;p&gt;Türkiye'de eğitim teknolojileri alanının il...</td>\n",
       "      <td>Bilgi Teknolojileri</td>\n",
       "      <td>Türkiye'de eğitim teknolojileri alanının ilk v...</td>\n",
       "      <td>1</td>\n",
       "    </tr>\n",
       "  </tbody>\n",
       "</table>\n",
       "</div>"
      ],
      "text/plain": [
       "   JobRefNo               DigerPozisyon  \\\n",
       "0   3464108        Bilgisayar Mühendisi   \n",
       "1   3464068  Yazılım Geliştirme Elemanı   \n",
       "2   3464018            Grafik Tasarımcı   \n",
       "3   3463995        Full Stack Developer   \n",
       "4   3463739   Multimedya Tasarım Uzmanı   \n",
       "\n",
       "                                      Qualifications       Classification  \\\n",
       "0  <p>3464105346410534641053464105346410534641053...  Bilgi Teknolojileri   \n",
       "1  <p>sskjdkjsdksajl sksakjdlkajdladl dskjlksjlks...  Bilgi Teknolojileri   \n",
       "2  <p>Şartlar</p><p>08.30 - 18.30 arası mesai saa...  Bilgi Teknolojileri   \n",
       "3  <p>Yeditek Yeni Dijital Teknolojiler A.Ş.</p><...  Bilgi Teknolojileri   \n",
       "4  <p>Türkiye'de eğitim teknolojileri alanının il...  Bilgi Teknolojileri   \n",
       "\n",
       "                             Qualifications_HtmlFree  categorical_label  \n",
       "0  3464105346410534641053464105346410534641053464...                  1  \n",
       "1  sskjdkjsdksajl sksakjdlkajdladl dskjlksjlksajl...                  1  \n",
       "2  Şartlar 08.30 - 18.30 arası mesai saatleri. Sa...                  1  \n",
       "3  Yeditek Yeni Dijital Teknolojiler A.Ş. Yeditek...                  1  \n",
       "4  Türkiye'de eğitim teknolojileri alanının ilk v...                  1  "
      ]
     },
     "execution_count": 23,
     "metadata": {},
     "output_type": "execute_result"
    }
   ],
   "source": [
    "df = data.drop(features, axis=1)\n",
    "df.head()"
   ]
  },
  {
   "cell_type": "code",
   "execution_count": 24,
   "metadata": {},
   "outputs": [
    {
     "name": "stdout",
     "output_type": "stream",
     "text": [
      "<class 'pandas.core.frame.DataFrame'>\n",
      "RangeIndex: 15000 entries, 0 to 14999\n",
      "Data columns (total 6 columns):\n",
      " #   Column                   Non-Null Count  Dtype \n",
      "---  ------                   --------------  ----- \n",
      " 0   JobRefNo                 15000 non-null  int64 \n",
      " 1   DigerPozisyon            15000 non-null  object\n",
      " 2   Qualifications           15000 non-null  object\n",
      " 3   Classification           15000 non-null  object\n",
      " 4   Qualifications_HtmlFree  15000 non-null  object\n",
      " 5   categorical_label        15000 non-null  int64 \n",
      "dtypes: int64(2), object(4)\n",
      "memory usage: 703.2+ KB\n"
     ]
    }
   ],
   "source": [
    "df.info()"
   ]
  },
  {
   "attachments": {},
   "cell_type": "markdown",
   "metadata": {},
   "source": [
    "There is no missing data, therefore, we can move to the next stage. For Term frequency analysis, it is essential that the text data be preprocessed.\n",
    "* Lowercase\n",
    "* Remove punctutations\n",
    "* Stopword removal"
   ]
  },
  {
   "cell_type": "code",
   "execution_count": 25,
   "metadata": {},
   "outputs": [],
   "source": [
    "stopwordList = stopwords.words('english') + stopwords.words('turkish')\n"
   ]
  },
  {
   "cell_type": "code",
   "execution_count": 30,
   "metadata": {},
   "outputs": [
    {
     "data": {
      "text/plain": [
       "['acaba',\n",
       " 'ama',\n",
       " 'aslında',\n",
       " 'az',\n",
       " 'bazı',\n",
       " 'belki',\n",
       " 'biri',\n",
       " 'birkaç',\n",
       " 'birşey',\n",
       " 'biz',\n",
       " 'bu',\n",
       " 'çok',\n",
       " 'çünkü',\n",
       " 'da',\n",
       " 'daha',\n",
       " 'de',\n",
       " 'defa',\n",
       " 'diye',\n",
       " 'eğer',\n",
       " 'en',\n",
       " 'gibi',\n",
       " 'hem',\n",
       " 'hep',\n",
       " 'hepsi',\n",
       " 'her',\n",
       " 'hiç',\n",
       " 'için',\n",
       " 'ile',\n",
       " 'ise',\n",
       " 'kez',\n",
       " 'ki',\n",
       " 'kim',\n",
       " 'mı',\n",
       " 'mu',\n",
       " 'mü',\n",
       " 'nasıl',\n",
       " 'ne',\n",
       " 'neden',\n",
       " 'nerde',\n",
       " 'nerede',\n",
       " 'nereye',\n",
       " 'niçin',\n",
       " 'niye',\n",
       " 'o',\n",
       " 'sanki',\n",
       " 'şey',\n",
       " 'siz',\n",
       " 'şu',\n",
       " 'tüm',\n",
       " 've',\n",
       " 'veya',\n",
       " 'ya',\n",
       " 'yani']"
      ]
     },
     "execution_count": 30,
     "metadata": {},
     "output_type": "execute_result"
    }
   ],
   "source": [
    "stopwords.words('turkish')"
   ]
  },
  {
   "cell_type": "code",
   "execution_count": 26,
   "metadata": {},
   "outputs": [],
   "source": [
    "def clean(review):\n",
    "    \n",
    "    review = review.lower()\n",
    "    review = re.sub('[^a-z A-Z 0-9-]+', ' ', review)\n",
    "    review = \" \".join([word for word in review.split() if word not in stopwordList])\n",
    "    \n",
    "    return review"
   ]
  },
  {
   "cell_type": "code",
   "execution_count": 27,
   "metadata": {},
   "outputs": [
    {
     "name": "stderr",
     "output_type": "stream",
     "text": [
      "/var/folders/r6/1jr_vtfx3zg7ypvnvh2p1s0w0000gp/T/ipykernel_46747/4044826481.py:1: SettingWithCopyWarning: \n",
      "A value is trying to be set on a copy of a slice from a DataFrame.\n",
      "Try using .loc[row_indexer,col_indexer] = value instead\n",
      "\n",
      "See the caveats in the documentation: https://pandas.pydata.org/pandas-docs/stable/user_guide/indexing.html#returning-a-view-versus-a-copy\n",
      "  data['Clean'] = data['Qualifications_HtmlFree'].apply(clean)\n"
     ]
    },
    {
     "data": {
      "text/html": [
       "<div>\n",
       "<style scoped>\n",
       "    .dataframe tbody tr th:only-of-type {\n",
       "        vertical-align: middle;\n",
       "    }\n",
       "\n",
       "    .dataframe tbody tr th {\n",
       "        vertical-align: top;\n",
       "    }\n",
       "\n",
       "    .dataframe thead th {\n",
       "        text-align: right;\n",
       "    }\n",
       "</style>\n",
       "<table border=\"1\" class=\"dataframe\">\n",
       "  <thead>\n",
       "    <tr style=\"text-align: right;\">\n",
       "      <th></th>\n",
       "      <th>JobRefNo</th>\n",
       "      <th>DigerPozisyon</th>\n",
       "      <th>Qualifications</th>\n",
       "      <th>Classification</th>\n",
       "      <th>Qualifications_HtmlFree</th>\n",
       "      <th>categorical_label</th>\n",
       "      <th>Length</th>\n",
       "      <th>Word_count</th>\n",
       "      <th>mean_word_length</th>\n",
       "      <th>mean_sent_length</th>\n",
       "      <th>Clean</th>\n",
       "    </tr>\n",
       "  </thead>\n",
       "  <tbody>\n",
       "    <tr>\n",
       "      <th>0</th>\n",
       "      <td>3464108</td>\n",
       "      <td>Bilgisayar Mühendisi</td>\n",
       "      <td>&lt;p&gt;3464105346410534641053464105346410534641053...</td>\n",
       "      <td>Bilgi Teknolojileri</td>\n",
       "      <td>3464105346410534641053464105346410534641053464...</td>\n",
       "      <td>1</td>\n",
       "      <td>126</td>\n",
       "      <td>1</td>\n",
       "      <td>126.000000</td>\n",
       "      <td>126.0</td>\n",
       "      <td>3464105346410534641053464105346410534641053464...</td>\n",
       "    </tr>\n",
       "    <tr>\n",
       "      <th>1</th>\n",
       "      <td>3464068</td>\n",
       "      <td>Yazılım Geliştirme Elemanı</td>\n",
       "      <td>&lt;p&gt;sskjdkjsdksajl sksakjdlkajdladl dskjlksjlks...</td>\n",
       "      <td>Bilgi Teknolojileri</td>\n",
       "      <td>sskjdkjsdksajl sksakjdlkajdladl dskjlksjlksajl...</td>\n",
       "      <td>1</td>\n",
       "      <td>111</td>\n",
       "      <td>5</td>\n",
       "      <td>21.400000</td>\n",
       "      <td>111.0</td>\n",
       "      <td>sskjdkjsdksajl sksakjdlkajdladl dskjlksjlksajl...</td>\n",
       "    </tr>\n",
       "    <tr>\n",
       "      <th>2</th>\n",
       "      <td>3464018</td>\n",
       "      <td>Grafik Tasarımcı</td>\n",
       "      <td>&lt;p&gt;Şartlar&lt;/p&gt;&lt;p&gt;08.30 - 18.30 arası mesai saa...</td>\n",
       "      <td>Bilgi Teknolojileri</td>\n",
       "      <td>Şartlar 08.30 - 18.30 arası mesai saatleri. Sa...</td>\n",
       "      <td>1</td>\n",
       "      <td>623</td>\n",
       "      <td>81</td>\n",
       "      <td>6.679012</td>\n",
       "      <td>88.0</td>\n",
       "      <td>artlar 08 30 - 18 30 aras mesai saatleri sadec...</td>\n",
       "    </tr>\n",
       "  </tbody>\n",
       "</table>\n",
       "</div>"
      ],
      "text/plain": [
       "   JobRefNo               DigerPozisyon  \\\n",
       "0   3464108        Bilgisayar Mühendisi   \n",
       "1   3464068  Yazılım Geliştirme Elemanı   \n",
       "2   3464018            Grafik Tasarımcı   \n",
       "\n",
       "                                      Qualifications       Classification  \\\n",
       "0  <p>3464105346410534641053464105346410534641053...  Bilgi Teknolojileri   \n",
       "1  <p>sskjdkjsdksajl sksakjdlkajdladl dskjlksjlks...  Bilgi Teknolojileri   \n",
       "2  <p>Şartlar</p><p>08.30 - 18.30 arası mesai saa...  Bilgi Teknolojileri   \n",
       "\n",
       "                             Qualifications_HtmlFree  categorical_label  \\\n",
       "0  3464105346410534641053464105346410534641053464...                  1   \n",
       "1  sskjdkjsdksajl sksakjdlkajdladl dskjlksjlksajl...                  1   \n",
       "2  Şartlar 08.30 - 18.30 arası mesai saatleri. Sa...                  1   \n",
       "\n",
       "   Length  Word_count  mean_word_length  mean_sent_length  \\\n",
       "0     126           1        126.000000             126.0   \n",
       "1     111           5         21.400000             111.0   \n",
       "2     623          81          6.679012              88.0   \n",
       "\n",
       "                                               Clean  \n",
       "0  3464105346410534641053464105346410534641053464...  \n",
       "1  sskjdkjsdksajl sksakjdlkajdladl dskjlksjlksajl...  \n",
       "2  artlar 08 30 - 18 30 aras mesai saatleri sadec...  "
      ]
     },
     "execution_count": 27,
     "metadata": {},
     "output_type": "execute_result"
    }
   ],
   "source": [
    "data['Clean'] = data['Qualifications_HtmlFree'].apply(clean)\n",
    "data.head(3)"
   ]
  },
  {
   "cell_type": "code",
   "execution_count": 28,
   "metadata": {},
   "outputs": [],
   "source": [
    "data.to_csv('../../Data/cleanedJobs.csv', index=False)"
   ]
  },
  {
   "cell_type": "code",
   "execution_count": 27,
   "metadata": {},
   "outputs": [],
   "source": [
    "def corpus(text):\n",
    "    text_list = text.split()\n",
    "    return text_list"
   ]
  },
  {
   "cell_type": "code",
   "execution_count": 28,
   "metadata": {},
   "outputs": [
    {
     "name": "stderr",
     "output_type": "stream",
     "text": [
      "/var/folders/r6/1jr_vtfx3zg7ypvnvh2p1s0w0000gp/T/ipykernel_38433/368860482.py:1: SettingWithCopyWarning: \n",
      "A value is trying to be set on a copy of a slice from a DataFrame.\n",
      "Try using .loc[row_indexer,col_indexer] = value instead\n",
      "\n",
      "See the caveats in the documentation: https://pandas.pydata.org/pandas-docs/stable/user_guide/indexing.html#returning-a-view-versus-a-copy\n",
      "  data['Clean_lists'] = data['Clean'].apply(corpus)\n"
     ]
    },
    {
     "data": {
      "text/html": [
       "<div>\n",
       "<style scoped>\n",
       "    .dataframe tbody tr th:only-of-type {\n",
       "        vertical-align: middle;\n",
       "    }\n",
       "\n",
       "    .dataframe tbody tr th {\n",
       "        vertical-align: top;\n",
       "    }\n",
       "\n",
       "    .dataframe thead th {\n",
       "        text-align: right;\n",
       "    }\n",
       "</style>\n",
       "<table border=\"1\" class=\"dataframe\">\n",
       "  <thead>\n",
       "    <tr style=\"text-align: right;\">\n",
       "      <th></th>\n",
       "      <th>JobRefNo</th>\n",
       "      <th>DigerPozisyon</th>\n",
       "      <th>Qualifications</th>\n",
       "      <th>Classification</th>\n",
       "      <th>Qualifications_HtmlFree</th>\n",
       "      <th>categorical_label</th>\n",
       "      <th>Length</th>\n",
       "      <th>Word_count</th>\n",
       "      <th>mean_word_length</th>\n",
       "      <th>mean_sent_length</th>\n",
       "      <th>Clean</th>\n",
       "      <th>Clean_lists</th>\n",
       "    </tr>\n",
       "  </thead>\n",
       "  <tbody>\n",
       "    <tr>\n",
       "      <th>0</th>\n",
       "      <td>3464108</td>\n",
       "      <td>Bilgisayar Mühendisi</td>\n",
       "      <td>&lt;p&gt;3464105346410534641053464105346410534641053...</td>\n",
       "      <td>Bilgi Teknolojileri</td>\n",
       "      <td>3464105346410534641053464105346410534641053464...</td>\n",
       "      <td>1</td>\n",
       "      <td>126</td>\n",
       "      <td>1</td>\n",
       "      <td>126.000000</td>\n",
       "      <td>126.0</td>\n",
       "      <td>3464105346410534641053464105346410534641053464...</td>\n",
       "      <td>[346410534641053464105346410534641053464105346...</td>\n",
       "    </tr>\n",
       "    <tr>\n",
       "      <th>1</th>\n",
       "      <td>3464068</td>\n",
       "      <td>Yazılım Geliştirme Elemanı</td>\n",
       "      <td>&lt;p&gt;sskjdkjsdksajl sksakjdlkajdladl dskjlksjlks...</td>\n",
       "      <td>Bilgi Teknolojileri</td>\n",
       "      <td>sskjdkjsdksajl sksakjdlkajdladl dskjlksjlksajl...</td>\n",
       "      <td>1</td>\n",
       "      <td>111</td>\n",
       "      <td>5</td>\n",
       "      <td>21.400000</td>\n",
       "      <td>111.0</td>\n",
       "      <td>sskjdkjsdksajl sksakjdlkajdladl dskjlksjlksajl...</td>\n",
       "      <td>[sskjdkjsdksajl, sksakjdlkajdladl, dskjlksjlks...</td>\n",
       "    </tr>\n",
       "    <tr>\n",
       "      <th>2</th>\n",
       "      <td>3464018</td>\n",
       "      <td>Grafik Tasarımcı</td>\n",
       "      <td>&lt;p&gt;Şartlar&lt;/p&gt;&lt;p&gt;08.30 - 18.30 arası mesai saa...</td>\n",
       "      <td>Bilgi Teknolojileri</td>\n",
       "      <td>Şartlar 08.30 - 18.30 arası mesai saatleri. Sa...</td>\n",
       "      <td>1</td>\n",
       "      <td>623</td>\n",
       "      <td>81</td>\n",
       "      <td>6.679012</td>\n",
       "      <td>88.0</td>\n",
       "      <td>artlar 0830 - 1830 aras mesai saatleri sadece ...</td>\n",
       "      <td>[artlar, 0830, -, 1830, aras, mesai, saatleri,...</td>\n",
       "    </tr>\n",
       "  </tbody>\n",
       "</table>\n",
       "</div>"
      ],
      "text/plain": [
       "   JobRefNo               DigerPozisyon  \\\n",
       "0   3464108        Bilgisayar Mühendisi   \n",
       "1   3464068  Yazılım Geliştirme Elemanı   \n",
       "2   3464018            Grafik Tasarımcı   \n",
       "\n",
       "                                      Qualifications       Classification  \\\n",
       "0  <p>3464105346410534641053464105346410534641053...  Bilgi Teknolojileri   \n",
       "1  <p>sskjdkjsdksajl sksakjdlkajdladl dskjlksjlks...  Bilgi Teknolojileri   \n",
       "2  <p>Şartlar</p><p>08.30 - 18.30 arası mesai saa...  Bilgi Teknolojileri   \n",
       "\n",
       "                             Qualifications_HtmlFree  categorical_label  \\\n",
       "0  3464105346410534641053464105346410534641053464...                  1   \n",
       "1  sskjdkjsdksajl sksakjdlkajdladl dskjlksjlksajl...                  1   \n",
       "2  Şartlar 08.30 - 18.30 arası mesai saatleri. Sa...                  1   \n",
       "\n",
       "   Length  Word_count  mean_word_length  mean_sent_length  \\\n",
       "0     126           1        126.000000             126.0   \n",
       "1     111           5         21.400000             111.0   \n",
       "2     623          81          6.679012              88.0   \n",
       "\n",
       "                                               Clean  \\\n",
       "0  3464105346410534641053464105346410534641053464...   \n",
       "1  sskjdkjsdksajl sksakjdlkajdladl dskjlksjlksajl...   \n",
       "2  artlar 0830 - 1830 aras mesai saatleri sadece ...   \n",
       "\n",
       "                                         Clean_lists  \n",
       "0  [346410534641053464105346410534641053464105346...  \n",
       "1  [sskjdkjsdksajl, sksakjdlkajdladl, dskjlksjlks...  \n",
       "2  [artlar, 0830, -, 1830, aras, mesai, saatleri,...  "
      ]
     },
     "execution_count": 28,
     "metadata": {},
     "output_type": "execute_result"
    }
   ],
   "source": [
    "data['Clean_lists'] = data['Clean'].apply(corpus)\n",
    "data.head(3)"
   ]
  },
  {
   "cell_type": "code",
   "execution_count": 29,
   "metadata": {},
   "outputs": [
    {
     "name": "stderr",
     "output_type": "stream",
     "text": [
      "100%|\u001b[32m███████████████████████████████████████████████████████████████████████████████████████████████████████\u001b[0m| 15000/15000 [00:00<00:00, 384920.95it/s]\u001b[0m\n"
     ]
    },
    {
     "data": {
      "text/plain": [
       "2016537"
      ]
     },
     "execution_count": 29,
     "metadata": {},
     "output_type": "execute_result"
    }
   ],
   "source": [
    "corpus = []\n",
    "for i in trange(data.shape[0], ncols=150, nrows=10, colour='green', smoothing=0.8):\n",
    "    corpus += data['Clean_lists'][i]\n",
    "len(corpus)"
   ]
  },
  {
   "cell_type": "code",
   "execution_count": 30,
   "metadata": {},
   "outputs": [
    {
     "data": {
      "text/plain": [
       "[('sahip', 14027),\n",
       " ('iin', 13966),\n",
       " ('olan', 13724),\n",
       " ('tercihen', 10330),\n",
       " ('ilgili', 9870),\n",
       " ('olarak', 8966),\n",
       " ('takip', 8565),\n",
       " ('alma', 8535),\n",
       " ('konusunda', 8483),\n",
       " ('sahibi', 8435)]"
      ]
     },
     "execution_count": 30,
     "metadata": {},
     "output_type": "execute_result"
    }
   ],
   "source": [
    "mostCommon = Counter(corpus).most_common(10)\n",
    "mostCommon"
   ]
  },
  {
   "cell_type": "code",
   "execution_count": 31,
   "metadata": {},
   "outputs": [],
   "source": [
    "words = []\n",
    "freq = []\n",
    "for word, count in mostCommon:\n",
    "    words.append(word)\n",
    "    freq.append(count)"
   ]
  },
  {
   "cell_type": "code",
   "execution_count": 32,
   "metadata": {},
   "outputs": [
    {
     "data": {
      "image/png": "[encoded data removed]",
      "text/plain": [
       "<Figure size 640x480 with 1 Axes>"
      ]
     },
     "metadata": {},
     "output_type": "display_data"
    }
   ],
   "source": [
    "sns.barplot(x=freq, y=words)\n",
    "plt.title('Top 10 Most Frequently Occuring Words')\n",
    "plt.show()"
   ]
  },
  {
   "cell_type": "markdown",
   "metadata": {},
   "source": [
    "## Most Frequently occuring N_grams\n",
    "\n",
    "**What is an N-gram?** <br>\n",
    "An n-gram is sequence of n words in a text. Most words by themselves may not present the entire context. Typically adverbs such as 'most' or 'very' are used to modify verbs and adjectives. Therefore, n-grams help analyse phrases and not just words which can lead to better insights.\n",
    "<br>\n",
    "> A **Bi-gram** means two words in a sequence. 'Very good' or 'Too great'<br>\n",
    "> A **Tri-gram** means three words in a sequence. 'How was your day' would be broken down to 'How was your' and 'was your day'.<br>\n",
    "\n",
    "For separating text into n-grams, we will use `CountVectorizer` from Sklearn"
   ]
  },
  {
   "cell_type": "code",
   "execution_count": 33,
   "metadata": {},
   "outputs": [],
   "source": [
    "cv = CountVectorizer(ngram_range=(2,2))\n",
    "bigrams = cv.fit_transform(data['Clean'])"
   ]
  },
  {
   "cell_type": "code",
   "execution_count": 34,
   "metadata": {},
   "outputs": [],
   "source": [
    "count_values = bigrams.toarray().sum(axis=0)\n",
    "ngram_freq = pd.DataFrame(sorted([(count_values[i], k) for k, i in cv.vocabulary_.items()], reverse = True))\n",
    "ngram_freq.columns = [\"frequency\", \"ngram\"]"
   ]
  },
  {
   "cell_type": "code",
   "execution_count": 35,
   "metadata": {},
   "outputs": [
    {
     "data": {
      "image/png": "[encoded data removed]",
      "text/plain": [
       "<Figure size 640x480 with 1 Axes>"
      ]
     },
     "metadata": {},
     "output_type": "display_data"
    }
   ],
   "source": [
    "sns.barplot(x=ngram_freq['frequency'][:10], y=ngram_freq['ngram'][:10])\n",
    "plt.title('Top 10 Most Frequently Occuring Bigrams')\n",
    "plt.show()"
   ]
  },
  {
   "cell_type": "code",
   "execution_count": 36,
   "metadata": {},
   "outputs": [
    {
     "data": {
      "text/html": [
       "<div>\n",
       "<style scoped>\n",
       "    .dataframe tbody tr th:only-of-type {\n",
       "        vertical-align: middle;\n",
       "    }\n",
       "\n",
       "    .dataframe tbody tr th {\n",
       "        vertical-align: top;\n",
       "    }\n",
       "\n",
       "    .dataframe thead th {\n",
       "        text-align: right;\n",
       "    }\n",
       "</style>\n",
       "<table border=\"1\" class=\"dataframe\">\n",
       "  <thead>\n",
       "    <tr style=\"text-align: right;\">\n",
       "      <th></th>\n",
       "      <th>JobRefNo</th>\n",
       "      <th>DigerPozisyon</th>\n",
       "      <th>Qualifications</th>\n",
       "      <th>Classification</th>\n",
       "      <th>Qualifications_HtmlFree</th>\n",
       "      <th>categorical_label</th>\n",
       "      <th>Length</th>\n",
       "      <th>Word_count</th>\n",
       "      <th>mean_word_length</th>\n",
       "      <th>mean_sent_length</th>\n",
       "      <th>Clean</th>\n",
       "      <th>Clean_lists</th>\n",
       "    </tr>\n",
       "  </thead>\n",
       "  <tbody>\n",
       "    <tr>\n",
       "      <th>0</th>\n",
       "      <td>3464108</td>\n",
       "      <td>Bilgisayar Mühendisi</td>\n",
       "      <td>&lt;p&gt;3464105346410534641053464105346410534641053...</td>\n",
       "      <td>Bilgi Teknolojileri</td>\n",
       "      <td>3464105346410534641053464105346410534641053464...</td>\n",
       "      <td>1</td>\n",
       "      <td>126</td>\n",
       "      <td>1</td>\n",
       "      <td>126.0</td>\n",
       "      <td>126.0</td>\n",
       "      <td>3464105346410534641053464105346410534641053464...</td>\n",
       "      <td>[346410534641053464105346410534641053464105346...</td>\n",
       "    </tr>\n",
       "    <tr>\n",
       "      <th>1</th>\n",
       "      <td>3464068</td>\n",
       "      <td>Yazılım Geliştirme Elemanı</td>\n",
       "      <td>&lt;p&gt;sskjdkjsdksajl sksakjdlkajdladl dskjlksjlks...</td>\n",
       "      <td>Bilgi Teknolojileri</td>\n",
       "      <td>sskjdkjsdksajl sksakjdlkajdladl dskjlksjlksajl...</td>\n",
       "      <td>1</td>\n",
       "      <td>111</td>\n",
       "      <td>5</td>\n",
       "      <td>21.4</td>\n",
       "      <td>111.0</td>\n",
       "      <td>sskjdkjsdksajl sksakjdlkajdladl dskjlksjlksajl...</td>\n",
       "      <td>[sskjdkjsdksajl, sksakjdlkajdladl, dskjlksjlks...</td>\n",
       "    </tr>\n",
       "  </tbody>\n",
       "</table>\n",
       "</div>"
      ],
      "text/plain": [
       "   JobRefNo               DigerPozisyon  \\\n",
       "0   3464108        Bilgisayar Mühendisi   \n",
       "1   3464068  Yazılım Geliştirme Elemanı   \n",
       "\n",
       "                                      Qualifications       Classification  \\\n",
       "0  <p>3464105346410534641053464105346410534641053...  Bilgi Teknolojileri   \n",
       "1  <p>sskjdkjsdksajl sksakjdlkajdladl dskjlksjlks...  Bilgi Teknolojileri   \n",
       "\n",
       "                             Qualifications_HtmlFree  categorical_label  \\\n",
       "0  3464105346410534641053464105346410534641053464...                  1   \n",
       "1  sskjdkjsdksajl sksakjdlkajdladl dskjlksjlksajl...                  1   \n",
       "\n",
       "   Length  Word_count  mean_word_length  mean_sent_length  \\\n",
       "0     126           1             126.0             126.0   \n",
       "1     111           5              21.4             111.0   \n",
       "\n",
       "                                               Clean  \\\n",
       "0  3464105346410534641053464105346410534641053464...   \n",
       "1  sskjdkjsdksajl sksakjdlkajdladl dskjlksjlksajl...   \n",
       "\n",
       "                                         Clean_lists  \n",
       "0  [346410534641053464105346410534641053464105346...  \n",
       "1  [sskjdkjsdksajl, sksakjdlkajdladl, dskjlksjlks...  "
      ]
     },
     "execution_count": 36,
     "metadata": {},
     "output_type": "execute_result"
    }
   ],
   "source": [
    "data.head(2)"
   ]
  },
  {
   "cell_type": "code",
   "execution_count": 38,
   "metadata": {},
   "outputs": [
    {
     "data": {
      "text/html": [
       "<div>\n",
       "<style scoped>\n",
       "    .dataframe tbody tr th:only-of-type {\n",
       "        vertical-align: middle;\n",
       "    }\n",
       "\n",
       "    .dataframe tbody tr th {\n",
       "        vertical-align: top;\n",
       "    }\n",
       "\n",
       "    .dataframe thead th {\n",
       "        text-align: right;\n",
       "    }\n",
       "</style>\n",
       "<table border=\"1\" class=\"dataframe\">\n",
       "  <thead>\n",
       "    <tr style=\"text-align: right;\">\n",
       "      <th></th>\n",
       "      <th>00</th>\n",
       "      <th>000</th>\n",
       "      <th>0000</th>\n",
       "      <th>00011057699</th>\n",
       "      <th>00011357627</th>\n",
       "      <th>00013700881</th>\n",
       "      <th>001</th>\n",
       "      <th>0030</th>\n",
       "      <th>01</th>\n",
       "      <th>0100</th>\n",
       "      <th>...</th>\n",
       "      <th>zveri</th>\n",
       "      <th>zverili</th>\n",
       "      <th>zveriyle</th>\n",
       "      <th>zwangsvollstreckung</th>\n",
       "      <th>zwischen</th>\n",
       "      <th>zyaar</th>\n",
       "      <th>zye</th>\n",
       "      <th>zyein</th>\n",
       "      <th>zyer</th>\n",
       "      <th>zynq</th>\n",
       "    </tr>\n",
       "  </thead>\n",
       "  <tbody>\n",
       "    <tr>\n",
       "      <th>0</th>\n",
       "      <td>0</td>\n",
       "      <td>0</td>\n",
       "      <td>0</td>\n",
       "      <td>0</td>\n",
       "      <td>0</td>\n",
       "      <td>0</td>\n",
       "      <td>0</td>\n",
       "      <td>0</td>\n",
       "      <td>0</td>\n",
       "      <td>0</td>\n",
       "      <td>...</td>\n",
       "      <td>0</td>\n",
       "      <td>0</td>\n",
       "      <td>0</td>\n",
       "      <td>0</td>\n",
       "      <td>0</td>\n",
       "      <td>0</td>\n",
       "      <td>0</td>\n",
       "      <td>0</td>\n",
       "      <td>0</td>\n",
       "      <td>0</td>\n",
       "    </tr>\n",
       "    <tr>\n",
       "      <th>1</th>\n",
       "      <td>0</td>\n",
       "      <td>0</td>\n",
       "      <td>0</td>\n",
       "      <td>0</td>\n",
       "      <td>0</td>\n",
       "      <td>0</td>\n",
       "      <td>0</td>\n",
       "      <td>0</td>\n",
       "      <td>0</td>\n",
       "      <td>0</td>\n",
       "      <td>...</td>\n",
       "      <td>0</td>\n",
       "      <td>0</td>\n",
       "      <td>0</td>\n",
       "      <td>0</td>\n",
       "      <td>0</td>\n",
       "      <td>0</td>\n",
       "      <td>0</td>\n",
       "      <td>0</td>\n",
       "      <td>0</td>\n",
       "      <td>0</td>\n",
       "    </tr>\n",
       "    <tr>\n",
       "      <th>2</th>\n",
       "      <td>0</td>\n",
       "      <td>0</td>\n",
       "      <td>0</td>\n",
       "      <td>0</td>\n",
       "      <td>0</td>\n",
       "      <td>0</td>\n",
       "      <td>0</td>\n",
       "      <td>0</td>\n",
       "      <td>0</td>\n",
       "      <td>0</td>\n",
       "      <td>...</td>\n",
       "      <td>0</td>\n",
       "      <td>0</td>\n",
       "      <td>0</td>\n",
       "      <td>0</td>\n",
       "      <td>0</td>\n",
       "      <td>0</td>\n",
       "      <td>0</td>\n",
       "      <td>0</td>\n",
       "      <td>0</td>\n",
       "      <td>0</td>\n",
       "    </tr>\n",
       "  </tbody>\n",
       "</table>\n",
       "<p>3 rows × 69037 columns</p>\n",
       "</div>"
      ],
      "text/plain": [
       "   00  000  0000  00011057699  00011357627  00013700881  001  0030  01  0100  \\\n",
       "0   0    0     0            0            0            0    0     0   0     0   \n",
       "1   0    0     0            0            0            0    0     0   0     0   \n",
       "2   0    0     0            0            0            0    0     0   0     0   \n",
       "\n",
       "   ...  zveri  zverili  zveriyle  zwangsvollstreckung  zwischen  zyaar  zye  \\\n",
       "0  ...      0        0         0                    0         0      0    0   \n",
       "1  ...      0        0         0                    0         0      0    0   \n",
       "2  ...      0        0         0                    0         0      0    0   \n",
       "\n",
       "   zyein  zyer  zynq  \n",
       "0      0     0     0  \n",
       "1      0     0     0  \n",
       "2      0     0     0  \n",
       "\n",
       "[3 rows x 69037 columns]"
      ]
     },
     "execution_count": 38,
     "metadata": {},
     "output_type": "execute_result"
    }
   ],
   "source": [
    "# Creating Document Term Matrix\n",
    "from sklearn.feature_extraction.text import CountVectorizer\n",
    "\n",
    "cv=CountVectorizer(analyzer='word')\n",
    "data_Transformed =cv.fit_transform(data['Clean'])\n",
    "df_dtm = pd.DataFrame(data_Transformed.toarray(), columns=cv.get_feature_names_out())\n",
    "df_dtm.head(3)"
   ]
  },
  {
   "cell_type": "code",
   "execution_count": 48,
   "metadata": {},
   "outputs": [
    {
     "data": {
      "text/plain": [
       "69037"
      ]
     },
     "execution_count": 48,
     "metadata": {},
     "output_type": "execute_result"
    }
   ],
   "source": [
    "len(cv.get_feature_names_out())"
   ]
  },
  {
   "cell_type": "code",
   "execution_count": null,
   "metadata": {},
   "outputs": [],
   "source": []
  }
 ],
 "metadata": {
  "kernelspec": {
   "display_name": "nlpEnv",
   "language": "python",
   "name": "python3"
  },
  "language_info": {
   "codemirror_mode": {
    "name": "ipython",
    "version": 3
   },
   "file_extension": ".py",
   "mimetype": "text/x-python",
   "name": "python",
   "nbconvert_exporter": "python",
   "pygments_lexer": "ipython3",
   "version": "3.11.0"
  },
  "orig_nbformat": 4
 },
 "nbformat": 4,
 "nbformat_minor": 2
}
