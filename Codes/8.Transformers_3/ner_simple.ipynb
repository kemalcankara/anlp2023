{
 "cells": [
  {
   "cell_type": "code",
   "execution_count": 4,
   "metadata": {},
   "outputs": [
    {
     "data": {
      "application/vnd.jupyter.widget-view+json": {
       "model_id": "46d6d0051db046a7905ae640137a4524",
       "version_major": 2,
       "version_minor": 0
      },
      "text/plain": [
       "Downloading:   0%|          | 0.00/373 [00:00<?, ?B/s]"
      ]
     },
     "metadata": {},
     "output_type": "display_data"
    },
    {
     "data": {
      "application/vnd.jupyter.widget-view+json": {
       "model_id": "c5d5e8a8850948f880a455f044595212",
       "version_major": 2,
       "version_minor": 0
      },
      "text/plain": [
       "Downloading:   0%|          | 0.00/251k [00:00<?, ?B/s]"
      ]
     },
     "metadata": {},
     "output_type": "display_data"
    },
    {
     "data": {
      "application/vnd.jupyter.widget-view+json": {
       "model_id": "5bd9d7357a7d449982c00073ea433292",
       "version_major": 2,
       "version_minor": 0
      },
      "text/plain": [
       "Downloading:   0%|          | 0.00/497k [00:00<?, ?B/s]"
      ]
     },
     "metadata": {},
     "output_type": "display_data"
    },
    {
     "data": {
      "application/vnd.jupyter.widget-view+json": {
       "model_id": "d94c15e31f3d458187b0b6cde2969b5c",
       "version_major": 2,
       "version_minor": 0
      },
      "text/plain": [
       "Downloading:   0%|          | 0.00/112 [00:00<?, ?B/s]"
      ]
     },
     "metadata": {},
     "output_type": "display_data"
    },
    {
     "data": {
      "application/vnd.jupyter.widget-view+json": {
       "model_id": "6b8b34c754214a7d8039a029d4fab4c8",
       "version_major": 2,
       "version_minor": 0
      },
      "text/plain": [
       "Downloading:   0%|          | 0.00/956 [00:00<?, ?B/s]"
      ]
     },
     "metadata": {},
     "output_type": "display_data"
    },
    {
     "data": {
      "application/vnd.jupyter.widget-view+json": {
       "model_id": "ea7a710f8714466bbe0d7a5b01c1a1d7",
       "version_major": 2,
       "version_minor": 0
      },
      "text/plain": [
       "Downloading:   0%|          | 0.00/440M [00:00<?, ?B/s]"
      ]
     },
     "metadata": {},
     "output_type": "display_data"
    }
   ],
   "source": [
    "from transformers import pipeline\n",
    "from transformers import AutoTokenizer, AutoModelForTokenClassification\n",
    "modename='akdeniz27/bert-base-turkish-cased-ner'\n",
    "tokenizer = AutoTokenizer.from_pretrained(modename)#xlm-roberta-large-finetuned-conll03-english\n",
    "model = AutoModelForTokenClassification.from_pretrained(modename)\n",
    "classifier = pipeline(\"ner\", model=model, tokenizer=tokenizer)\n"
   ]
  },
  {
   "cell_type": "code",
   "execution_count": 5,
   "metadata": {},
   "outputs": [
    {
     "data": {
      "text/plain": [
       "[{'entity': 'B-PER',\n",
       "  'score': 0.9988287,\n",
       "  'index': 1,\n",
       "  'word': 'Mustafa',\n",
       "  'start': 0,\n",
       "  'end': 7},\n",
       " {'entity': 'I-PER',\n",
       "  'score': 0.9966143,\n",
       "  'index': 2,\n",
       "  'word': 'Kemal',\n",
       "  'start': 8,\n",
       "  'end': 13},\n",
       " {'entity': 'I-PER',\n",
       "  'score': 0.9963253,\n",
       "  'index': 3,\n",
       "  'word': 'Atatürk',\n",
       "  'start': 14,\n",
       "  'end': 21},\n",
       " {'entity': 'B-LOC',\n",
       "  'score': 0.89734334,\n",
       "  'index': 9,\n",
       "  'word': 'Samsun',\n",
       "  'start': 39,\n",
       "  'end': 45}]"
      ]
     },
     "execution_count": 5,
     "metadata": {},
     "output_type": "execute_result"
    }
   ],
   "source": [
    "classifier(\"Mustafa Kemal Atatürk 19 Mayıs 1919'da Samsun'a çıktı.\")\n"
   ]
  },
  {
   "cell_type": "code",
   "execution_count": 6,
   "metadata": {},
   "outputs": [
    {
     "data": {
      "text/plain": [
       "[{'entity': 'B-ORG',\n",
       "  'score': 0.99594116,\n",
       "  'index': 2,\n",
       "  'word': 'Turkcell',\n",
       "  'start': 4,\n",
       "  'end': 12},\n",
       " {'entity': 'I-ORG',\n",
       "  'score': 0.6197626,\n",
       "  'index': 3,\n",
       "  'word': 'Grup',\n",
       "  'start': 13,\n",
       "  'end': 17},\n",
       " {'entity': 'B-ORG',\n",
       "  'score': 0.9976937,\n",
       "  'index': 9,\n",
       "  'word': 'Turkcell',\n",
       "  'start': 54,\n",
       "  'end': 62},\n",
       " {'entity': 'I-ORG',\n",
       "  'score': 0.99451596,\n",
       "  'index': 10,\n",
       "  'word': 'Global',\n",
       "  'start': 63,\n",
       "  'end': 69},\n",
       " {'entity': 'I-ORG',\n",
       "  'score': 0.99102426,\n",
       "  'index': 11,\n",
       "  'word': 'Bilgi',\n",
       "  'start': 70,\n",
       "  'end': 75},\n",
       " {'entity': 'B-LOC',\n",
       "  'score': 0.99899143,\n",
       "  'index': 13,\n",
       "  'word': 'Türkiye',\n",
       "  'start': 77,\n",
       "  'end': 84},\n",
       " {'entity': 'B-LOC',\n",
       "  'score': 0.9971902,\n",
       "  'index': 17,\n",
       "  'word': 'Ukrayna',\n",
       "  'start': 91,\n",
       "  'end': 98},\n",
       " {'entity': 'B-ORG',\n",
       "  'score': 0.99718755,\n",
       "  'index': 33,\n",
       "  'word': 'Turkcell',\n",
       "  'start': 186,\n",
       "  'end': 194},\n",
       " {'entity': 'I-ORG',\n",
       "  'score': 0.99028885,\n",
       "  'index': 34,\n",
       "  'word': 'Global',\n",
       "  'start': 195,\n",
       "  'end': 201},\n",
       " {'entity': 'I-ORG',\n",
       "  'score': 0.9875761,\n",
       "  'index': 35,\n",
       "  'word': 'Bilgi',\n",
       "  'start': 202,\n",
       "  'end': 207},\n",
       " {'entity': 'B-ORG',\n",
       "  'score': 0.99617225,\n",
       "  'index': 116,\n",
       "  'word': 'Turkcell',\n",
       "  'start': 645,\n",
       "  'end': 653},\n",
       " {'entity': 'I-ORG',\n",
       "  'score': 0.98294294,\n",
       "  'index': 117,\n",
       "  'word': 'Global',\n",
       "  'start': 654,\n",
       "  'end': 660},\n",
       " {'entity': 'I-ORG',\n",
       "  'score': 0.98151934,\n",
       "  'index': 118,\n",
       "  'word': 'Bilgi',\n",
       "  'start': 661,\n",
       "  'end': 666}]"
      ]
     },
     "execution_count": 6,
     "metadata": {},
     "output_type": "execute_result"
    }
   ],
   "source": [
    "text = \"\"\"Bir Turkcell Grup şirketi olarak 1999 yılında kurulan Turkcell Global Bilgi; Türkiye’de ve Ukrayna’da olmak üzere toplam 15 bin çalışanı ile markaların müşteri deneyimini iyileştiriyor. Turkcell Global Bilgi, telekom sektöründeki derin tecrübesinin yanı sıra; finans, e-ticaret, perakende ve havayolları sektörlerindeki uzmanlığı ve geniş müşteri portföyü ile hizmet veriyor. Müşteri deneyimi odaklı sektörel çözümlerle; müşteri hizmetleri, müşteri kazanımı, tele-satış, teknik destek, yardım masası, müşteriyi elde tutma ve sadakat, tahsilat, müşteri değerinin geliştirilmesi, müşteri bilgileri yönetimi ve analizi alanlarında değer yaratıyor.\n",
    "Turkcell Global Bilgi; müşteri deneyimini yüz yüze hizmet (saha ekipleri), telefon, sesli ve görüntülü yanıt sistemleri (IVR & IVVR), e-posta, SMS, web, yeni nesil müşteri deneyimi platformu BiP ve sosyal medya gibi birçok farklı kanaldan yönetiyor.\"\"\"\n",
    "\n",
    "classifier(text)"
   ]
  },
  {
   "cell_type": "code",
   "execution_count": null,
   "metadata": {},
   "outputs": [],
   "source": []
  }
 ],
 "metadata": {
  "kernelspec": {
   "display_name": "nlpEnv",
   "language": "python",
   "name": "python3"
  },
  "language_info": {
   "codemirror_mode": {
    "name": "ipython",
    "version": 3
   },
   "file_extension": ".py",
   "mimetype": "text/x-python",
   "name": "python",
   "nbconvert_exporter": "python",
   "pygments_lexer": "ipython3",
   "version": "3.11.0"
  },
  "orig_nbformat": 4
 },
 "nbformat": 4,
 "nbformat_minor": 2
}
